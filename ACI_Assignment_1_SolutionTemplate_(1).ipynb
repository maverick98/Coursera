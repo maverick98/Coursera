{
  "cells": [
    {
      "cell_type": "markdown",
      "metadata": {
        "id": "view-in-github",
        "colab_type": "text"
      },
      "source": [
        "<a href=\"https://colab.research.google.com/github/maverick98/Coursera/blob/master/ACI_Assignment_1_SolutionTemplate_(1).ipynb\" target=\"_parent\"><img src=\"https://colab.research.google.com/assets/colab-badge.svg\" alt=\"Open In Colab\"/></a>"
      ]
    },
    {
      "cell_type": "markdown",
      "metadata": {
        "id": "MzZ4dJQYF7sH"
      },
      "source": [
        "# Artificial and Computational Intelligence Assignment 1"
      ]
    },
    {
      "cell_type": "markdown",
      "metadata": {
        "id": "Fxb1aE9zF7sK"
      },
      "source": [
        "## Problem solving by Uninformed & Informed Search"
      ]
    },
    {
      "cell_type": "markdown",
      "metadata": {
        "id": "h35jIBbCF7sK"
      },
      "source": [
        "List only the BITS (Name) of active contributors in this assignment:\n",
        "1. ___________________\n",
        "2. __________________\n",
        "3. ____________________\n",
        "4. ___________________\n",
        "5. ___________________"
      ]
    },
    {
      "cell_type": "markdown",
      "metadata": {
        "id": "pt5ygv_zF7sL"
      },
      "source": [
        "Things to follow\n",
        "1.\tUse appropriate data structures to represent the graph and the path using python libraries\n",
        "2.\tProvide proper documentation\n",
        "3.\tFind the path and print it"
      ]
    },
    {
      "cell_type": "markdown",
      "metadata": {
        "id": "wZfop5ElF7sL"
      },
      "source": [
        "Coding begins here"
      ]
    },
    {
      "cell_type": "markdown",
      "metadata": {
        "id": "IL0QDMy3F7sL"
      },
      "source": [
        "### 1.\tDefine the environment in the following block"
      ]
    },
    {
      "cell_type": "markdown",
      "metadata": {
        "id": "RYwJPNLIF7sM"
      },
      "source": [
        "List the PEAS decription of the problem here in this markdown block"
      ]
    },
    {
      "cell_type": "markdown",
      "source": [
        "To define the PEAS (Performance measure, Environment, Actuators, Sensors) of the problem, we need to consider the context of the National Disaster Management team's task to reach Chennai from New Delhi after Cyclone Michaung. Here's how we can break it down:\n",
        "\n",
        "    Performance Measure:\n",
        "        The performance measure evaluates how well the National Disaster Management team can reach Chennai from New Delhi while considering factors like time taken, efficiency, and safety.\n",
        "        Performance can be measured in terms of:\n",
        "            Time taken to reach Chennai\n",
        "            Cost-effectiveness of the route\n",
        "            Safety of the route and team members\n",
        "            Minimization of resource consumption (fuel, manpower, etc.)\n",
        "\n",
        "    Environment:\n",
        "        The environment consists of the conditions in which the team operates. In this case, the environment includes:\n",
        "            Roads, highways, and other transportation routes from New Delhi to Chennai.\n",
        "            Weather conditions (affected by Cyclone Michaung) that may impact travel.\n",
        "            Presence of obstacles such as fallen trees, flooded areas, or damaged infrastructure.\n",
        "            Availability of resources such as fuel, food, and accommodations along the way.\n",
        "\n",
        "    Actuators:\n",
        "        Actuators are the mechanisms through which the agent (National Disaster Management team) can perform actions. In this scenario, actuators might include:\n",
        "            Vehicles for transportation (e.g., trucks, helicopters, boats).\n",
        "            Communication devices (e.g., radios, satellite phones) for coordination and updates.\n",
        "            Navigation systems for route planning and guidance.\n",
        "            Rescue and emergency equipment (e.g., medical kits, life jackets).\n",
        "\n",
        "    Sensors:\n",
        "        Sensors provide information about the environment to the agent. For the National Disaster Management team, sensors might include:\n",
        "            GPS devices for location tracking and navigation.\n",
        "            Weather sensors for monitoring current weather conditions and predicting changes.\n",
        "            Traffic sensors for detecting road conditions and congestion.\n",
        "            Communication devices for receiving updates and instructions from headquarters.\n",
        "            Emergency sensors for detecting hazards such as gas leaks or electrical failures."
      ],
      "metadata": {
        "id": "67ZJTl-U6wX6"
      }
    },
    {
      "cell_type": "markdown",
      "metadata": {
        "id": "XJ3cHp1IF7sM"
      },
      "source": [
        "Design the agent as PSA Agent(Problem Solving Agent)\n",
        "Clear Initial data structures to define the graph and variable declarations is expected\n",
        "IMPORTATANT: Write distinct code block as below"
      ]
    },
    {
      "cell_type": "code",
      "execution_count": null,
      "metadata": {
        "id": "osp61RsLF7sN"
      },
      "outputs": [],
      "source": [
        "#Code Block : Set Initial State (Must handle dynamic inputs)"
      ]
    },
    {
      "cell_type": "code",
      "execution_count": null,
      "metadata": {
        "id": "XODwoWZ0F7sO"
      },
      "outputs": [],
      "source": [
        "#Code Block : Set the matrix for transition & cost (as relevant for the given problem)"
      ]
    },
    {
      "cell_type": "code",
      "execution_count": null,
      "metadata": {
        "id": "ro24Gaj7F7sO"
      },
      "outputs": [],
      "source": [
        "#Code Block : Write function to design the Transition Model/Successor function. Ideally this would be called while search algorithms are implemented"
      ]
    },
    {
      "cell_type": "code",
      "execution_count": null,
      "metadata": {
        "id": "HIVPhrRWF7sO"
      },
      "outputs": [],
      "source": [
        "#Code block : Write fucntion to handle goal test (Must handle dynamic inputs). Ideally this would be called while search algorithms are implemented"
      ]
    },
    {
      "cell_type": "code",
      "source": [
        "import random\n",
        "heuristic_distance = {\n",
        "                        'New Delhi': 4,\n",
        "                        'A': 5,\n",
        "                        'B': 2,\n",
        "                        'C': 10,\n",
        "                        'D': 5,\n",
        "                        'E': 3,\n",
        "                        'Chennai': 0\n",
        "\n",
        "                        }\n"
      ],
      "metadata": {
        "id": "GSPSruEv7Vbr"
      },
      "execution_count": 2,
      "outputs": []
    },
    {
      "cell_type": "code",
      "source": [
        "\n",
        "class Node:\n",
        "    def __init__(self,key,value,parent=None):\n",
        "        self.key=key\n",
        "        self.value=value\n",
        "        self.parent=None\n",
        "        self.idx=0\n",
        "\n",
        "    def priority(self):\n",
        "        return self.key+heuristic_distance[self.value]\n",
        "    def set_parent(self,parent):\n",
        "        self.parent=parent\n",
        "    def __str__(self):\n",
        "        return 'Value={}, Key={}'.format(self.value,self.key)\n",
        "class PriorityQueue:\n",
        "    def __init__(self):\n",
        "        self.queue=[None]\n",
        "        self.size=0\n",
        "    def parent(self,i):\n",
        "        return int(i/2)\n",
        "    def left_child(self,i):\n",
        "        return 2*i\n",
        "    def right_child(self,i):\n",
        "        return 2*i+1\n",
        "    def exchange(self,i,j):\n",
        "        self.queue[i],self.queue[j]=self.queue[j],self.queue[i]\n",
        "        self.queue[i].idx,self.queue[j].idx=self.queue[j].idx,self.queue[i].idx\n",
        "    def less(self,i,j):\n",
        "        return self.queue[i].priority() < self.queue[j].priority()\n",
        "    def more(self,i,j):\n",
        "        return self.queue[i].priority() > self.queue[j].priority()\n",
        "    def swim(self,k):\n",
        "        if self.size ==1:\n",
        "           return\n",
        "        while(k > 1 and self.more(self.parent(k),k)):\n",
        "             self.exchange(k,self.parent(k))\n",
        "             k=self.parent(k)\n",
        "    def sink(self,k):\n",
        "        while self.left_child(k) <= self.size:\n",
        "              left_child_idx= self.left_child(k)\n",
        "              idx=left_child_idx\n",
        "              right_child_idx= self.right_child(k)\n",
        "\n",
        "              if right_child_idx <= self.size and self.more(left_child_idx,right_child_idx):\n",
        "                 idx=right_child_idx\n",
        "              if self.more(k,idx):\n",
        "                 self.exchange(k,idx)\n",
        "              k=idx\n",
        "\n",
        "    def is_empty(self):\n",
        "        return self.size==0\n",
        "    def resize(self,new_size):\n",
        "        if new_size >self.size:\n",
        "           queue_resized=[None]*(new_size)\n",
        "           for  i in range(self.size+1):\n",
        "                queue_resized[i]=self.queue[i]\n",
        "           self.queue=queue_resized\n",
        "\n",
        "    def min(self):\n",
        "        if self.is_empty() == False:\n",
        "            return self.queue[1]\n",
        "        return None\n",
        "    def show(self):\n",
        "         print('Priority Queue size is {}'.format(self.size))\n",
        "         for i in range(self.size+1):\n",
        "            if i >0:\n",
        "                print(self.queue[i])\n",
        "\n",
        "    def insert(self,node):\n",
        "        if self.size == (len(self.queue)-1):\n",
        "            self.resize(2*len(self.queue))\n",
        "\n",
        "        self.size=self.size+1\n",
        "        #print('Inserting node {} '.format(node))\n",
        "        node.idx=self.size\n",
        "        self.queue[self.size]=node\n",
        "\n",
        "\n",
        "        self.swim(self.size)\n",
        "\n",
        "    def extract_min(self):\n",
        "        if self.is_empty() == False:\n",
        "            min=self.min()\n",
        "            self.exchange(1,self.size)\n",
        "            self.size=self.size-1\n",
        "            self.sink(1)\n",
        "            if self.is_empty() == True:\n",
        "               self.queue=[None]\n",
        "\n",
        "            return min\n",
        "\n",
        "        return None\n",
        "    def contains_value(self,value):\n",
        "        for i in range(1,self.size+1):\n",
        "            if self.queue[i].value == value:\n",
        "                return True\n",
        "        return False"
      ],
      "metadata": {
        "id": "B_5lAHA87hJ9"
      },
      "execution_count": 3,
      "outputs": []
    },
    {
      "cell_type": "code",
      "source": [
        "\n",
        "class Graph:\n",
        "\n",
        "     def build_graph(self):\n",
        "        all_nodes ={}\n",
        "        self.graph={}\n",
        "        for key_str in self.graph_str:\n",
        "            neighbours=[]\n",
        "            for (m,(weight,_)) in self.graph_str[key_str]:\n",
        "                neighbour=None\n",
        "                if m not in all_nodes.keys():\n",
        "                    neighbour=Node(0,m)\n",
        "                    all_nodes[m]=neighbour\n",
        "                else:\n",
        "                    neighbour=all_nodes[m]\n",
        "                neighbours.append((neighbour,weight))\n",
        "            self.graph[key_str]=neighbours\n",
        "\n",
        "     def get_neighbors(self,v):\n",
        "         if v in self.graph:\n",
        "            return self.graph[v]\n",
        "         else:\n",
        "            return None\n",
        "     def get_random_path(self,start_node,stop_node):\n",
        "        random_path=[start_node.value]\n",
        "        while random_path[-1] != stop_node.value:\n",
        "            neighbours=self.get_neighbors(random_path[-1])\n",
        "            next_random_node = random.choice(neighbours)[0]\n",
        "            if next_random_node.value not in random_path:\n",
        "               random_path.append(next_random_node.value)\n",
        "        return random_path\n",
        "     def get_weight(self,first_node_str,second_node_str):\n",
        "         #print('first node  {} , second node {}'.format(first_node_str,second_node_str))\n",
        "         edges=self.graph_str[first_node_str]\n",
        "         for edge in edges:\n",
        "            if edge[0] == second_node_str:\n",
        "               return edge[1][0]\n",
        "         return float('inf')\n",
        "\n",
        "\n",
        "\n",
        "     def __init__(self):\n",
        "        self.graph_str = {\n",
        "                        'New Delhi': [('A', (5,64)), ('B', (2,60)), ('C', (7,82)),('Chennai', (10,85))],\n",
        "                        'A': [('New Delhi',(5,64)), ('E', (1,110))],\n",
        "                        'B': [('New Delhi',(2,60)), ('Chennai', (3,62))],\n",
        "                        'C': [('New Delhi',(7,82)), ('D', (5,45))],\n",
        "                        'D': [('C', (5,45)),  ('Chennai',(6,32))],\n",
        "                        'E': [('A', (1,110)), ('Chennai',(4,55))],\n",
        "                        'Chennai': [ ('B', (3,62)), ('D', (6,32)),('E', (4,55))]\n",
        "\n",
        "\n",
        "\n",
        "                        }\n",
        "\n",
        "        self.graph={}\n",
        "\n"
      ],
      "metadata": {
        "id": "NvTjl6wO7jpp"
      },
      "execution_count": 4,
      "outputs": []
    },
    {
      "cell_type": "markdown",
      "metadata": {
        "id": "Z4QwDeX5F7sO"
      },
      "source": [
        "### 2.\tDefinition of Algorithm 1 (IDA*)"
      ]
    },
    {
      "cell_type": "code",
      "execution_count": 12,
      "metadata": {
        "id": "zD_EPCHWF7sO"
      },
      "outputs": [],
      "source": [
        "class IDAStar:\n",
        "    def __init__(self, graph, start_node, stop_node):\n",
        "        self.graph = graph\n",
        "        self.start_node = start_node\n",
        "        self.stop_node = stop_node\n",
        "    def search(self,start_node,stop_node):\n",
        "         threshold=heuristic_distance[start_node.value]\n",
        "         while True:\n",
        "            path=[]\n",
        "            result,threshold=self.find_f_contour(start_node,0,threshold,stop_node.value,path)\n",
        "            if result is True:\n",
        "               return path\n",
        "            if result == float('inf'):\n",
        "               return None\n",
        "    def find_f_contour(self,node,cost,threshold,goal,path):\n",
        "         #print('threshold   is {} ,cost is {} node  is {}'.format(threshold,cost,node.value))\n",
        "         if node.value not in path:\n",
        "            path.append(node.value)\n",
        "\n",
        "         f=cost+heuristic_distance[node.value]\n",
        "         #print('f   is {} , node  is {}'.format(f,node.value))\n",
        "         if f > threshold:\n",
        "            return False,f\n",
        "         if node.value == goal:\n",
        "            return True,threshold\n",
        "         min_cost=float('inf')\n",
        "         neighbours=self.graph.get_neighbors(node.value)\n",
        "         for (m,weight) in neighbours:\n",
        "            if m.value not in path:\n",
        "                new_cost=cost+weight\n",
        "                path.append(m.value)\n",
        "                #print('neighbour is {} and path is {}'.format(m.value,path))\n",
        "                result,threshold=self.find_f_contour(m,new_cost,threshold,goal,path)\n",
        "                if result == True:\n",
        "                    return True,threshold\n",
        "                path.pop()\n",
        "                if threshold < min_cost:\n",
        "                    min_cost = threshold\n",
        "         print('min_cost is {}'.format(min_cost))\n",
        "         return False,min_cost\n",
        ""
      ]
    },
    {
      "cell_type": "markdown",
      "metadata": {
        "id": "KnbdDl6HF7sO"
      },
      "source": [
        "### 3.\tDefinition of Algorithm 2 (Genetic Algorithm)"
      ]
    },
    {
      "cell_type": "code",
      "execution_count": 13,
      "metadata": {
        "id": "3HYh7-eJF7sP"
      },
      "outputs": [],
      "source": [
        "import random\n",
        "\n",
        "class GeneticAlgorithm:\n",
        "    def __init__(self, graph, start_node, stop_node, population_size=100, mutation_rate=0.01, generations=100):\n",
        "        self.graph = graph\n",
        "        self.start_node = start_node\n",
        "        self.stop_node = stop_node\n",
        "        self.population_size = population_size\n",
        "        self.mutation_rate = mutation_rate\n",
        "        self.generations = generations\n",
        "\n",
        "    def generate_population(self):\n",
        "        population = []\n",
        "        for _ in range(self.population_size):\n",
        "            individual = self.graph.get_random_path(self.start_node,self.stop_node)\n",
        "            population.append(individual)\n",
        "        return population\n",
        "    def calculate_fitness(self,individual):\n",
        "        cost=0\n",
        "        for i in range(len(individual) - 1):\n",
        "            cost+=self.graph.get_weight(individual[i],individual[i+1])\n",
        "        return 1/cost\n",
        "\n",
        "    def select_parents(self,population, fitness_scores):\n",
        "        total_fitness = sum(fitness_scores)\n",
        "        if total_fitness > 0:\n",
        "            probabilities = [fitness / total_fitness for fitness in fitness_scores]\n",
        "            return random.choices(population, weights=probabilities, k=2)\n",
        "        return random.choices(population, k=2)\n",
        "    def crossover(self,parent1, parent2):\n",
        "        crossover_point = random.randint(1, min(len(parent1), len(parent2)) - 1)\n",
        "        child1 = parent1[:crossover_point] + parent2[crossover_point:]\n",
        "        child2 = parent2[:crossover_point] + parent1[crossover_point:]\n",
        "        return child1, child2\n",
        "    def mutate(self,individual):\n",
        "        if random.random() < self.mutation_rate:\n",
        "            mutation_point = random.randint(0, len(individual) - 2)\n",
        "            neighbours = self.graph.get_neighbors(individual[mutation_point])\n",
        "            if neighbours:\n",
        "                my_next_random_neighbour = random.choice(neighbours)[0]\n",
        "                individual[mutation_point + 1] = my_next_random_neighbour.value\n",
        "        return individual\n",
        "    def execute(self):\n",
        "        population = self.generate_population()\n",
        "\n",
        "        for generation in range(self.generations):\n",
        "            fitness_scores = [self.calculate_fitness(individual) for individual in population]\n",
        "\n",
        "            new_population = []\n",
        "\n",
        "            for _ in range(len(population) // 2):\n",
        "                parent1, parent2 = self.select_parents(population, fitness_scores)\n",
        "                child1, child2 = self.crossover(parent1, parent2)\n",
        "                new_population.extend([self.mutate(child1), self.mutate(child2)])\n",
        "\n",
        "            population = new_population\n",
        "\n",
        "        # Display the best individual found\n",
        "        best_individual = max(population, key=self.calculate_fitness)\n",
        "        print(\"Best individual:\", best_individual, \"Fitness:\", self.calculate_fitness(best_individual))\n"
      ]
    },
    {
      "cell_type": "markdown",
      "metadata": {
        "id": "LEV2XHccF7sP"
      },
      "source": [
        "### DYNAMIC INPUT"
      ]
    },
    {
      "cell_type": "markdown",
      "metadata": {
        "id": "CylYRo_DF7sP"
      },
      "source": [
        "IMPORTANT : Dynamic Input must be got in this section. Display the possible states to choose from:\n",
        "This is applicable for all the relevent problems as mentioned in the question."
      ]
    },
    {
      "cell_type": "code",
      "execution_count": 17,
      "metadata": {
        "id": "Q5t1Lc-wF7sP",
        "colab": {
          "base_uri": "https://localhost:8080/"
        },
        "outputId": "c79cc03c-3d62-4ef5-8b27-0e019c67ba2e"
      },
      "outputs": [
        {
          "output_type": "stream",
          "name": "stdout",
          "text": [
            "['New Delhi', 'A', 'E', 'Chennai']\n",
            "5\n"
          ]
        }
      ],
      "source": [
        "#Code Block : Function & call to get inputs (start/end state)\n",
        "graph=Graph()\n",
        "graph.build_graph()\n",
        "start_node=Node(0,'New Delhi')\n",
        "stop_node=Node(0,'Chennai')\n",
        "#path=graph.aStarSearch(start_node,stop_node)\n",
        "#print('Path found: {}'.format(path))\n",
        "print(graph.get_random_path(start_node,stop_node))\n",
        "print(graph.get_weight('C','D'))\n",
        "\n"
      ]
    },
    {
      "cell_type": "markdown",
      "metadata": {
        "id": "xsfOP81lF7sP"
      },
      "source": [
        "### 4.\tCalling the search algorithms\n",
        "(For bidirectional search in below sections first part can be used as per Hint provided. Under second section other combinations as per Hint or your choice of 2 algorithms can be called .As an analyst suggest suitable approximation in the comparitive analysis section)"
      ]
    },
    {
      "cell_type": "code",
      "execution_count": 19,
      "metadata": {
        "id": "Og5zI9thF7sP",
        "colab": {
          "base_uri": "https://localhost:8080/"
        },
        "outputId": "ab6bb2f5-e265-4994-bfa4-bb99f802ea66"
      },
      "outputs": [
        {
          "output_type": "stream",
          "name": "stdout",
          "text": [
            "['New Delhi', 'B', 'Chennai']\n"
          ]
        }
      ],
      "source": [
        "#Invoke algorithm 1 (Should Print the solution, path, cost etc., (As mentioned in the problem))\n",
        "ida_star=IDAStar(graph,start_node,stop_node)\n",
        "print(ida_star.search(start_node,stop_node))\n"
      ]
    },
    {
      "cell_type": "code",
      "execution_count": 20,
      "metadata": {
        "id": "u3MJeA6eF7sP",
        "colab": {
          "base_uri": "https://localhost:8080/"
        },
        "outputId": "2bf45124-74f3-4222-a1e3-ff34d12f4f70"
      },
      "outputs": [
        {
          "output_type": "stream",
          "name": "stdout",
          "text": [
            "Best individual: ['New Delhi', 'B', 'New Delhi'] Fitness: 0.25\n"
          ]
        }
      ],
      "source": [
        "#Invoke algorithm 2 (Should Print the solution, path, cost etc., (As mentioned in the problem))\n",
        "ga=GeneticAlgorithm(graph,start_node,stop_node)\n",
        "ga.execute()"
      ]
    },
    {
      "cell_type": "markdown",
      "metadata": {
        "id": "TOU3Rem6F7sQ"
      },
      "source": [
        "### 5.\tComparitive Analysis"
      ]
    },
    {
      "cell_type": "code",
      "execution_count": null,
      "metadata": {
        "id": "HG6fWwiIF7sQ"
      },
      "outputs": [],
      "source": [
        "#Code Block : Print the Time & Space complexity of algorithm 1"
      ]
    },
    {
      "cell_type": "code",
      "execution_count": null,
      "metadata": {
        "id": "xMButLKCF7sQ"
      },
      "outputs": [],
      "source": [
        "#Code Block : Print the Time & Space complexity of algorithm 2"
      ]
    },
    {
      "cell_type": "markdown",
      "metadata": {
        "id": "y2nXwAlsF7sQ"
      },
      "source": [
        "### 6.\tProvide your comparitive analysis or findings in no more than 3 lines in below section"
      ]
    },
    {
      "cell_type": "markdown",
      "metadata": {
        "id": "si483-zoF7sQ"
      },
      "source": [
        "Comparison : _______________________________________________\n",
        "\n",
        "________________________________________________________\n",
        "\n",
        "_________________________________________________________"
      ]
    }
  ],
  "metadata": {
    "kernelspec": {
      "display_name": "Python 3",
      "language": "python",
      "name": "python3"
    },
    "language_info": {
      "codemirror_mode": {
        "name": "ipython",
        "version": 3
      },
      "file_extension": ".py",
      "mimetype": "text/x-python",
      "name": "python",
      "nbconvert_exporter": "python",
      "pygments_lexer": "ipython3",
      "version": "3.7.6"
    },
    "colab": {
      "provenance": [],
      "include_colab_link": true
    }
  },
  "nbformat": 4,
  "nbformat_minor": 0
}