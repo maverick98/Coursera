{
  "cells": [
    {
      "cell_type": "markdown",
      "metadata": {
        "id": "view-in-github",
        "colab_type": "text"
      },
      "source": [
        "<a href=\"https://colab.research.google.com/github/maverick98/Coursera/blob/master/mfml_assign2_1.ipynb\" target=\"_parent\"><img src=\"https://colab.research.google.com/assets/colab-badge.svg\" alt=\"Open In Colab\"/></a>"
      ]
    },
    {
      "cell_type": "code",
      "execution_count": null,
      "metadata": {
        "id": "R9f0hhOhWF82"
      },
      "outputs": [],
      "source": [
        "import numpy as np\n",
        "from functools import reduce\n",
        "from numpy.linalg import eig"
      ]
    },
    {
      "cell_type": "code",
      "execution_count": null,
      "metadata": {
        "id": "gUWsDNWRRQf7"
      },
      "outputs": [],
      "source": [
        "def create_random_matrix(m=4,n=3):\n",
        "    A = np.random.randint(low=0,high=10,size=(m, n))\n",
        "    A=A.astype(float)\n",
        "    return A\n",
        "def transpose(A):\n",
        "    m=A.shape[0]\n",
        "    n=A.shape[1]\n",
        "    A_T=np.zeros((n,m))\n",
        "    for i in range(n):\n",
        "        A_T[i]=A[:,i]\n",
        "    return A_T\n",
        "def multiply(A,B):\n",
        "    if A.shape[1] != B.shape[0]:\n",
        "       print(\"Illegal multiplication\")\n",
        "       return\n",
        "    m=A.shape[0]\n",
        "    n=A.shape[1]\n",
        "    p=B.shape[1]\n",
        "    C=np.zeros((m,p))\n",
        "    for i in range(m):\n",
        "        for k in range(p):\n",
        "            for j in range(n):\n",
        "                C[i][k]+=A[i][j]*B[j][k]\n",
        "\n",
        "    return C\n",
        "def subtract(A,B):\n",
        "    if A.shape[0] != B.shape[0] or A.shape[1] != B.shape[1]:\n",
        "       print(\"Illegal subtraction\")\n",
        "       return\n",
        "    m=A.shape[0]\n",
        "    n=A.shape[1]\n",
        "    C=np.zeros((m,n))\n",
        "    for i in range(m):\n",
        "        for j in range(n):\n",
        "            C[i][j]=A[i][j]-B[i][j]\n",
        "    return C\n",
        "def create_identity_matrix(n):\n",
        "     I=np.zeros((n,n))\n",
        "     for i in range(n):\n",
        "         I[i][i]=1\n",
        "     return I\n",
        "def create_matrix(m,n):\n",
        "    C=create_random_matrix(m,n)\n",
        "    C_T=transpose(C)\n",
        "    A=multiply(C_T,C)\n",
        "    return A,C_T,C\n",
        "def power_method(A, tol=1e-6, max_iter=1000):\n",
        "    n = A.shape[0]\n",
        "    x = np.random.rand(A.shape[0])\n",
        "    x = x / np.linalg.norm(x)\n",
        "    for i in range(max_iter):\n",
        "        y = np.dot(A, x)\n",
        "        x_new = y/np.linalg.norm(y)\n",
        "        if np.linalg.norm(x_new - x) < tol:\n",
        "            break\n",
        "        x = x_new\n",
        "    return x,np.linalg.norm(np.dot(A,x))/np.linalg.norm(x)\n",
        "def calculate_eigen_vectors_values(A):\n",
        "    eigen_vectors=[]\n",
        "    eigen_values=[]\n",
        "    _calculate_eigen_vectors_values(A,eigen_vectors,eigen_values)\n",
        "    return eigen_vectors,eigen_values\n",
        "def _calculate_eigen_vectors_values(A,eigen_vectors,eigen_values):\n",
        "    if A.shape[0] != A.shape[1]:\n",
        "       print(\"Illegal operation\")\n",
        "       return\n",
        "    if len(eigen_vectors) ==   A.shape[0]:\n",
        "       return\n",
        "    eigen_vector,eigen_value = power_method(A)\n",
        "    eigen_vectors.append(eigen_vector)\n",
        "    eigen_values.append(eigen_value)\n",
        "    x=np.reshape(eigen_vector,(eigen_vector.shape[0],1))\n",
        "    A_next=subtract(A,multiply(multiply(x,transpose(x)),A))\n",
        "    _calculate_eigen_vectors_values(A_next,eigen_vectors,eigen_values)\n",
        "\n",
        "\n",
        "\n"
      ]
    },
    {
      "cell_type": "code",
      "execution_count": null,
      "metadata": {
        "colab": {
          "base_uri": "https://localhost:8080/"
        },
        "id": "MmQ29W44WhvB",
        "outputId": "5e188748-86ad-4e63-dcc1-6d58f2e4bc33"
      },
      "outputs": [
        {
          "output_type": "stream",
          "name": "stdout",
          "text": [
            "C_T=[[0. 1. 7. 3.]\n",
            " [8. 6. 8. 8.]\n",
            " [9. 9. 1. 5.]]\n",
            "C=[[0. 8. 9.]\n",
            " [1. 6. 9.]\n",
            " [7. 8. 1.]\n",
            " [3. 8. 5.]]\n",
            "A=[[ 59.  86.  31.]\n",
            " [ 86. 228. 174.]\n",
            " [ 31. 174. 188.]]\n",
            "E-value: [404.17913984  68.62507895   2.19578121]\n",
            "E-vector [[-0.24062864 -0.71043994  0.66134178]\n",
            " [-0.73897404 -0.30766595 -0.59938221]\n",
            " [-0.6292974   0.63294294  0.45096343]]\n"
          ]
        }
      ],
      "source": [
        "\n",
        "A1,C_T,C=create_matrix(4,3)\n",
        "print(\"C_T={}\".format(C_T))\n",
        "print(\"C={}\".format(C))\n",
        "print(\"A={}\".format(A1))\n",
        "w,v=eig(A1)\n",
        "print('E-value:', w)\n",
        "print('E-vector', v)\n"
      ]
    },
    {
      "cell_type": "code",
      "execution_count": null,
      "metadata": {
        "colab": {
          "base_uri": "https://localhost:8080/"
        },
        "id": "XEMMZiCjhgCi",
        "outputId": "b05e0a76-7060-49d6-96ad-ea59c2fcf2b0"
      },
      "outputs": [
        {
          "output_type": "stream",
          "name": "stdout",
          "text": [
            "eigen_vectors are [array([0.24062893, 0.73897417, 0.62929715]), array([ 0.71044007,  0.30766544, -0.63294303]), array([ 0.66134154, -0.59938231,  0.45096365])]\n",
            "eigen_values are [404.1791398432546, 68.62507894658683, 2.195781210184915]\n"
          ]
        }
      ],
      "source": [
        "eigen_vectors,eigen_values=calculate_eigen_vectors_values(A1)\n",
        "print(\"eigen_vectors are {}\".format(eigen_vectors))\n",
        "print(\"eigen_values are {}\".format(eigen_values))\n"
      ]
    },
    {
      "cell_type": "code",
      "source": [
        "\n",
        "def f(x, y):\n",
        "    return 10*x**4 - 20*x**2*y + x**2 + 10*y**2 - 2*x + 1\n",
        "\n",
        "def grad_f(x, y):\n",
        "    grad_x = 40*x**3 - 40*x*y + 2*x - 2\n",
        "    grad_y = -20*x**2 + 20*y\n",
        "    return np.array([grad_x, grad_y])\n",
        "\n",
        "def armijo_rule(f, grad_f_x_y, x_y, g_t, alpha=1, beta=0.5, mu=0.1):\n",
        "    x=x_y[0]\n",
        "    y=x_y[1]\n",
        "    while f(x + alpha * g_t[0],y + alpha * g_t[1]) > f(x,y) + mu * alpha * np.dot(grad_f_x_y, g_t):\n",
        "        alpha *= beta\n",
        "    return alpha\n",
        "\n",
        "def gradient_descent_armijo(f, grad_f, initial_point, tolerance=1e-6, max_iterations=1000):\n",
        "    x_y = np.array(initial_point)\n",
        "    for _ in range(max_iterations):\n",
        "        gradient = grad_f(x_y[0],x_y[1])\n",
        "        if np.linalg.norm(gradient) < tolerance:\n",
        "            break\n",
        "        step_size = armijo_rule(f, gradient, x_y, -gradient)\n",
        "        x_y -= step_size * gradient\n",
        "    return x_y\n",
        "\n",
        "# Initial point for optimization\n",
        "initial_point = [0.0, 0.0]\n",
        "\n",
        "# Perform gradient descent with Armijo rule\n",
        "result = gradient_descent_armijo(f, grad_f, initial_point)\n",
        "\n",
        "print(\"Stationary point found at (x, y) =\", result)\n",
        "print(\"Value of f(x, y) at the stationary point:\", f(result[0],result[1]))\n"
      ],
      "metadata": {
        "colab": {
          "base_uri": "https://localhost:8080/"
        },
        "id": "KhXUsAZzHNWs",
        "outputId": "e0624fde-c110-4d9f-8a41-365b86ddca44"
      },
      "execution_count": null,
      "outputs": [
        {
          "output_type": "stream",
          "name": "stdout",
          "text": [
            "Stationary point found at (x, y) = [0.99997957 0.99995871]\n",
            "Value of f(x, y) at the stationary point: 4.192415303805319e-10\n"
          ]
        }
      ]
    }
  ],
  "metadata": {
    "colab": {
      "provenance": [],
      "authorship_tag": "ABX9TyMNjgYEJse/KuaixbU5Dsi3",
      "include_colab_link": true
    },
    "kernelspec": {
      "display_name": "Python 3",
      "name": "python3"
    },
    "language_info": {
      "name": "python"
    }
  },
  "nbformat": 4,
  "nbformat_minor": 0
}