{
  "cells": [
    {
      "cell_type": "markdown",
      "metadata": {
        "id": "view-in-github",
        "colab_type": "text"
      },
      "source": [
        "<a href=\"https://colab.research.google.com/github/maverick98/Coursera/blob/master/mfml_assign2_1.ipynb\" target=\"_parent\"><img src=\"https://colab.research.google.com/assets/colab-badge.svg\" alt=\"Open In Colab\"/></a>"
      ]
    },
    {
      "cell_type": "code",
      "execution_count": 51,
      "metadata": {
        "id": "R9f0hhOhWF82"
      },
      "outputs": [],
      "source": [
        "import numpy as np\n",
        "from numpy.linalg import eig"
      ]
    },
    {
      "cell_type": "code",
      "execution_count": 52,
      "metadata": {
        "id": "gUWsDNWRRQf7"
      },
      "outputs": [],
      "source": [
        "def create_random_matrix(m=4,n=3):\n",
        "    A = np.random.randint(low=0,high=10,size=(m, n))\n",
        "    A=A.astype(float)\n",
        "    return A\n",
        "def transpose(A):\n",
        "    m=A.shape[0]\n",
        "    n=A.shape[1]\n",
        "    A_T=np.zeros((n,m))\n",
        "    for i in range(n):\n",
        "        A_T[i]=A[:,i]\n",
        "    return A_T\n",
        "def multiply(A,B):\n",
        "    if A.shape[1] != B.shape[0]:\n",
        "       print(\"Illegal multiplication\")\n",
        "       return\n",
        "    m=A.shape[0]\n",
        "    n=A.shape[1]\n",
        "    p=B.shape[1]\n",
        "    C=np.zeros((m,p))\n",
        "    for i in range(m):\n",
        "        for k in range(p):\n",
        "            for j in range(n):\n",
        "                C[i][k]+=A[i][j]*B[j][k]\n",
        "\n",
        "    return C\n",
        "def subtract(A,B):\n",
        "    if A.shape[0] != B.shape[0] or A.shape[1] != B.shape[1]:\n",
        "       print(\"Illegal subtraction\")\n",
        "       return\n",
        "    m=A.shape[0]\n",
        "    n=A.shape[1]\n",
        "    C=np.zeros((m,n))\n",
        "    for i in range(m):\n",
        "        for j in range(n):\n",
        "            C[i][j]=A[i][j]-B[i][j]\n",
        "    return C\n",
        "\n",
        "def create_matrix(m,n):\n",
        "    C=create_random_matrix(m,n)\n",
        "    C_T=transpose(C)\n",
        "    A=multiply(C_T,C)\n",
        "    return A,C_T,C\n",
        "def power_method(A, tol=1e-6, max_iter=1000):\n",
        "    print('***************Starting Power Method for A={}****************'.format(A))\n",
        "    n = A.shape[0]\n",
        "    x = np.random.rand(A.shape[0])\n",
        "    x = x / np.linalg.norm(x)\n",
        "    lambdaa=None\n",
        "    for i in range(max_iter):\n",
        "        y = np.dot(A, x)\n",
        "        x_new = y/np.linalg.norm(y)\n",
        "        if np.linalg.norm(x_new - x) < tol:\n",
        "            print('Stopping Power method at {}th iteration as the difference is below tolerance {}'.format(i,tol))\n",
        "            print('***************Finished Power Method for A={}****************'.format(A))\n",
        "            print('    ')\n",
        "            break\n",
        "        x = x_new\n",
        "        lambdaa=np.linalg.norm(np.dot(A,x))/np.linalg.norm(x)\n",
        "        if i <= 10:\n",
        "           print('At {}th iteration ,  x is {}'.format(i,x))\n",
        "           print('At {}th iteration ,  lambda is {}'.format(i,lambdaa))\n",
        "           print('------')\n",
        "    return x,lambdaa\n",
        "def calculate_eigen_vectors_values(A):\n",
        "    eigen_vectors=[]\n",
        "    eigen_values=[]\n",
        "    _calculate_eigen_vectors_values(A,eigen_vectors,eigen_values)\n",
        "    return eigen_vectors,eigen_values\n",
        "def _calculate_eigen_vectors_values(A,eigen_vectors,eigen_values):\n",
        "    if A.shape[0] != A.shape[1]:\n",
        "       print(\"Illegal operation\")\n",
        "       return\n",
        "    if len(eigen_vectors) ==   A.shape[0]:\n",
        "       return\n",
        "    eigen_vector,eigen_value = power_method(A)\n",
        "    eigen_vectors.append(eigen_vector)\n",
        "    eigen_values.append(eigen_value)\n",
        "    x=np.reshape(eigen_vector,(eigen_vector.shape[0],1))\n",
        "    A_next=subtract(A,multiply(multiply(x,transpose(x)),A))\n",
        "    _calculate_eigen_vectors_values(A_next,eigen_vectors,eigen_values)\n",
        "\n",
        "\n",
        "\n"
      ]
    },
    {
      "cell_type": "code",
      "execution_count": 53,
      "metadata": {
        "colab": {
          "base_uri": "https://localhost:8080/"
        },
        "id": "MmQ29W44WhvB",
        "outputId": "d93902f4-9496-4683-ce6e-5635732e19d7"
      },
      "outputs": [
        {
          "output_type": "stream",
          "name": "stdout",
          "text": [
            "C_T=[[9. 8. 0. 0.]\n",
            " [7. 2. 6. 9.]\n",
            " [5. 4. 9. 0.]]\n",
            "C=[[9. 7. 5.]\n",
            " [8. 2. 4.]\n",
            " [0. 6. 9.]\n",
            " [0. 9. 0.]]\n",
            "A=[[145.  79.  77.]\n",
            " [ 79. 170.  97.]\n",
            " [ 77.  97. 122.]]\n",
            "E-value: [316.33854349  77.8996263   42.76183021]\n",
            "E-vector [[ 0.54012436  0.79890113 -0.26461797]\n",
            " [ 0.64773716 -0.59537599 -0.47535671]\n",
            " [ 0.53731019 -0.08534885  0.83905502]]\n"
          ]
        }
      ],
      "source": [
        "\n",
        "A1,C_T,C=create_matrix(4,3)\n",
        "print(\"C_T={}\".format(C_T))\n",
        "print(\"C={}\".format(C))\n",
        "print(\"A={}\".format(A1))\n",
        "w,v=eig(A1)\n",
        "print('E-value:', w)\n",
        "print('E-vector', v)\n"
      ]
    },
    {
      "cell_type": "code",
      "execution_count": 54,
      "metadata": {
        "colab": {
          "base_uri": "https://localhost:8080/"
        },
        "id": "XEMMZiCjhgCi",
        "outputId": "cd1d4ad1-83cc-4395-88d6-f236f8db60b9"
      },
      "outputs": [
        {
          "output_type": "stream",
          "name": "stdout",
          "text": [
            "***************Starting Power Method for A=[[145.  79.  77.]\n",
            " [ 79. 170.  97.]\n",
            " [ 77.  97. 122.]]****************\n",
            "At 0th iteration ,  x is [0.64489204 0.60676253 0.46470797]\n",
            "At 0th iteration ,  lambda is 313.6434991989911\n",
            "------\n",
            "At 1th iteration ,  x is [0.56505586 0.63502918 0.52673505]\n",
            "At 1th iteration ,  lambda is 316.20498599704666\n",
            "------\n",
            "At 2th iteration ,  x is [0.54603505 0.64416338 0.53562978]\n",
            "At 2th iteration ,  lambda is 316.33102468321033\n",
            "------\n",
            "At 3th iteration ,  x is [0.54154499 0.64679281 0.53701777]\n",
            "At 3th iteration ,  lambda is 316.3380982280711\n",
            "------\n",
            "At 4th iteration ,  x is [0.54046928 0.64749569 0.5372544 ]\n",
            "At 4th iteration ,  lambda is 316.33851668825304\n",
            "------\n",
            "At 5th iteration ,  x is [0.54020862 0.64767648 0.53729863]\n",
            "At 5th iteration ,  lambda is 316.33854187223756\n",
            "------\n",
            "At 6th iteration ,  x is [0.54014502 0.64772205 0.53730764]\n",
            "At 6th iteration ,  lambda is 316.33854339591335\n",
            "------\n",
            "At 7th iteration ,  x is [0.54012943 0.64773342 0.5373096 ]\n",
            "At 7th iteration ,  lambda is 316.33854348824656\n",
            "------\n",
            "At 8th iteration ,  x is [0.54012561 0.64773624 0.53731005]\n",
            "At 8th iteration ,  lambda is 316.33854349384455\n",
            "------\n",
            "At 9th iteration ,  x is [0.54012467 0.64773694 0.53731016]\n",
            "At 9th iteration ,  lambda is 316.33854349418397\n",
            "------\n",
            "Stopping Power method at 10th iteration as the difference is below tolerance 1e-06\n",
            "***************Finished Power Method for A=[[145.  79.  77.]\n",
            " [ 79. 170.  97.]\n",
            " [ 77.  97. 122.]]****************\n",
            "    \n",
            "***************Starting Power Method for A=[[ 52.71312398 -31.67381956 -14.80602723]\n",
            " [-31.67374275  37.2759729  -13.09709157]\n",
            " [-14.80598353 -13.09711557  30.67235963]]****************\n",
            "At 0th iteration ,  x is [ 0.80996302 -0.57346199 -0.12288711]\n",
            "At 0th iteration ,  lambda is 77.84488977483288\n",
            "------\n",
            "At 1th iteration ,  x is [ 0.80517659 -0.58348661 -0.10599076]\n",
            "At 1th iteration ,  lambda is 77.88311341060906\n",
            "------\n",
            "At 2th iteration ,  x is [ 0.80240661 -0.58889295 -0.09668882]\n",
            "At 2th iteration ,  lambda is 77.89464873313494\n",
            "------\n",
            "At 3th iteration ,  x is [ 0.80084353 -0.59183059 -0.09157618]\n",
            "At 3th iteration ,  lambda is 77.89812625086135\n",
            "------\n",
            "At 4th iteration ,  x is [ 0.79997276 -0.59343393 -0.08876799]\n",
            "At 4th iteration ,  lambda is 77.89917427379427\n",
            "------\n",
            "At 5th iteration ,  x is [ 0.79949094 -0.59431125 -0.08722601]\n",
            "At 5th iteration ,  lambda is 77.89949008720734\n",
            "------\n",
            "At 6th iteration ,  x is [ 0.79922529 -0.594792   -0.08637944]\n",
            "At 6th iteration ,  lambda is 77.89958525232865\n",
            "------\n",
            "At 7th iteration ,  x is [ 0.79907913 -0.59505564 -0.08591468]\n",
            "At 7th iteration ,  lambda is 77.899613928506\n",
            "------\n",
            "At 8th iteration ,  x is [ 0.79899879 -0.59520028 -0.08565955]\n",
            "At 8th iteration ,  lambda is 77.89962256949735\n",
            "------\n",
            "At 9th iteration ,  x is [ 0.79895466 -0.59527966 -0.0855195 ]\n",
            "At 9th iteration ,  lambda is 77.89962517328486\n",
            "------\n",
            "At 10th iteration ,  x is [ 0.79893042 -0.59532322 -0.08544262]\n",
            "At 10th iteration ,  lambda is 77.89962595788325\n",
            "------\n",
            "Stopping Power method at 18th iteration as the difference is below tolerance 1e-06\n",
            "***************Finished Power Method for A=[[ 52.71312398 -31.67381956 -14.80602723]\n",
            " [-31.67374275  37.2759729  -13.09709157]\n",
            " [-14.80598353 -13.09711557  30.67235963]]****************\n",
            "    \n",
            "***************Starting Power Method for A=[[  2.99425468   5.37891522  -9.49431692]\n",
            " [  5.37888358   9.66269135 -17.05560511]\n",
            " [ -9.49427863 -17.05563667  30.10488418]]****************\n",
            "At 0th iteration ,  x is [ 0.26461663  0.47535771 -0.83905488]\n",
            "At 0th iteration ,  lambda is 42.76183020965508\n",
            "------\n",
            "Stopping Power method at 1th iteration as the difference is below tolerance 1e-06\n",
            "***************Finished Power Method for A=[[  2.99425468   5.37891522  -9.49431692]\n",
            " [  5.37888358   9.66269135 -17.05560511]\n",
            " [ -9.49427863 -17.05563667  30.10488418]]****************\n",
            "    \n",
            "eigen_vectors are [array([0.54012467, 0.64773694, 0.53731016]), array([ 0.79890136, -0.59537544, -0.08535046]), array([ 0.26461663,  0.47535771, -0.83905488])]\n",
            "eigen_values are [316.33854349418397, 77.89962629619643, 42.76183020965508]\n"
          ]
        }
      ],
      "source": [
        "eigen_vectors,eigen_values=calculate_eigen_vectors_values(A1)\n",
        "print(\"eigen_vectors are {}\".format(eigen_vectors))\n",
        "print(\"eigen_values are {}\".format(eigen_values))\n"
      ]
    },
    {
      "cell_type": "code",
      "source": [
        "\n",
        "def f(x, y):\n",
        "    return 10*x**4 - 20*x**2*y + x**2 + 10*y**2 - 2*x + 1\n",
        "\n",
        "def grad_f(x, y):\n",
        "    grad_x = 40*x**3 - 40*x*y + 2*x - 2\n",
        "    grad_y = -20*x**2 + 20*y\n",
        "    return np.array([grad_x, grad_y])\n",
        "\n",
        "def armijo_rule(f, grad_f_x_y, x_y, g_t, alpha=1, beta=0.5, mu=0.1):\n",
        "    x=x_y[0]\n",
        "    y=x_y[1]\n",
        "    while f(x + alpha * g_t[0],y + alpha * g_t[1]) > f(x,y) + mu * alpha * np.dot(grad_f_x_y, g_t):\n",
        "        alpha *= beta\n",
        "    return alpha\n",
        "\n",
        "def gradient_descent_armijo(f, grad_f, initial_point, tolerance=1e-6, max_iterations=1000):\n",
        "    x_y = np.array(initial_point)\n",
        "    for _ in range(max_iterations):\n",
        "        gradient = grad_f(x_y[0],x_y[1])\n",
        "        if np.linalg.norm(gradient) < tolerance:\n",
        "            break\n",
        "        step_size = armijo_rule(f, gradient, x_y, -gradient)\n",
        "        x_y -= step_size * gradient\n",
        "    return x_y\n",
        "\n",
        "# Initial point for optimization\n",
        "initial_point = [0.0, 0.0]\n",
        "\n",
        "# Perform gradient descent with Armijo rule\n",
        "result = gradient_descent_armijo(f, grad_f, initial_point)\n",
        "\n",
        "print(\"Stationary point found at (x, y) =\", result)\n",
        "print(\"Value of f(x, y) at the stationary point:\", f(result[0],result[1]))\n"
      ],
      "metadata": {
        "colab": {
          "base_uri": "https://localhost:8080/"
        },
        "id": "KhXUsAZzHNWs",
        "outputId": "ea2c8a56-3a85-4b6e-f243-3e71e4c21988"
      },
      "execution_count": 55,
      "outputs": [
        {
          "output_type": "stream",
          "name": "stdout",
          "text": [
            "Stationary point found at (x, y) = [0.99997957 0.99995871]\n",
            "Value of f(x, y) at the stationary point: 4.192415303805319e-10\n"
          ]
        }
      ]
    }
  ],
  "metadata": {
    "colab": {
      "provenance": [],
      "authorship_tag": "ABX9TyO3ouSjyZ3fElQHcwqp8zcU",
      "include_colab_link": true
    },
    "kernelspec": {
      "display_name": "Python 3",
      "name": "python3"
    },
    "language_info": {
      "name": "python"
    }
  },
  "nbformat": 4,
  "nbformat_minor": 0
}