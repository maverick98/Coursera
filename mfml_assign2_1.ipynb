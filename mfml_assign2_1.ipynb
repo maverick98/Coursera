{
  "cells": [
    {
      "cell_type": "markdown",
      "metadata": {
        "id": "view-in-github",
        "colab_type": "text"
      },
      "source": [
        "<a href=\"https://colab.research.google.com/github/maverick98/Coursera/blob/master/mfml_assign2_1.ipynb\" target=\"_parent\"><img src=\"https://colab.research.google.com/assets/colab-badge.svg\" alt=\"Open In Colab\"/></a>"
      ]
    },
    {
      "cell_type": "code",
      "execution_count": 17,
      "metadata": {
        "id": "R9f0hhOhWF82"
      },
      "outputs": [],
      "source": [
        "import numpy as np\n",
        "from functools import reduce\n",
        "from numpy.linalg import eig"
      ]
    },
    {
      "cell_type": "code",
      "execution_count": 18,
      "metadata": {
        "id": "gUWsDNWRRQf7"
      },
      "outputs": [],
      "source": [
        "def create_random_matrix(m=4,n=3):\n",
        "    A = np.random.randint(low=0,high=10,size=(m, n))\n",
        "    A=A.astype(float)\n",
        "    return A\n",
        "def transpose(A):\n",
        "    m=A.shape[0]\n",
        "    n=A.shape[1]\n",
        "    A_T=np.zeros((n,m))\n",
        "    for i in range(n):\n",
        "        A_T[i]=A[:,i]\n",
        "    return A_T\n",
        "def multiply(A,B):\n",
        "    if A.shape[1] != B.shape[0]:\n",
        "       print(\"Illegal multiplication\")\n",
        "       return\n",
        "    m=A.shape[0]\n",
        "    n=A.shape[1]\n",
        "    p=B.shape[1]\n",
        "    C=np.zeros((m,p))\n",
        "    for i in range(m):\n",
        "        for k in range(p):\n",
        "            for j in range(n):\n",
        "                C[i][k]+=A[i][j]*B[j][k]\n",
        "\n",
        "    return C\n",
        "def subtract(A,B):\n",
        "    if A.shape[0] != B.shape[0] or A.shape[1] != B.shape[1]:\n",
        "       print(\"Illegal subtraction\")\n",
        "       return\n",
        "    m=A.shape[0]\n",
        "    n=A.shape[1]\n",
        "    C=np.zeros((m,n))\n",
        "    for i in range(m):\n",
        "        for j in range(n):\n",
        "            C[i][j]=A[i][j]-B[i][j]\n",
        "    return C\n",
        "def create_identity_matrix(n):\n",
        "     I=np.zeros((n,n))\n",
        "     for i in range(n):\n",
        "         I[i][i]=1\n",
        "     return I\n",
        "def create_matrix(m,n):\n",
        "    C=create_random_matrix(m,n)\n",
        "    C_T=transpose(C)\n",
        "    A=multiply(C_T,C)\n",
        "    return A,C_T,C\n",
        "def power_method(A, tol=1e-6, max_iter=1000):\n",
        "    n = A.shape[0]\n",
        "    x = np.random.rand(A.shape[0])\n",
        "    x = x / np.linalg.norm(x)\n",
        "    for i in range(max_iter):\n",
        "        y = np.dot(A, x)\n",
        "        x_new = y/np.linalg.norm(y)\n",
        "        if np.linalg.norm(x_new - x) < tol:\n",
        "            break\n",
        "        x = x_new\n",
        "    return x,np.linalg.norm(np.dot(A,x))/np.linalg.norm(x)\n",
        "def calculate_eigen_vectors_values(A):\n",
        "    eigen_vectors=[]\n",
        "    eigen_values=[]\n",
        "    _calculate_eigen_vectors_values(A,eigen_vectors,eigen_values)\n",
        "    return eigen_vectors,eigen_values\n",
        "def _calculate_eigen_vectors_values(A,eigen_vectors,eigen_values):\n",
        "    if A.shape[0] != A.shape[1]:\n",
        "       print(\"Illegal operation\")\n",
        "       return\n",
        "    if len(eigen_vectors) ==   A.shape[0]:\n",
        "       return\n",
        "    eigen_vector,eigen_value = power_method(A)\n",
        "    eigen_vectors.append(eigen_vector)\n",
        "    eigen_values.append(eigen_value)\n",
        "    x=np.reshape(eigen_vector,(eigen_vector.shape[0],1))\n",
        "    A_next=subtract(A,multiply(multiply(x,transpose(x)),A))\n",
        "    _calculate_eigen_vectors_values(A_next,eigen_vectors,eigen_values)\n",
        "\n",
        "\n",
        "\n"
      ]
    },
    {
      "cell_type": "code",
      "execution_count": 19,
      "metadata": {
        "colab": {
          "base_uri": "https://localhost:8080/"
        },
        "id": "MmQ29W44WhvB",
        "outputId": "d2b578bb-de18-4c4c-d20e-d6f623cba7f8"
      },
      "outputs": [
        {
          "output_type": "stream",
          "name": "stdout",
          "text": [
            "C_T=[[1. 5. 6. 4.]\n",
            " [2. 9. 3. 3.]\n",
            " [8. 1. 2. 5.]]\n",
            "C=[[1. 2. 8.]\n",
            " [5. 9. 1.]\n",
            " [6. 3. 2.]\n",
            " [4. 3. 5.]]\n",
            "A=[[ 78.  77.  45.]\n",
            " [ 77. 103.  46.]\n",
            " [ 45.  46.  94.]]\n",
            "E-value: [205.50175864  12.13248498  57.36575638]\n",
            "E-vector [[-0.57019539 -0.78011654 -0.25747893]\n",
            " [-0.6523904   0.62047638 -0.43519631]\n",
            " [-0.49926344  0.08017015  0.86273331]]\n"
          ]
        }
      ],
      "source": [
        "\n",
        "A1,C_T,C=create_matrix(4,3)\n",
        "print(\"C_T={}\".format(C_T))\n",
        "print(\"C={}\".format(C))\n",
        "print(\"A={}\".format(A1))\n",
        "w,v=eig(A1)\n",
        "print('E-value:', w)\n",
        "print('E-vector', v)\n"
      ]
    },
    {
      "cell_type": "code",
      "execution_count": 20,
      "metadata": {
        "colab": {
          "base_uri": "https://localhost:8080/"
        },
        "id": "XEMMZiCjhgCi",
        "outputId": "39253cb3-3d66-420d-ae85-ed4b7617d518"
      },
      "outputs": [
        {
          "output_type": "stream",
          "name": "stdout",
          "text": [
            "eigen_vectors are [array([0.57019522, 0.65239011, 0.49926402]), array([ 0.25747898,  0.43519702, -0.86273294]), array([-0.78011665,  0.62047619,  0.08017052])]\n",
            "eigen_values are [205.5017586364409, 57.36575638434446, 12.132484979242557]\n"
          ]
        }
      ],
      "source": [
        "eigen_vectors,eigen_values=calculate_eigen_vectors_values(A1)\n",
        "print(\"eigen_vectors are {}\".format(eigen_vectors))\n",
        "print(\"eigen_values are {}\".format(eigen_values))\n"
      ]
    },
    {
      "cell_type": "code",
      "source": [
        "\n",
        "def f(x, y):\n",
        "    return 10*x**4 - 20*x**2*y + x**2 + 10*y**2 - 2*x + 1\n",
        "\n",
        "def grad_f(x, y):\n",
        "    grad_x = 40*x**3 - 40*x*y + 2*x - 2\n",
        "    grad_y = -20*x**2 + 20*y\n",
        "    return np.array([grad_x, grad_y])\n",
        "\n",
        "def armijo_rule(f, grad_f_x_y, x_y, g_t, alpha=1, beta=0.5, mu=0.1):\n",
        "    x=x_y[0]\n",
        "    y=x_y[1]\n",
        "    while f(x + alpha * g_t[0],y + alpha * g_t[1]) > f(x,y) + mu * alpha * np.dot(grad_f_x_y, g_t):\n",
        "        alpha *= beta\n",
        "    return alpha\n",
        "\n",
        "def gradient_descent_armijo(f, grad_f, initial_point, tolerance=1e-6, max_iterations=1000):\n",
        "    x_y = np.array(initial_point)\n",
        "    for _ in range(max_iterations):\n",
        "        gradient = grad_f(x_y[0],x_y[1])\n",
        "        if np.linalg.norm(gradient) < tolerance:\n",
        "            break\n",
        "        step_size = armijo_rule(f, gradient, x_y, -gradient)\n",
        "        x_y -= step_size * gradient\n",
        "    return x_y\n",
        "\n",
        "# Initial point for optimization\n",
        "initial_point = [0.0, 0.0]\n",
        "\n",
        "# Perform gradient descent with Armijo rule\n",
        "result = gradient_descent_armijo(f, grad_f, initial_point)\n",
        "\n",
        "print(\"Stationary point found at (x, y) =\", result)\n",
        "print(\"Value of f(x, y) at the stationary point:\", f(result[0],result[1]))\n"
      ],
      "metadata": {
        "colab": {
          "base_uri": "https://localhost:8080/"
        },
        "id": "KhXUsAZzHNWs",
        "outputId": "1898fe0d-8b83-49f2-c0e6-20705460b1a8"
      },
      "execution_count": 29,
      "outputs": [
        {
          "output_type": "stream",
          "name": "stdout",
          "text": [
            "Stationary point found at (x, y) = [0.99997957 0.99995871]\n",
            "Value of f(x, y) at the stationary point: 4.192415303805319e-10\n"
          ]
        }
      ]
    }
  ],
  "metadata": {
    "colab": {
      "provenance": [],
      "authorship_tag": "ABX9TyMNjgYEJse/KuaixbU5Dsi3",
      "include_colab_link": true
    },
    "kernelspec": {
      "display_name": "Python 3",
      "name": "python3"
    },
    "language_info": {
      "name": "python"
    }
  },
  "nbformat": 4,
  "nbformat_minor": 0
}