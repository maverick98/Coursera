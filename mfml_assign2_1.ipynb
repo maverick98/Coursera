{
  "cells": [
    {
      "cell_type": "markdown",
      "metadata": {
        "id": "view-in-github",
        "colab_type": "text"
      },
      "source": [
        "<a href=\"https://colab.research.google.com/github/maverick98/Coursera/blob/master/mfml_assign2_1.ipynb\" target=\"_parent\"><img src=\"https://colab.research.google.com/assets/colab-badge.svg\" alt=\"Open In Colab\"/></a>"
      ]
    },
    {
      "cell_type": "code",
      "execution_count": 1,
      "metadata": {
        "id": "R9f0hhOhWF82"
      },
      "outputs": [],
      "source": [
        "import numpy as np\n",
        "from functools import reduce\n",
        "from numpy.linalg import eig"
      ]
    },
    {
      "cell_type": "code",
      "execution_count": 9,
      "metadata": {
        "id": "gUWsDNWRRQf7"
      },
      "outputs": [],
      "source": [
        "def create_random_matrix(m=4,n=3):\n",
        "    A = np.random.randint(low=0,high=10,size=(m, n))\n",
        "    A=A.astype(float)\n",
        "    return A\n",
        "def transpose(A):\n",
        "    m=A.shape[0]\n",
        "    n=A.shape[1]\n",
        "    A_T=np.zeros((n,m))\n",
        "    for i in range(n):\n",
        "        A_T[i]=A[:,i]\n",
        "    return A_T\n",
        "def multiply(A,B):\n",
        "    if A.shape[1] != B.shape[0]:\n",
        "       print(\"Illegal multiplication\")\n",
        "       return\n",
        "    m=A.shape[0]\n",
        "    n=A.shape[1]\n",
        "    p=B.shape[1]\n",
        "    C=np.zeros((m,p))\n",
        "    for i in range(m):\n",
        "        for k in range(p):\n",
        "            for j in range(n):\n",
        "                C[i][k]+=A[i][j]*B[j][k]\n",
        "\n",
        "    return C\n",
        "def subtract(A,B):\n",
        "    if A.shape[0] != B.shape[0] or A.shape[1] != B.shape[1]:\n",
        "       print(\"Illegal subtraction\")\n",
        "       return\n",
        "    m=A.shape[0]\n",
        "    n=A.shape[1]\n",
        "    C=np.zeros((m,n))\n",
        "    for i in range(m):\n",
        "        for j in range(n):\n",
        "            C[i][j]=A[i][j]-B[i][j]\n",
        "    return C\n",
        "def create_identity_matrix(n):\n",
        "     I=np.zeros((n,n))\n",
        "     for i in range(n):\n",
        "         I[i][i]=1\n",
        "     return I\n",
        "def create_matrix(m,n):\n",
        "    C=create_random_matrix(m,n)\n",
        "    C_T=transpose(C)\n",
        "    A=multiply(C_T,C)\n",
        "    return A,C_T,C\n",
        "def power_method(A, tol=1e-6, max_iter=1000):\n",
        "    n = A.shape[0]\n",
        "    x = np.random.rand(A.shape[0])\n",
        "    x = x / np.linalg.norm(x)\n",
        "    for i in range(max_iter):\n",
        "        y = np.dot(A, x)\n",
        "        x_new = y/np.linalg.norm(y)\n",
        "        if np.linalg.norm(x_new - x) < tol:\n",
        "            break\n",
        "        x = x_new\n",
        "    return x,np.linalg.norm(np.dot(A,x))/np.linalg.norm(x)\n",
        "def calculate_eigen_vectors_values(A):\n",
        "    eigen_vectors=[]\n",
        "    eigen_values=[]\n",
        "    _calculate_eigen_vectors_values(A,eigen_vectors,eigen_values)\n",
        "    return eigen_vectors,eigen_values\n",
        "def _calculate_eigen_vectors_values(A,eigen_vectors,eigen_values):\n",
        "    if A.shape[0] != A.shape[1]:\n",
        "       print(\"Illegal operation\")\n",
        "       return\n",
        "    if len(eigen_vectors) ==   A.shape[0]:\n",
        "       return\n",
        "    eigen_vector,eigen_value = power_method(A)\n",
        "    eigen_vectors.append(eigen_vector)\n",
        "    eigen_values.append(eigen_value)\n",
        "    x=np.reshape(eigen_vector,(eigen_vector.shape[0],1))\n",
        "    A_next=subtract(A,multiply(multiply(x,transpose(x)),A))\n",
        "    _calculate_eigen_vectors_values(A_next,eigen_vectors,eigen_values)\n",
        "\n",
        "\n",
        "\n"
      ]
    },
    {
      "cell_type": "code",
      "execution_count": 7,
      "metadata": {
        "colab": {
          "base_uri": "https://localhost:8080/"
        },
        "id": "MmQ29W44WhvB",
        "outputId": "4a7c7ae0-4897-4ab3-a40c-79e6ee969ec7"
      },
      "outputs": [
        {
          "output_type": "stream",
          "name": "stdout",
          "text": [
            "C_T=[[0. 3. 0. 8.]\n",
            " [3. 6. 4. 8.]\n",
            " [9. 8. 6. 1.]]\n",
            "C=[[0. 3. 9.]\n",
            " [3. 6. 8.]\n",
            " [0. 4. 6.]\n",
            " [8. 8. 1.]]\n",
            "A=[[ 73.  82.  32.]\n",
            " [ 82. 125. 107.]\n",
            " [ 32. 107. 182.]]\n",
            "E-value: [291.26833116   1.3652255   87.36644334]\n",
            "E-vector [[-0.33714043 -0.66070917 -0.67067109]\n",
            " [-0.62140694  0.69132397 -0.3686795 ]\n",
            " [-0.70724094 -0.29246291  0.64364253]]\n"
          ]
        }
      ],
      "source": [
        "\n",
        "A1,C_T,C=create_matrix(4,3)\n",
        "print(\"C_T={}\".format(C_T))\n",
        "print(\"C={}\".format(C))\n",
        "print(\"A={}\".format(A1))\n",
        "w,v=eig(A1)\n",
        "print('E-value:', w)\n",
        "print('E-vector', v)\n"
      ]
    },
    {
      "cell_type": "code",
      "execution_count": 10,
      "metadata": {
        "colab": {
          "base_uri": "https://localhost:8080/"
        },
        "id": "XEMMZiCjhgCi",
        "outputId": "726e1f96-6bb2-43d8-ae01-5f8185d74f8b"
      },
      "outputs": [
        {
          "output_type": "stream",
          "name": "stdout",
          "text": [
            "eigen_vectors are [array([0.33714085, 0.62140717, 0.70724054]), array([ 0.67067105,  0.36867895, -0.6436429 ]), array([ 0.66070901, -0.69132406,  0.29246306])]\n",
            "eigen_values are [291.26833116185674, 87.36644333783852, 1.3652255003347005]\n"
          ]
        }
      ],
      "source": [
        "eigen_vectors,eigen_values=calculate_eigen_vectors_values(A1)\n",
        "print(\"eigen_vectors are {}\".format(eigen_vectors))\n",
        "print(\"eigen_values are {}\".format(eigen_values))\n"
      ]
    }
  ],
  "metadata": {
    "colab": {
      "provenance": [],
      "authorship_tag": "ABX9TyP6oBs4JnZMxor7O4o2s+3y",
      "include_colab_link": true
    },
    "kernelspec": {
      "display_name": "Python 3",
      "name": "python3"
    },
    "language_info": {
      "name": "python"
    }
  },
  "nbformat": 4,
  "nbformat_minor": 0
}