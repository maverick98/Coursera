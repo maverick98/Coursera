{
  "nbformat": 4,
  "nbformat_minor": 0,
  "metadata": {
    "colab": {
      "provenance": [],
      "authorship_tag": "ABX9TyNpTDPhY6LKLNuCB/jWX4Te",
      "include_colab_link": true
    },
    "kernelspec": {
      "name": "python3",
      "display_name": "Python 3"
    },
    "language_info": {
      "name": "python"
    }
  },
  "cells": [
    {
      "cell_type": "markdown",
      "metadata": {
        "id": "view-in-github",
        "colab_type": "text"
      },
      "source": [
        "<a href=\"https://colab.research.google.com/github/maverick98/Coursera/blob/master/genetic.ipynb\" target=\"_parent\"><img src=\"https://colab.research.google.com/assets/colab-badge.svg\" alt=\"Open In Colab\"/></a>"
      ]
    },
    {
      "cell_type": "code",
      "source": [
        "import random\n",
        "\n",
        "# Define parameters\n",
        "TARGET_STRING = \"1011101111\"\n",
        "POPULATION_SIZE = 100\n",
        "MUTATION_RATE = 0.01\n",
        "\n",
        "# Function to generate a random individual (binary string)\n",
        "def generate_individual(length):\n",
        "    return ''.join(random.choice('01') for _ in range(length))\n",
        "\n",
        "# Function to generate the initial population\n",
        "def generate_population(population_size, target_length):\n",
        "    return [generate_individual(len(TARGET_STRING)) for _ in range(population_size)]\n",
        "\n",
        "# Function to calculate the fitness of an individual (number of matching characters)\n",
        "def calculate_fitness(individual):\n",
        "    return sum(1 for i in range(len(TARGET_STRING)) if individual[i] == TARGET_STRING[i])\n",
        "\n",
        "# Function to select parents based on their fitness\n",
        "def select_parents(population, fitness_scores):\n",
        "    total_fitness = sum(fitness_scores)\n",
        "    if total_fitness > 0:\n",
        "        probabilities = [fitness / total_fitness for fitness in fitness_scores]\n",
        "        return random.choices(population, weights=probabilities, k=2)\n",
        "    return random.choices(population, k=2)\n",
        "\n",
        "# Function to perform crossover between two parents\n",
        "def crossover(parent1, parent2):\n",
        "    crossover_point = random.randint(1, len(TARGET_STRING) - 1)\n",
        "    child1 = parent1[:crossover_point] + parent2[crossover_point:]\n",
        "    child2 = parent2[:crossover_point] + parent1[crossover_point:]\n",
        "    return child1, child2\n",
        "\n",
        "# Function to perform mutation\n",
        "def mutate(individual):\n",
        "    mutated_individual = ''\n",
        "    for bit in individual:\n",
        "        if random.random() < MUTATION_RATE:\n",
        "            mutated_individual += '0' if bit == '1' else '1'\n",
        "        else:\n",
        "            mutated_individual += bit\n",
        "    return mutated_individual\n",
        "\n",
        "# Main genetic algorithm function\n",
        "def genetic_algorithm():\n",
        "    population = generate_population(POPULATION_SIZE, len(TARGET_STRING))\n",
        "\n",
        "    for generation in range(1000):  # Arbitrary number of generations\n",
        "        fitness_scores = [calculate_fitness(individual) for individual in population]\n",
        "\n",
        "        # Check for solution\n",
        "        if any(score == len(TARGET_STRING) for score in fitness_scores):\n",
        "            print(\"Solution found in generation\", generation)\n",
        "            break\n",
        "\n",
        "        new_population = []\n",
        "\n",
        "        for _ in range(POPULATION_SIZE // 2):\n",
        "            parent1, parent2 = select_parents(population, fitness_scores)\n",
        "            child1, child2 = crossover(parent1, parent2)\n",
        "            new_population.extend([mutate(child1), mutate(child2)])\n",
        "\n",
        "        population = new_population\n",
        "\n",
        "    # Display the best individual found\n",
        "    best_individual = max(population, key=calculate_fitness)\n",
        "    print(\"Best individual:\", best_individual, \"Fitness:\", calculate_fitness(best_individual), \"Best Fitness\",len(TARGET_STRING))\n",
        "\n",
        "# Run the genetic algorithm\n",
        "genetic_algorithm()"
      ],
      "metadata": {
        "colab": {
          "base_uri": "https://localhost:8080/"
        },
        "id": "HWiDPqq64xQZ",
        "outputId": "ee7e2faf-fed6-4d14-aa18-521d4ce72662"
      },
      "execution_count": 20,
      "outputs": [
        {
          "output_type": "stream",
          "name": "stdout",
          "text": [
            "Solution found in generation 2\n",
            "Best individual: 1011101111 Fitness: 10 Best Fitness 10\n"
          ]
        }
      ]
    }
  ]
}