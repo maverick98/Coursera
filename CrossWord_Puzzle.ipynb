{
  "nbformat": 4,
  "nbformat_minor": 0,
  "metadata": {
    "colab": {
      "provenance": [],
      "authorship_tag": "ABX9TyMnlvJ6Yl3cq0wtPfP+R0/l",
      "include_colab_link": true
    },
    "kernelspec": {
      "name": "python3",
      "display_name": "Python 3"
    },
    "language_info": {
      "name": "python"
    }
  },
  "cells": [
    {
      "cell_type": "markdown",
      "metadata": {
        "id": "view-in-github",
        "colab_type": "text"
      },
      "source": [
        "<a href=\"https://colab.research.google.com/github/maverick98/Coursera/blob/master/CrossWord_Puzzle.ipynb\" target=\"_parent\"><img src=\"https://colab.research.google.com/assets/colab-badge.svg\" alt=\"Open In Colab\"/></a>"
      ]
    },
    {
      "cell_type": "code",
      "execution_count": 1,
      "metadata": {
        "colab": {
          "base_uri": "https://localhost:8080/",
          "height": 822
        },
        "id": "jqHVVE14eQcK",
        "outputId": "03bf3a11-f8d2-4b5d-9aab-125622192911"
      },
      "outputs": [
        {
          "output_type": "stream",
          "name": "stdout",
          "text": [
            "#| _| _| _| _| #| _| \n",
            "_| #| #| _| #| #| _| \n",
            "_| #| #| _| #| #| _| \n",
            "_| #| _| _| _| _| _| \n",
            "#| #| _| #| #| #| #| \n",
            "_| _| _| _| _| _| _| \n",
            "#| #| _| #| #| #| #| \n",
            "_| _| _| _| _| _| #| \n",
            "#| #| _| #| #| #| #| \n",
            "#| #| _| _| _| _| #| \n",
            "\n",
            "Current Word is PEACOCK\n",
            "Insert the Row coordinate: 5\n",
            "Insert the Col coordinate: 0\n",
            "Insert the Direction(1=Across,2=Down): 1\n",
            "#| _| _| _| _| #| _| \n",
            "_| #| #| _| #| #| _| \n",
            "_| #| #| _| #| #| _| \n",
            "_| #| _| _| _| _| _| \n",
            "#| #| _| #| #| #| #| \n",
            "P| E| A| C| O| C| K| \n",
            "#| #| _| #| #| #| #| \n",
            "_| _| _| _| _| _| #| \n",
            "#| #| _| #| #| #| #| \n",
            "#| #| _| _| _| _| #| \n",
            "\n"
          ]
        },
        {
          "output_type": "error",
          "ename": "IndexError",
          "evalue": "list index out of range",
          "traceback": [
            "\u001b[0;31m---------------------------------------------------------------------------\u001b[0m",
            "\u001b[0;31mIndexError\u001b[0m                                Traceback (most recent call last)",
            "\u001b[0;32m<ipython-input-1-50ee6b739b2c>\u001b[0m in \u001b[0;36m<cell line: 346>\u001b[0;34m()\u001b[0m\n\u001b[1;32m    345\u001b[0m \u001b[0;34m\u001b[0m\u001b[0m\n\u001b[1;32m    346\u001b[0m \u001b[0;32mif\u001b[0m \u001b[0m__name__\u001b[0m \u001b[0;34m==\u001b[0m \u001b[0;34m\"__main__\"\u001b[0m\u001b[0;34m:\u001b[0m\u001b[0;34m\u001b[0m\u001b[0;34m\u001b[0m\u001b[0m\n\u001b[0;32m--> 347\u001b[0;31m     \u001b[0mmain\u001b[0m\u001b[0;34m(\u001b[0m\u001b[0;34m)\u001b[0m\u001b[0;34m\u001b[0m\u001b[0;34m\u001b[0m\u001b[0m\n\u001b[0m\u001b[1;32m    348\u001b[0m \u001b[0;34m\u001b[0m\u001b[0m\n\u001b[1;32m    349\u001b[0m \u001b[0;34m\u001b[0m\u001b[0m\n",
            "\u001b[0;32m<ipython-input-1-50ee6b739b2c>\u001b[0m in \u001b[0;36mmain\u001b[0;34m()\u001b[0m\n\u001b[1;32m    341\u001b[0m     \u001b[0;31m#game.show_actual_coordinates_of_words()\u001b[0m\u001b[0;34m\u001b[0m\u001b[0;34m\u001b[0m\u001b[0m\n\u001b[1;32m    342\u001b[0m     \u001b[0;31m#print(game.get_actual_coordinate('SPARROW'))\u001b[0m\u001b[0;34m\u001b[0m\u001b[0;34m\u001b[0m\u001b[0m\n\u001b[0;32m--> 343\u001b[0;31m     \u001b[0mgame\u001b[0m\u001b[0;34m.\u001b[0m\u001b[0mplay_alpha_beta\u001b[0m\u001b[0;34m(\u001b[0m\u001b[0;34m)\u001b[0m\u001b[0;34m\u001b[0m\u001b[0;34m\u001b[0m\u001b[0m\n\u001b[0m\u001b[1;32m    344\u001b[0m \u001b[0;34m\u001b[0m\u001b[0m\n\u001b[1;32m    345\u001b[0m \u001b[0;34m\u001b[0m\u001b[0m\n",
            "\u001b[0;32m<ipython-input-1-50ee6b739b2c>\u001b[0m in \u001b[0;36mplay_alpha_beta\u001b[0;34m(self)\u001b[0m\n\u001b[1;32m    326\u001b[0m \u001b[0;34m\u001b[0m\u001b[0m\n\u001b[1;32m    327\u001b[0m             \u001b[0;32melse\u001b[0m\u001b[0;34m:\u001b[0m\u001b[0;34m\u001b[0m\u001b[0;34m\u001b[0m\u001b[0m\n\u001b[0;32m--> 328\u001b[0;31m                 \u001b[0;34m(\u001b[0m\u001b[0m_\u001b[0m\u001b[0;34m,\u001b[0m \u001b[0mrow\u001b[0m\u001b[0;34m,\u001b[0m\u001b[0mcol\u001b[0m\u001b[0;34m,\u001b[0m\u001b[0mword_direction\u001b[0m\u001b[0;34m)\u001b[0m \u001b[0;34m=\u001b[0m \u001b[0mself\u001b[0m\u001b[0;34m.\u001b[0m\u001b[0mmax_alpha_beta\u001b[0m\u001b[0;34m(\u001b[0m\u001b[0mword\u001b[0m\u001b[0;34m,\u001b[0m\u001b[0;34m-\u001b[0m\u001b[0minfinity\u001b[0m\u001b[0;34m,\u001b[0m \u001b[0minfinity\u001b[0m\u001b[0;34m)\u001b[0m\u001b[0;34m\u001b[0m\u001b[0;34m\u001b[0m\u001b[0m\n\u001b[0m\u001b[1;32m    329\u001b[0m                 \u001b[0mself\u001b[0m\u001b[0;34m.\u001b[0m\u001b[0mplace_word\u001b[0m\u001b[0;34m(\u001b[0m\u001b[0mword\u001b[0m\u001b[0;34m,\u001b[0m\u001b[0mrow\u001b[0m\u001b[0;34m,\u001b[0m\u001b[0mcol\u001b[0m\u001b[0;34m,\u001b[0m\u001b[0mword_direction\u001b[0m\u001b[0;34m)\u001b[0m\u001b[0;34m\u001b[0m\u001b[0;34m\u001b[0m\u001b[0m\n\u001b[1;32m    330\u001b[0m                 \u001b[0mself\u001b[0m\u001b[0;34m.\u001b[0m\u001b[0mplayer_turn\u001b[0m \u001b[0;34m=\u001b[0m  \u001b[0mPlayer\u001b[0m\u001b[0;34m.\u001b[0m\u001b[0mHUMAN\u001b[0m\u001b[0;34m\u001b[0m\u001b[0;34m\u001b[0m\u001b[0m\n",
            "\u001b[0;32m<ipython-input-1-50ee6b739b2c>\u001b[0m in \u001b[0;36mmax_alpha_beta\u001b[0;34m(self, word, alpha, beta)\u001b[0m\n\u001b[1;32m    201\u001b[0m                         \u001b[0mself\u001b[0m\u001b[0;34m.\u001b[0m\u001b[0mplace_word\u001b[0m\u001b[0;34m(\u001b[0m\u001b[0mword\u001b[0m\u001b[0;34m,\u001b[0m \u001b[0mi\u001b[0m\u001b[0;34m,\u001b[0m \u001b[0mj\u001b[0m\u001b[0;34m,\u001b[0m \u001b[0mdirection\u001b[0m\u001b[0;34m)\u001b[0m\u001b[0;34m\u001b[0m\u001b[0;34m\u001b[0m\u001b[0m\n\u001b[1;32m    202\u001b[0m                         \u001b[0mnext_word\u001b[0m\u001b[0;34m=\u001b[0m\u001b[0mself\u001b[0m\u001b[0;34m.\u001b[0m\u001b[0mwords_stack\u001b[0m\u001b[0;34m.\u001b[0m\u001b[0mpop\u001b[0m\u001b[0;34m(\u001b[0m\u001b[0;34m)\u001b[0m\u001b[0;34m\u001b[0m\u001b[0;34m\u001b[0m\u001b[0m\n\u001b[0;32m--> 203\u001b[0;31m                         \u001b[0;34m(\u001b[0m\u001b[0mm\u001b[0m\u001b[0;34m,\u001b[0m \u001b[0m_\u001b[0m\u001b[0;34m,\u001b[0m \u001b[0m_\u001b[0m\u001b[0;34m,\u001b[0m\u001b[0m_\u001b[0m\u001b[0;34m)\u001b[0m \u001b[0;34m=\u001b[0m \u001b[0mself\u001b[0m\u001b[0;34m.\u001b[0m\u001b[0mmin_alpha_beta\u001b[0m\u001b[0;34m(\u001b[0m\u001b[0mnext_word\u001b[0m\u001b[0;34m,\u001b[0m\u001b[0malpha\u001b[0m\u001b[0;34m,\u001b[0m \u001b[0mbeta\u001b[0m\u001b[0;34m)\u001b[0m\u001b[0;34m\u001b[0m\u001b[0;34m\u001b[0m\u001b[0m\n\u001b[0m\u001b[1;32m    204\u001b[0m                         \u001b[0mself\u001b[0m\u001b[0;34m.\u001b[0m\u001b[0mwords_stack\u001b[0m\u001b[0;34m.\u001b[0m\u001b[0mappend\u001b[0m\u001b[0;34m(\u001b[0m\u001b[0mnext_word\u001b[0m\u001b[0;34m)\u001b[0m\u001b[0;34m\u001b[0m\u001b[0;34m\u001b[0m\u001b[0m\n\u001b[1;32m    205\u001b[0m                         \u001b[0;32mif\u001b[0m \u001b[0mm\u001b[0m \u001b[0;34m>\u001b[0m \u001b[0mmaxv\u001b[0m\u001b[0;34m:\u001b[0m\u001b[0;34m\u001b[0m\u001b[0;34m\u001b[0m\u001b[0m\n",
            "\u001b[0;32m<ipython-input-1-50ee6b739b2c>\u001b[0m in \u001b[0;36mmin_alpha_beta\u001b[0;34m(self, word, alpha, beta)\u001b[0m\n\u001b[1;32m    242\u001b[0m                         \u001b[0mself\u001b[0m\u001b[0;34m.\u001b[0m\u001b[0mplace_word\u001b[0m\u001b[0;34m(\u001b[0m\u001b[0mword\u001b[0m\u001b[0;34m,\u001b[0m \u001b[0mi\u001b[0m\u001b[0;34m,\u001b[0m \u001b[0mj\u001b[0m\u001b[0;34m,\u001b[0m \u001b[0mdirection\u001b[0m\u001b[0;34m)\u001b[0m\u001b[0;34m\u001b[0m\u001b[0;34m\u001b[0m\u001b[0m\n\u001b[1;32m    243\u001b[0m                         \u001b[0mnext_word\u001b[0m\u001b[0;34m=\u001b[0m\u001b[0mself\u001b[0m\u001b[0;34m.\u001b[0m\u001b[0mwords_stack\u001b[0m\u001b[0;34m.\u001b[0m\u001b[0mpop\u001b[0m\u001b[0;34m(\u001b[0m\u001b[0;34m)\u001b[0m\u001b[0;34m\u001b[0m\u001b[0;34m\u001b[0m\u001b[0m\n\u001b[0;32m--> 244\u001b[0;31m                         \u001b[0;34m(\u001b[0m\u001b[0mm\u001b[0m\u001b[0;34m,\u001b[0m \u001b[0m_\u001b[0m\u001b[0;34m,\u001b[0m \u001b[0m_\u001b[0m\u001b[0;34m,\u001b[0m\u001b[0m_\u001b[0m\u001b[0;34m)\u001b[0m \u001b[0;34m=\u001b[0m \u001b[0mself\u001b[0m\u001b[0;34m.\u001b[0m\u001b[0mmax_alpha_beta\u001b[0m\u001b[0;34m(\u001b[0m\u001b[0mnext_word\u001b[0m\u001b[0;34m,\u001b[0m\u001b[0malpha\u001b[0m\u001b[0;34m,\u001b[0m \u001b[0mbeta\u001b[0m\u001b[0;34m)\u001b[0m\u001b[0;34m\u001b[0m\u001b[0;34m\u001b[0m\u001b[0m\n\u001b[0m\u001b[1;32m    245\u001b[0m                         \u001b[0mself\u001b[0m\u001b[0;34m.\u001b[0m\u001b[0mwords_stack\u001b[0m\u001b[0;34m.\u001b[0m\u001b[0mappend\u001b[0m\u001b[0;34m(\u001b[0m\u001b[0mnext_word\u001b[0m\u001b[0;34m)\u001b[0m\u001b[0;34m\u001b[0m\u001b[0;34m\u001b[0m\u001b[0m\n\u001b[1;32m    246\u001b[0m                         \u001b[0;32mif\u001b[0m \u001b[0mm\u001b[0m \u001b[0;34m<\u001b[0m \u001b[0mminv\u001b[0m\u001b[0;34m:\u001b[0m\u001b[0;34m\u001b[0m\u001b[0;34m\u001b[0m\u001b[0m\n",
            "\u001b[0;32m<ipython-input-1-50ee6b739b2c>\u001b[0m in \u001b[0;36mmax_alpha_beta\u001b[0;34m(self, word, alpha, beta)\u001b[0m\n\u001b[1;32m    201\u001b[0m                         \u001b[0mself\u001b[0m\u001b[0;34m.\u001b[0m\u001b[0mplace_word\u001b[0m\u001b[0;34m(\u001b[0m\u001b[0mword\u001b[0m\u001b[0;34m,\u001b[0m \u001b[0mi\u001b[0m\u001b[0;34m,\u001b[0m \u001b[0mj\u001b[0m\u001b[0;34m,\u001b[0m \u001b[0mdirection\u001b[0m\u001b[0;34m)\u001b[0m\u001b[0;34m\u001b[0m\u001b[0;34m\u001b[0m\u001b[0m\n\u001b[1;32m    202\u001b[0m                         \u001b[0mnext_word\u001b[0m\u001b[0;34m=\u001b[0m\u001b[0mself\u001b[0m\u001b[0;34m.\u001b[0m\u001b[0mwords_stack\u001b[0m\u001b[0;34m.\u001b[0m\u001b[0mpop\u001b[0m\u001b[0;34m(\u001b[0m\u001b[0;34m)\u001b[0m\u001b[0;34m\u001b[0m\u001b[0;34m\u001b[0m\u001b[0m\n\u001b[0;32m--> 203\u001b[0;31m                         \u001b[0;34m(\u001b[0m\u001b[0mm\u001b[0m\u001b[0;34m,\u001b[0m \u001b[0m_\u001b[0m\u001b[0;34m,\u001b[0m \u001b[0m_\u001b[0m\u001b[0;34m,\u001b[0m\u001b[0m_\u001b[0m\u001b[0;34m)\u001b[0m \u001b[0;34m=\u001b[0m \u001b[0mself\u001b[0m\u001b[0;34m.\u001b[0m\u001b[0mmin_alpha_beta\u001b[0m\u001b[0;34m(\u001b[0m\u001b[0mnext_word\u001b[0m\u001b[0;34m,\u001b[0m\u001b[0malpha\u001b[0m\u001b[0;34m,\u001b[0m \u001b[0mbeta\u001b[0m\u001b[0;34m)\u001b[0m\u001b[0;34m\u001b[0m\u001b[0;34m\u001b[0m\u001b[0m\n\u001b[0m\u001b[1;32m    204\u001b[0m                         \u001b[0mself\u001b[0m\u001b[0;34m.\u001b[0m\u001b[0mwords_stack\u001b[0m\u001b[0;34m.\u001b[0m\u001b[0mappend\u001b[0m\u001b[0;34m(\u001b[0m\u001b[0mnext_word\u001b[0m\u001b[0;34m)\u001b[0m\u001b[0;34m\u001b[0m\u001b[0;34m\u001b[0m\u001b[0m\n\u001b[1;32m    205\u001b[0m                         \u001b[0;32mif\u001b[0m \u001b[0mm\u001b[0m \u001b[0;34m>\u001b[0m \u001b[0mmaxv\u001b[0m\u001b[0;34m:\u001b[0m\u001b[0;34m\u001b[0m\u001b[0;34m\u001b[0m\u001b[0m\n",
            "\u001b[0;32m<ipython-input-1-50ee6b739b2c>\u001b[0m in \u001b[0;36mmin_alpha_beta\u001b[0;34m(self, word, alpha, beta)\u001b[0m\n\u001b[1;32m    250\u001b[0m                             \u001b[0mq_direction\u001b[0m \u001b[0;34m=\u001b[0m \u001b[0mdirection\u001b[0m\u001b[0;34m\u001b[0m\u001b[0;34m\u001b[0m\u001b[0m\n\u001b[1;32m    251\u001b[0m                         \u001b[0mempty_word\u001b[0m\u001b[0;34m=\u001b[0m\u001b[0;34m''\u001b[0m\u001b[0;34m.\u001b[0m\u001b[0mjoin\u001b[0m\u001b[0;34m(\u001b[0m\u001b[0;34m[\u001b[0m\u001b[0;34m'_'\u001b[0m \u001b[0;32mfor\u001b[0m \u001b[0m_\u001b[0m \u001b[0;32min\u001b[0m \u001b[0mword\u001b[0m\u001b[0;34m]\u001b[0m\u001b[0;34m)\u001b[0m\u001b[0;34m\u001b[0m\u001b[0;34m\u001b[0m\u001b[0m\n\u001b[0;32m--> 252\u001b[0;31m                         \u001b[0mself\u001b[0m\u001b[0;34m.\u001b[0m\u001b[0mplace_word\u001b[0m\u001b[0;34m(\u001b[0m\u001b[0mempty_word\u001b[0m\u001b[0;34m,\u001b[0m \u001b[0mi\u001b[0m\u001b[0;34m,\u001b[0m \u001b[0mj\u001b[0m\u001b[0;34m,\u001b[0m \u001b[0mq_direction\u001b[0m\u001b[0;34m)\u001b[0m\u001b[0;34m\u001b[0m\u001b[0;34m\u001b[0m\u001b[0m\n\u001b[0m\u001b[1;32m    253\u001b[0m \u001b[0;34m\u001b[0m\u001b[0m\n\u001b[1;32m    254\u001b[0m                         \u001b[0;32mif\u001b[0m \u001b[0mminv\u001b[0m \u001b[0;34m<=\u001b[0m \u001b[0malpha\u001b[0m\u001b[0;34m:\u001b[0m\u001b[0;34m\u001b[0m\u001b[0;34m\u001b[0m\u001b[0m\n",
            "\u001b[0;32m<ipython-input-1-50ee6b739b2c>\u001b[0m in \u001b[0;36mplace_word\u001b[0;34m(self, word, row, col, direction)\u001b[0m\n\u001b[1;32m    163\u001b[0m         \u001b[0;32melif\u001b[0m \u001b[0mdirection\u001b[0m \u001b[0;34m==\u001b[0m \u001b[0mDirection\u001b[0m\u001b[0;34m.\u001b[0m\u001b[0mDOWN\u001b[0m\u001b[0;34m:\u001b[0m\u001b[0;34m\u001b[0m\u001b[0;34m\u001b[0m\u001b[0m\n\u001b[1;32m    164\u001b[0m             \u001b[0;32mfor\u001b[0m \u001b[0mi\u001b[0m\u001b[0;34m,\u001b[0m \u001b[0mword_char\u001b[0m \u001b[0;32min\u001b[0m \u001b[0menumerate\u001b[0m\u001b[0;34m(\u001b[0m\u001b[0mword\u001b[0m\u001b[0;34m)\u001b[0m\u001b[0;34m:\u001b[0m\u001b[0;34m\u001b[0m\u001b[0;34m\u001b[0m\u001b[0m\n\u001b[0;32m--> 165\u001b[0;31m                 \u001b[0mself\u001b[0m\u001b[0;34m.\u001b[0m\u001b[0mcurrent_board\u001b[0m\u001b[0;34m[\u001b[0m\u001b[0mrow\u001b[0m \u001b[0;34m+\u001b[0m \u001b[0mi\u001b[0m\u001b[0;34m]\u001b[0m\u001b[0;34m[\u001b[0m\u001b[0mcol\u001b[0m\u001b[0;34m]\u001b[0m \u001b[0;34m=\u001b[0m \u001b[0mword_char\u001b[0m\u001b[0;34m\u001b[0m\u001b[0;34m\u001b[0m\u001b[0m\n\u001b[0m\u001b[1;32m    166\u001b[0m     \u001b[0;32mdef\u001b[0m \u001b[0mis_endofgame\u001b[0m\u001b[0;34m(\u001b[0m\u001b[0mself\u001b[0m\u001b[0;34m)\u001b[0m\u001b[0;34m:\u001b[0m\u001b[0;34m\u001b[0m\u001b[0;34m\u001b[0m\u001b[0m\n\u001b[1;32m    167\u001b[0m         \u001b[0mgame_finished\u001b[0m\u001b[0;34m=\u001b[0m\u001b[0;32mFalse\u001b[0m\u001b[0;34m\u001b[0m\u001b[0;34m\u001b[0m\u001b[0m\n",
            "\u001b[0;31mIndexError\u001b[0m: list index out of range"
          ]
        }
      ],
      "source": [
        "from math import inf as infinity\n",
        "from enum import Enum\n",
        "import time\n",
        "class Direction(Enum):\n",
        "    ACROSS = 1\n",
        "    DOWN = 2\n",
        "class Player(Enum):\n",
        "    HUMAN=1\n",
        "    COMPUTER=2\n",
        "    NEUTRAL=3\n",
        "\n",
        "\n",
        "class CrosswordPuzzle:\n",
        "\n",
        "    def __init__(self):\n",
        "        self.initialize_board()\n",
        "\n",
        "    def initialize_board(self):\n",
        "        self.final_board=  [\n",
        "                            ['#' , 'D' , 'U' , 'C' , 'K' , '#' , 'D'],\n",
        "                            ['E' , '#' , '#' , 'R' , '#' , '#' , 'O'],\n",
        "                            ['M' , '#' , '#' , 'O' , '#' , '#' , 'V'],\n",
        "                            ['U' , '#' , 'S' , 'W' , 'A' , 'N' , 'E'],\n",
        "                            ['#' , '#' , 'P' , '#' , '#' , '#' , '#'],\n",
        "                            ['P' , 'E' , 'A' , 'C' , 'O' , 'C' , 'K'],\n",
        "                            ['#' , '#' , 'R' , '#' , '#' , '#' , '#'],\n",
        "                            ['P' , 'A' , 'R' , 'R' , 'O' , 'T' , '#'],\n",
        "                            ['#' , '#' , 'O' , '#' , '#' , '#' , '#'],\n",
        "                            ['#' , '#' , 'W' , 'R' , 'E' , 'N' , '#']\n",
        "                          ]\n",
        "        self.current_board=[\n",
        "                            ['#' , '_' , '_' , '_' , '_' , '#' , '_'],\n",
        "                            ['_' , '#' , '#' , '_' , '#' , '#' , '_'],\n",
        "                            ['_' , '#' , '#' , '_' , '#' , '#' , '_'],\n",
        "                            ['_' , '#' , '_' , '_' , '_' , '_' , '_'],\n",
        "                            ['#' , '#' , '_' , '#' , '#' , '#' , '#'],\n",
        "                            ['_' , '_' , '_' , '_' , '_' , '_' , '_'],\n",
        "                            ['#' , '#' , '_' , '#' , '#' , '#' , '#'],\n",
        "                            ['_' , '_' , '_' , '_' , '_' , '_' , '#'],\n",
        "                            ['#' , '#' , '_' , '#' , '#' , '#' , '#'],\n",
        "                            ['#' , '#' , '_' , '_' , '_' , '_' , '#']\n",
        "                          ]\n",
        "        self.ROWS=len(self.final_board)\n",
        "        self.COLS=len(self.final_board[0])\n",
        "        self.across_words_array=self.calculate_across_words()\n",
        "        self.down_words_array=self.calculate_down_words()\n",
        "        self.directions=[Direction.ACROSS,Direction.DOWN]\n",
        "\n",
        "        #The key '2-Across' is a hint to the user.\n",
        "        #2 can be either row or column. The user has to think accordingly.\n",
        "        #Across and Down are self explanatory\n",
        "        #Thus '4-Down': 'SPARROW' means The user has to put SPARROW on either 4th row or 4th column\n",
        "        #Vertically down. Please note, another hint could have been '3-DOWN'. The coordinate of 'S' of SPARROW is\n",
        "        #(4,3)\n",
        "        #However the the computer knows the final position of the board. Thus we (the computer) do not need such hint\n",
        "        # to play the game.\n",
        "        self.words = {\n",
        "                        'SPARROW':'4-Down',\n",
        "                        'DUCK':'2-Across',\n",
        "                        'WREN':'3-Across',\n",
        "                        'SWAN':'4-Across',\n",
        "                        'CROW':'4-Down',\n",
        "                        'DOVE':'7-Down',\n",
        "                        'PEACOCK':'6-Across',\n",
        "                        'PARROT':'8-Across'\n",
        "                      }\n",
        "        self.words_actual_coordinates=self.calculate_actual_coordinates_of_words();\n",
        "        self.player_turn=Player.HUMAN\n",
        "        self.human_score=0\n",
        "        self.computer_score=0\n",
        "        self.words_stack=self.sort_words()\n",
        "    def sort_words(self):\n",
        "        words_stack=[]\n",
        "        for word,_ in self.words.items():\n",
        "            words_stack.append(word)\n",
        "        words_stack.sort(key = lambda x : len(x))\n",
        "        return words_stack\n",
        "    def calculate_across_words(self):\n",
        "        result=[]\n",
        "        for i in range(0, self.ROWS):\n",
        "            across_words=\"\".join(self.final_board[i])\n",
        "            result.append(across_words)\n",
        "        return result\n",
        "    def calculate_down_words(self):\n",
        "        result=[]\n",
        "        for j in range(0, self.COLS):\n",
        "            down_words=[]\n",
        "            for i in range(0, self.ROWS):\n",
        "                down_words.append(self.final_board[i][j])\n",
        "            result.append(\"\".join(down_words))\n",
        "        return result\n",
        "    def get_actual_coordinate(self,word):\n",
        "        return self.words_actual_coordinates[word]\n",
        "    def calculate_actual_coordinate(self,word):\n",
        "        tmp = [across_words.find(word) for across_words in self.across_words_array]\n",
        "        row=-1\n",
        "        col=-1\n",
        "        direction=None\n",
        "        if any(num >=0 for num in tmp):\n",
        "            col=sum([ idx for idx in tmp if idx >=0])\n",
        "            row=tmp.index(col)\n",
        "            direction=Direction.ACROSS\n",
        "        else:\n",
        "            tmp = [down_words.find(word) for down_words in self.down_words_array]\n",
        "            if any(num >=0 for num in tmp):\n",
        "               row=sum([ idx for idx in tmp if idx >=0])\n",
        "               col=tmp.index(row)\n",
        "               direction=Direction.DOWN\n",
        "        return row,col,direction\n",
        "    def calculate_actual_coordinates_of_words(self):\n",
        "        result={}\n",
        "        for word,_ in self.words.items():\n",
        "            row,col,direction=self.calculate_actual_coordinate(word)\n",
        "            result[word]=(row,col,direction)\n",
        "        return result\n",
        "    def show_actual_coordinates_of_words(self):\n",
        "        for word,(row,col,direction) in self.words_actual_coordinates.items():\n",
        "            print('{} = ({},{},{})'.format(word,row,col,direction))\n",
        "    def draw_board(self):\n",
        "        for i in range(0, self.ROWS):\n",
        "            for j in range(0, self.COLS):\n",
        "                print('{}|'.format(self.current_board[i][j]), end=\" \")\n",
        "            print()\n",
        "        print()\n",
        "\n",
        "    def is_valid_move(self, word, row, col, direction):\n",
        "        if direction == Direction.ACROSS:\n",
        "            if len(word) > self.COLS - col:\n",
        "                return False\n",
        "            for i, word_char in enumerate(word):\n",
        "                if self.current_board[row][col + i] != '_' and self.current_board[row][col + i] != word_char:\n",
        "                    return False\n",
        "        elif direction == Direction.DOWN:\n",
        "            if len(word) > self.ROWS - row:\n",
        "                return False\n",
        "            for i, word_char in enumerate(word):\n",
        "                if self.current_board[row + i][col] != '_' and self.current_board[row + i][col] != word_char:\n",
        "                    return False\n",
        "        return True\n",
        "    def test_is_valid_move(self):\n",
        "        print(self.is_valid_move('DUCK',0,1,Direction.ACROSS))\n",
        "        print(self.is_valid_move('DUCK',0,1,Direction.DOWN) == False)\n",
        "        print(self.is_valid_move('DOVE',0,6,Direction.DOWN))\n",
        "        print(self.is_valid_move('DOVE',0,6,Direction.ACROSS)==False)\n",
        "        print(self.is_valid_move('PEACOCK',5,0,Direction.ACROSS))\n",
        "        print(self.is_valid_move('PEACOCK',5,0,Direction.DOWN) == False)\n",
        "        print(self.is_valid_move('PARROT',7,0,Direction.ACROSS))\n",
        "        print(self.is_valid_move('PARROT',7,0,Direction.DOWN) == False)\n",
        "        print(self.is_valid_move('WREN',9,2,Direction.ACROSS))\n",
        "        print(self.is_valid_move('WREN',9,2,Direction.DOWN) == False)\n",
        "        print(self.is_valid_move('EMU',1,0,Direction.DOWN))\n",
        "        print(self.is_valid_move('EMU',1,0,Direction.ACROSS) == False)\n",
        "        print(self.is_valid_move('CROW',0,3,Direction.DOWN))\n",
        "        print(self.is_valid_move('CROW',0,3,Direction.ACROSS) == False)\n",
        "        print(self.is_valid_move('SWAN',3,2,Direction.ACROSS))\n",
        "        print(self.is_valid_move('SWAN',3,2,Direction.DOWN) == True)\n",
        "        #SWAN can be put vertically down. That's when we will punish the user with -1 marks\n",
        "        #We, the computer, will put it across at (3,2)\n",
        "    def place_word(self, word, row, col, direction):\n",
        "        if direction == Direction.ACROSS:\n",
        "            for i, word_char in enumerate(word):\n",
        "                self.current_board[row][col + i] = word_char\n",
        "        elif direction == Direction.DOWN:\n",
        "            for i, word_char in enumerate(word):\n",
        "                self.current_board[row + i][col] = word_char\n",
        "    def is_endofgame(self):\n",
        "        game_finished=False\n",
        "        empty_space_count=sum([arr.count('_') for arr in self.current_board])\n",
        "        if empty_space_count == 0 or len(self.words_stack) == 0:\n",
        "            game_finished=True\n",
        "        if game_finished == True:\n",
        "           game_winner = Player.NEUTRAL\n",
        "           if self.human_score > self.computer_score:\n",
        "                game_winner = Player.HUMAN\n",
        "           elif self.human_score < self.computer_score:\n",
        "                game_winner = Player.COMPUTER\n",
        "           else:\n",
        "                game_winner=Player.NEUTRAL\n",
        "           return game_winner\n",
        "        return None\n",
        "\n",
        "    def max_alpha_beta(self,word, alpha, beta):\n",
        "        maxv = -infinity\n",
        "        px = None\n",
        "        py = None\n",
        "        p_direction = None\n",
        "\n",
        "        result = self.is_endofgame()\n",
        "\n",
        "        if result == Player.HUMAN:\n",
        "            return (-1, 0, 0,None)\n",
        "        elif result == Player.COMPUTER:\n",
        "            return (1, 0, 0,None)\n",
        "        elif result == Player.NEUTRAL:\n",
        "            return (0, 0, 0,None)\n",
        "\n",
        "        for i in range(0, self.ROWS):\n",
        "            for j in range(0, self.COLS):\n",
        "                for direction in self.directions:\n",
        "                    if self.is_valid_move(word, i, j, direction):\n",
        "                        self.place_word(word, i, j, direction)\n",
        "                        next_word=self.words_stack.pop()\n",
        "                        (m, _, _,_) = self.min_alpha_beta(next_word,alpha, beta)\n",
        "                        self.words_stack.append(next_word)\n",
        "                        if m > maxv:\n",
        "                            maxv = m\n",
        "                            px = i\n",
        "                            py = j\n",
        "                            p_direction=direction\n",
        "                        empty_word=''.join(['_' for _ in word])\n",
        "                        self.place_word(empty_word, i, j, p_direction)\n",
        "\n",
        "                        # Next two ifs in Max and Min are the only difference between regular algorithm and minimax\n",
        "                        if maxv >= beta:\n",
        "                            return (maxv, px, py,p_direction)\n",
        "\n",
        "                        if maxv > alpha:\n",
        "                            alpha = maxv\n",
        "\n",
        "        return (maxv, px, py , p_direction)\n",
        "    def min_alpha_beta(self,word, alpha, beta):\n",
        "\n",
        "        minv = infinity\n",
        "\n",
        "        qx = None\n",
        "        qy = None\n",
        "        q_direction = None\n",
        "\n",
        "        result = self.is_endofgame()\n",
        "\n",
        "        if result == Player.HUMAN:\n",
        "            return (-1, 0, 0,None)\n",
        "        elif result == Player.COMPUTER:\n",
        "            return (1, 0, 0,None)\n",
        "        elif result == Player.NEUTRAL:\n",
        "            return (0, 0, 0,None)\n",
        "\n",
        "        for i in range(0, self.ROWS):\n",
        "            for j in range(0, self.COLS):\n",
        "                for direction in self.directions:\n",
        "                    if self.is_valid_move(word, i, j, direction):\n",
        "                        self.place_word(word, i, j, direction)\n",
        "                        next_word=self.words_stack.pop()\n",
        "                        (m, _, _,_) = self.max_alpha_beta(next_word,alpha, beta)\n",
        "                        self.words_stack.append(next_word)\n",
        "                        if m < minv:\n",
        "                            minv = m\n",
        "                            qx = i\n",
        "                            qy = j\n",
        "                            q_direction = direction\n",
        "                        empty_word=''.join(['_' for _ in word])\n",
        "                        self.place_word(empty_word, i, j, q_direction)\n",
        "\n",
        "                        if minv <= alpha:\n",
        "                            return (minv, qx, qy,q_direction)\n",
        "\n",
        "                        if minv < beta:\n",
        "                            beta = minv\n",
        "\n",
        "        return (minv, qx, qy,q_direction)\n",
        "    def calculate_score(self,word,row,col,direction):\n",
        "        score=None\n",
        "        valid_position=False\n",
        "        actual_row,actual_col,actual_direction=self.get_actual_coordinate(word)\n",
        "        if actual_row == row and actual_col== col and actual_direction==direction:\n",
        "            valid_position=True\n",
        "            score=len(word)\n",
        "        else:\n",
        "            valid_position=False\n",
        "            score =-1\n",
        "        return valid_position,actual_row,actual_col,score\n",
        "    def play_alpha_beta(self):\n",
        "        while len(self.words_stack) !=0:\n",
        "            word = self.words_stack.pop()\n",
        "\n",
        "\n",
        "            self.draw_board()\n",
        "            self.result = self.is_endofgame()\n",
        "\n",
        "            if self.result != None:\n",
        "                if self.result == Player.HUMAN:\n",
        "                    print('The winner is Human!')\n",
        "                elif self.result == Player.COMPUTER:\n",
        "                    print('The winner is Computer!')\n",
        "                elif self.result == Player.NEUTRAL:\n",
        "                    print(\"It's a tie!\")\n",
        "\n",
        "\n",
        "                self.initialize_board()\n",
        "                return\n",
        "\n",
        "            if self.player_turn ==  Player.HUMAN:\n",
        "                hint=self.words[word]\n",
        "                #print('Current Word is {} , hint {}'.format(word,hint))\n",
        "                print('Current Word is {}'.format(word))\n",
        "\n",
        "                while True:\n",
        "                    row = int(input('Insert the Row coordinate: '))\n",
        "                    col = int(input('Insert the Col coordinate: '))\n",
        "                    dir_int = int(input('Insert the Direction(1=Across,2=Down): '))\n",
        "                    word_direction=Direction.ACROSS\n",
        "                    if dir_int == 1:\n",
        "                        word_direction=Direction.ACROSS\n",
        "                    else:\n",
        "                        word_direction=Direction.DOWN\n",
        "\n",
        "\n",
        "\n",
        "                    if self.is_valid_move(word,row,col,word_direction):\n",
        "                        valid_position,actual_row,actual_col,score=self.calculate_score(word,row,col,word_direction)\n",
        "                        self.human_score +=score\n",
        "                        if valid_position == True:\n",
        "                            self.place_word(word,row,col,word_direction)\n",
        "                        else:\n",
        "                            time.sleep(5)\n",
        "                            print('Your move is wrong! Let me place it at right position for you')\n",
        "                            self.computer_score +=score\n",
        "                            self.place_word(word,actual_row,actual_col,word_direction)\n",
        "\n",
        "\n",
        "\n",
        "                        self.player_turn =  Player.COMPUTER\n",
        "                        break\n",
        "                    else:\n",
        "                        print('The move is not valid! Try again.')\n",
        "\n",
        "            else:\n",
        "                (_, row,col,word_direction) = self.max_alpha_beta(word,-infinity, infinity)\n",
        "                self.place_word(word,row,col,word_direction)\n",
        "                self.player_turn =  Player.HUMAN\n",
        "\n",
        "\n",
        "def main():\n",
        "    game = CrosswordPuzzle()\n",
        "    #game.draw_board()\n",
        "    #game.test_is_valid_move()\n",
        "    #game.place_word('SPARROW',3,2,Direction.DOWN)\n",
        "    #game.draw_board()\n",
        "    #print(game.is_endofgame())\n",
        "\n",
        "    #game.show_actual_coordinates_of_words()\n",
        "    #print(game.get_actual_coordinate('SPARROW'))\n",
        "    game.play_alpha_beta()\n",
        "\n",
        "\n",
        "if __name__ == \"__main__\":\n",
        "    main()\n",
        "\n",
        "\n"
      ]
    },
    {
      "cell_type": "code",
      "source": [
        "words = {\n",
        "                        'SPARROW':'4-Down',\n",
        "                        'DUCK':'2-Across',\n",
        "                        'WREN':'3-Across',\n",
        "                        'SWAN':'4-Across',\n",
        "                        'CROW':'4-Down',\n",
        "                        'DOVE':'7-Down',\n",
        "                        'PEACOCK':'6-Across',\n",
        "                        'PARROT':'8-Across'\n",
        "                      }"
      ],
      "metadata": {
        "id": "Oe-vBYp3eMEF"
      },
      "execution_count": 2,
      "outputs": []
    },
    {
      "cell_type": "code",
      "source": [
        "stack=[]\n",
        "for word,_ in words.items():\n",
        "    stack.append(word)\n",
        "print(stack)\n",
        "stack.sort(key = lambda x : -1*len(x))\n",
        "print(stack)"
      ],
      "metadata": {
        "colab": {
          "base_uri": "https://localhost:8080/"
        },
        "id": "JcDERISJoTAn",
        "outputId": "709ea707-1d60-4ca9-ede0-c14bf59bf004"
      },
      "execution_count": 28,
      "outputs": [
        {
          "output_type": "stream",
          "name": "stdout",
          "text": [
            "['SPARROW', 'DUCK', 'WREN', 'SWAN', 'CROW', 'DOVE', 'PEACOCK', 'PARROT']\n",
            "['SPARROW', 'PEACOCK', 'PARROT', 'DUCK', 'WREN', 'SWAN', 'CROW', 'DOVE']\n"
          ]
        }
      ]
    },
    {
      "cell_type": "code",
      "source": [
        "print(stack)"
      ],
      "metadata": {
        "colab": {
          "base_uri": "https://localhost:8080/"
        },
        "id": "6_Li5zqCHzMm",
        "outputId": "63489ef9-0600-4b9c-9f1c-c340243342f9"
      },
      "execution_count": 29,
      "outputs": [
        {
          "output_type": "stream",
          "name": "stdout",
          "text": [
            "['SPARROW', 'PEACOCK', 'PARROT', 'DUCK', 'WREN', 'SWAN', 'CROW', 'DOVE']\n"
          ]
        }
      ]
    },
    {
      "cell_type": "code",
      "source": [
        "\n",
        "word=stack.pop()\n",
        "print(word)\n",
        "stack.append(word)\n",
        "print(stack)"
      ],
      "metadata": {
        "colab": {
          "base_uri": "https://localhost:8080/"
        },
        "id": "5eb6hMu3G61P",
        "outputId": "524790b4-9a4f-4ab0-c7af-eb0962306c08"
      },
      "execution_count": 30,
      "outputs": [
        {
          "output_type": "stream",
          "name": "stdout",
          "text": [
            "DOVE\n",
            "['SPARROW', 'PEACOCK', 'PARROT', 'DUCK', 'WREN', 'SWAN', 'CROW', 'DOVE']\n"
          ]
        }
      ]
    },
    {
      "cell_type": "code",
      "source": [
        "for key in words.copy().keys():  # or my_dict.keys() in Python 3\n",
        "    print(key)\n",
        "    del words[key]\n"
      ],
      "metadata": {
        "colab": {
          "base_uri": "https://localhost:8080/"
        },
        "id": "uVRmijzFnVd4",
        "outputId": "7e475952-fa8c-4517-e32d-a9abfa18402c"
      },
      "execution_count": null,
      "outputs": [
        {
          "output_type": "stream",
          "name": "stdout",
          "text": [
            "SPARROW\n",
            "DUCK\n",
            "WREN\n",
            "SWAN\n",
            "CROW\n",
            "DOVE\n",
            "PEACOCK\n",
            "PARROT\n"
          ]
        }
      ]
    },
    {
      "cell_type": "code",
      "source": [
        "len(words)"
      ],
      "metadata": {
        "colab": {
          "base_uri": "https://localhost:8080/"
        },
        "id": "3gkRV2vbpF86",
        "outputId": "82088dd5-48f7-4763-b7ba-0d7d93fb7c35"
      },
      "execution_count": null,
      "outputs": [
        {
          "output_type": "execute_result",
          "data": {
            "text/plain": [
              "0"
            ]
          },
          "metadata": {},
          "execution_count": 21
        }
      ]
    },
    {
      "cell_type": "code",
      "source": [
        "stack=[]\n",
        "stack.append('India')\n",
        "stack.append('paki')\n",
        "while len(stack) != 0:\n",
        "    print(stack.pop())\n",
        "len(stack)"
      ],
      "metadata": {
        "colab": {
          "base_uri": "https://localhost:8080/"
        },
        "id": "7PUOZGVR_Qmn",
        "outputId": "5d5155fe-7f3c-419e-e2b2-660dd431c3d7"
      },
      "execution_count": 1,
      "outputs": [
        {
          "output_type": "stream",
          "name": "stdout",
          "text": [
            "paki\n",
            "India\n"
          ]
        },
        {
          "output_type": "execute_result",
          "data": {
            "text/plain": [
              "0"
            ]
          },
          "metadata": {},
          "execution_count": 1
        }
      ]
    }
  ]
}