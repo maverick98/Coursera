{
  "nbformat": 4,
  "nbformat_minor": 0,
  "metadata": {
    "colab": {
      "provenance": [],
      "authorship_tag": "ABX9TyMGptn6nDE/OM3HrtaPCojg",
      "include_colab_link": true
    },
    "kernelspec": {
      "name": "python3",
      "display_name": "Python 3"
    },
    "language_info": {
      "name": "python"
    }
  },
  "cells": [
    {
      "cell_type": "markdown",
      "metadata": {
        "id": "view-in-github",
        "colab_type": "text"
      },
      "source": [
        "<a href=\"https://colab.research.google.com/github/maverick98/Coursera/blob/master/bfs_dfs.ipynb\" target=\"_parent\"><img src=\"https://colab.research.google.com/assets/colab-badge.svg\" alt=\"Open In Colab\"/></a>"
      ]
    },
    {
      "cell_type": "code",
      "source": [
        "from enum import Enum\n",
        "Action = Enum('Action', ['LEFT', 'TOP', 'RIGHT','BOTTOM','NONE'])"
      ],
      "metadata": {
        "id": "pPfQeMtfQAYs"
      },
      "execution_count": 44,
      "outputs": []
    },
    {
      "cell_type": "code",
      "source": [],
      "metadata": {
        "id": "ljQN4j_EQHHP"
      },
      "execution_count": null,
      "outputs": []
    },
    {
      "cell_type": "code",
      "execution_count": 57,
      "metadata": {
        "id": "xrIIVeT5z8Uw"
      },
      "outputs": [],
      "source": [
        "class Node:\n",
        "    def __init__(self,x:int=0,y:int=0):\n",
        "        self.x=x\n",
        "        self.y=y\n",
        "        self.parent=None\n",
        "        self.costs=0\n",
        "        self.action=Action.NONE\n",
        "    def move_left(self):\n",
        "        return Node(self.x,self.y-1)\n",
        "    def move_right(self):\n",
        "        return Node(self.x,self.y+1)\n",
        "    def move_top(self):\n",
        "        return Node(self.x-1,self.y)\n",
        "    def move_bottom(self):\n",
        "        return Node(self.x+1,self.y)\n",
        "    def equals(self,that_node):\n",
        "        return self.x==that_node.x and self.y==that_node.y\n",
        "    def __str__(self):\n",
        "        return 'Point({},{})'.format(self.x,self.y)\n",
        "\n",
        "    def to_UI(self):\n",
        "        my_parent='None'\n",
        "        if self.parent is not None:\n",
        "            my_parent=self.parent.to_UI()\n",
        "        return 'Point({},{}) , costs={} , action={} , parent={}'.format(self.x,self.y,self.costs,self.action,my_parent)\n",
        "\n",
        "class Maze:\n",
        "    def __init__(self,maze):\n",
        "        self.maze=maze;\n",
        "        self.rows=len(self.maze)\n",
        "        self.cols=len(self.maze[0])\n",
        "\n",
        "    def is_valid(self,node:Node):\n",
        "        return (node.x >= 0) and (node.x < self.rows) and (node.y >= 0) and (node.y < self.cols)\n",
        "\n",
        "    def is_obstacle(self,node:Node):\n",
        "        return self.is_valid(node) and self.maze[node.x][node.y] ==0\n",
        "\n",
        "    def is_traversable(self,node:Node):\n",
        "        return self.is_valid(node) and self.is_obstacle(node) == False\n",
        "\n",
        "    def should_visit(self,node,visited):\n",
        "        if self.is_traversable(node) and visited[node.x][node.y] is False:\n",
        "            return True\n",
        "        return False\n",
        "\n",
        "    def dfs(self,src:Node,dest:Node):\n",
        "        if self.is_obstacle(src) or self.is_obstacle(dest):\n",
        "            return None\n",
        "        visited = [[False for i in range(self.cols)] for j in range(self.rows)]\n",
        "        visited[src.x][src.y] = True\n",
        "        stack = []*(self.rows*self.cols)\n",
        "        stack.append(src)\n",
        "\n",
        "        while len(stack) !=0:\n",
        "             curr_node=stack.pop()\n",
        "             visited[curr_node.x][curr_node.y] = True\n",
        "             print(\"Goal Test on Node: {}\".format(curr_node))\n",
        "             if curr_node.equals(dest):\n",
        "                return curr_node\n",
        "             next_node=curr_node.move_top()\n",
        "             if self.should_visit(next_node,visited):\n",
        "                next_node.parent=curr_node\n",
        "                next_node.costs = curr_node.costs+1\n",
        "                next_node.action=Action.TOP\n",
        "                stack.append(next_node)\n",
        "             next_node=curr_node.move_left()\n",
        "             if self.should_visit(next_node,visited):\n",
        "                next_node.parent=curr_node\n",
        "                next_node.costs = curr_node.costs+1\n",
        "                next_node.action=Action.LEFT\n",
        "                stack.append(next_node)\n",
        "             next_node=curr_node.move_right()\n",
        "             if self.should_visit(next_node,visited):\n",
        "                next_node.parent=curr_node\n",
        "                next_node.costs = curr_node.costs+1\n",
        "                next_node.action=Action.RIGHT\n",
        "                stack.append(next_node)\n",
        "             next_node=curr_node.move_bottom()\n",
        "             if self.should_visit(next_node,visited):\n",
        "                next_node.parent=curr_node\n",
        "                next_node.costs = curr_node.costs+1\n",
        "                next_node.action=Action.BOTTOM\n",
        "                stack.append(next_node)\n",
        "\n",
        "        return None\n",
        "\n",
        "\n"
      ]
    },
    {
      "cell_type": "code",
      "source": [
        "# Driver code\n",
        "def main():\n",
        "    # environment design : O - depicts non-navigable cells /blocks\n",
        "    maze_array = [[ 1, 0, 1, 1, 1, 1, 0, 1, 1, 1 ],\n",
        "           [ 1, 0, 1, 0, 1, 1, 1, 0, 1, 1 ],\n",
        "           [ 1, 1, 1, 0, 1, 1, 0, 1, 0, 1 ],\n",
        "           [ 0, 0, 0, 0, 1, 0, 0, 0, 0, 1 ],\n",
        "           [ 1, 1, 1, 0, 1, 1, 1, 0, 1, 0 ],\n",
        "           [ 1, 0, 1, 1, 1, 1, 0, 1, 0, 0 ],\n",
        "           [ 1, 0, 0, 0, 0, 0, 0, 0, 0, 1 ],\n",
        "           [ 1, 0, 1, 1, 1, 1, 0, 1, 1, 1 ],\n",
        "           [ 1, 1, 0, 0, 0, 0, 1, 0, 0, 1 ],\n",
        "           [ 1, 0, 0, 0, 0, 0, 0, 0, 0, 1 ]]\n",
        "    maze= Maze(maze_array)\n",
        "    src = Node(0,0)\n",
        "    dest = Node(5,4)\n",
        "\n",
        "    result=maze.dfs(src,dest)\n",
        "    print(result.to_UI())\n",
        "    #while result is not None:\n",
        "    #      print('')\n",
        "    #      result=result.parent\n",
        "\n",
        "main()\n",
        "\n"
      ],
      "metadata": {
        "colab": {
          "base_uri": "https://localhost:8080/"
        },
        "id": "NFTlzi_eDh51",
        "outputId": "3e3ed263-4c80-4823-b362-c599fe3c9321"
      },
      "execution_count": 58,
      "outputs": [
        {
          "output_type": "stream",
          "name": "stdout",
          "text": [
            "Goal Test on Node: Point(0,0)\n",
            "Goal Test on Node: Point(1,0)\n",
            "Goal Test on Node: Point(2,0)\n",
            "Goal Test on Node: Point(2,1)\n",
            "Goal Test on Node: Point(2,2)\n",
            "Goal Test on Node: Point(1,2)\n",
            "Goal Test on Node: Point(0,2)\n",
            "Goal Test on Node: Point(0,3)\n",
            "Goal Test on Node: Point(0,4)\n",
            "Goal Test on Node: Point(1,4)\n",
            "Goal Test on Node: Point(2,4)\n",
            "Goal Test on Node: Point(3,4)\n",
            "Goal Test on Node: Point(4,4)\n",
            "Goal Test on Node: Point(5,4)\n",
            "Point(5,4) , costs=13 , action=Action.BOTTOM , parent=Point(4,4) , costs=12 , action=Action.BOTTOM , parent=Point(3,4) , costs=11 , action=Action.BOTTOM , parent=Point(2,4) , costs=10 , action=Action.BOTTOM , parent=Point(1,4) , costs=9 , action=Action.BOTTOM , parent=Point(0,4) , costs=8 , action=Action.RIGHT , parent=Point(0,3) , costs=7 , action=Action.RIGHT , parent=Point(0,2) , costs=6 , action=Action.TOP , parent=Point(1,2) , costs=5 , action=Action.TOP , parent=Point(2,2) , costs=4 , action=Action.RIGHT , parent=Point(2,1) , costs=3 , action=Action.RIGHT , parent=Point(2,0) , costs=2 , action=Action.BOTTOM , parent=Point(1,0) , costs=1 , action=Action.BOTTOM , parent=Point(0,0) , costs=0 , action=Action.NONE , parent=None\n"
          ]
        }
      ]
    }
  ]
}