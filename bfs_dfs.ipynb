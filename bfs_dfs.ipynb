{
  "nbformat": 4,
  "nbformat_minor": 0,
  "metadata": {
    "colab": {
      "provenance": [],
      "authorship_tag": "ABX9TyNawevU3BP6/7IF50/zTvz5",
      "include_colab_link": true
    },
    "kernelspec": {
      "name": "python3",
      "display_name": "Python 3"
    },
    "language_info": {
      "name": "python"
    }
  },
  "cells": [
    {
      "cell_type": "markdown",
      "metadata": {
        "id": "view-in-github",
        "colab_type": "text"
      },
      "source": [
        "<a href=\"https://colab.research.google.com/github/maverick98/Coursera/blob/master/bfs_dfs.ipynb\" target=\"_parent\"><img src=\"https://colab.research.google.com/assets/colab-badge.svg\" alt=\"Open In Colab\"/></a>"
      ]
    },
    {
      "cell_type": "code",
      "source": [
        "from collections import deque\n",
        "from enum import Enum\n"
      ],
      "metadata": {
        "id": "pPfQeMtfQAYs"
      },
      "execution_count": 8,
      "outputs": []
    },
    {
      "cell_type": "code",
      "source": [
        "Action = Enum('Action', ['LEFT', 'TOP', 'RIGHT','BOTTOM','NONE'])"
      ],
      "metadata": {
        "id": "1ks-wguuUD7n"
      },
      "execution_count": 9,
      "outputs": []
    },
    {
      "cell_type": "code",
      "source": [],
      "metadata": {
        "id": "ljQN4j_EQHHP"
      },
      "execution_count": 1,
      "outputs": []
    },
    {
      "cell_type": "code",
      "execution_count": 18,
      "metadata": {
        "id": "xrIIVeT5z8Uw"
      },
      "outputs": [],
      "source": [
        "class Node:\n",
        "    def __init__(self,x:int=0,y:int=0):\n",
        "        self.x=x\n",
        "        self.y=y\n",
        "        self.parent=None\n",
        "        self.costs=0\n",
        "        self.action=Action.NONE\n",
        "    def move_left(self):\n",
        "        return Node(self.x,self.y-1)\n",
        "    def move_right(self):\n",
        "        return Node(self.x,self.y+1)\n",
        "    def move_top(self):\n",
        "        return Node(self.x-1,self.y)\n",
        "    def move_bottom(self):\n",
        "        return Node(self.x+1,self.y)\n",
        "    def equals(self,that_node):\n",
        "        return self.x==that_node.x and self.y==that_node.y\n",
        "    def __str__(self):\n",
        "        return 'Point({},{})'.format(self.x,self.y)\n",
        "\n",
        "    def to_UI(self):\n",
        "        my_parent='None'\n",
        "        if self.parent is not None:\n",
        "            my_parent=self.parent.to_UI()\n",
        "        return 'Point({},{}) , costs={} , action={} , parent={}'.format(self.x,self.y,self.costs,self.action,my_parent)\n",
        "\n",
        "class Maze:\n",
        "    def __init__(self,maze):\n",
        "        self.maze=maze;\n",
        "        self.rows=len(self.maze)\n",
        "        self.cols=len(self.maze[0])\n",
        "\n",
        "    def is_valid(self,node:Node):\n",
        "        return (node.x >= 0) and (node.x < self.rows) and (node.y >= 0) and (node.y < self.cols)\n",
        "\n",
        "    def is_obstacle(self,node:Node):\n",
        "        return self.is_valid(node) and self.maze[node.x][node.y] ==0\n",
        "\n",
        "    def is_traversable(self,node:Node):\n",
        "        return self.is_valid(node) and self.is_obstacle(node) == False\n",
        "\n",
        "    def should_visit(self,node,visited):\n",
        "        if self.is_traversable(node) and visited[node.x][node.y] is False:\n",
        "            return True\n",
        "        return False\n",
        "\n",
        "    def bfs(self,src:Node,dest:Node):\n",
        "        if self.is_obstacle(src) or self.is_obstacle(dest):\n",
        "            return None\n",
        "        visited = [[False for i in range(self.cols)] for j in range(self.rows)]\n",
        "        visited[src.x][src.y] = True\n",
        "        queue = deque()\n",
        "        queue.append(src)\n",
        "\n",
        "        while queue:\n",
        "             curr_node=queue.popleft()\n",
        "\n",
        "             if not visited[curr_node.x][curr_node.y]:\n",
        "                print(\"Goal Test on Node: {}\".format(curr_node))\n",
        "             if curr_node.equals(dest):\n",
        "                return curr_node\n",
        "             visited[curr_node.x][curr_node.y] = True\n",
        "             next_node=curr_node.move_top()\n",
        "             if self.should_visit(next_node,visited):\n",
        "                next_node.parent=curr_node\n",
        "                next_node.costs = curr_node.costs+1\n",
        "                next_node.action=Action.TOP\n",
        "                queue.append(next_node)\n",
        "             next_node=curr_node.move_left()\n",
        "             if self.should_visit(next_node,visited):\n",
        "                next_node.parent=curr_node\n",
        "                next_node.costs = curr_node.costs+1\n",
        "                next_node.action=Action.LEFT\n",
        "                queue.append(next_node)\n",
        "             next_node=curr_node.move_right()\n",
        "             if self.should_visit(next_node,visited):\n",
        "                next_node.parent=curr_node\n",
        "                next_node.costs = curr_node.costs+1\n",
        "                next_node.action=Action.RIGHT\n",
        "                queue.append(next_node)\n",
        "             next_node=curr_node.move_bottom()\n",
        "             if self.should_visit(next_node,visited):\n",
        "                next_node.parent=curr_node\n",
        "                next_node.costs = curr_node.costs+1\n",
        "                next_node.action=Action.BOTTOM\n",
        "                queue.append(next_node)\n",
        "\n",
        "        return None\n",
        "\n",
        "\n",
        "\n",
        "    def dfs(self,src:Node,dest:Node):\n",
        "        if self.is_obstacle(src) or self.is_obstacle(dest):\n",
        "            return None\n",
        "        visited = [[False for i in range(self.cols)] for j in range(self.rows)]\n",
        "        visited[src.x][src.y] = True\n",
        "        stack = []*(self.rows*self.cols)\n",
        "        stack.append(src)\n",
        "\n",
        "        while len(stack) !=0:\n",
        "             curr_node=stack.pop()\n",
        "             visited[curr_node.x][curr_node.y] = True\n",
        "             print(\"Goal Test on Node: {}\".format(curr_node))\n",
        "             if curr_node.equals(dest):\n",
        "                return curr_node\n",
        "             next_node=curr_node.move_top()\n",
        "             if self.should_visit(next_node,visited):\n",
        "                next_node.parent=curr_node\n",
        "                next_node.costs = curr_node.costs+1\n",
        "                next_node.action=Action.TOP\n",
        "                stack.append(next_node)\n",
        "             next_node=curr_node.move_left()\n",
        "             if self.should_visit(next_node,visited):\n",
        "                next_node.parent=curr_node\n",
        "                next_node.costs = curr_node.costs+1\n",
        "                next_node.action=Action.LEFT\n",
        "                stack.append(next_node)\n",
        "             next_node=curr_node.move_right()\n",
        "             if self.should_visit(next_node,visited):\n",
        "                next_node.parent=curr_node\n",
        "                next_node.costs = curr_node.costs+1\n",
        "                next_node.action=Action.RIGHT\n",
        "                stack.append(next_node)\n",
        "             next_node=curr_node.move_bottom()\n",
        "             if self.should_visit(next_node,visited):\n",
        "                next_node.parent=curr_node\n",
        "                next_node.costs = curr_node.costs+1\n",
        "                next_node.action=Action.BOTTOM\n",
        "                stack.append(next_node)\n",
        "\n",
        "        return None\n",
        "\n",
        "\n"
      ]
    },
    {
      "cell_type": "code",
      "source": [
        "def setup():\n",
        "    # environment design : O - depicts non-navigable cells /blocks\n",
        "    maze_array = [[ 1, 0, 1, 1, 1, 1, 0, 1, 1, 1 ],\n",
        "           [ 1, 0, 1, 0, 1, 1, 1, 0, 1, 1 ],\n",
        "           [ 1, 1, 1, 0, 1, 1, 0, 1, 0, 1 ],\n",
        "           [ 0, 0, 0, 0, 1, 0, 0, 0, 0, 1 ],\n",
        "           [ 1, 1, 1, 0, 1, 1, 1, 0, 1, 0 ],\n",
        "           [ 1, 0, 1, 1, 1, 1, 0, 1, 0, 0 ],\n",
        "           [ 1, 0, 0, 0, 0, 0, 0, 0, 0, 1 ],\n",
        "           [ 1, 0, 1, 1, 1, 1, 0, 1, 1, 1 ],\n",
        "           [ 1, 1, 0, 0, 0, 0, 1, 0, 0, 1 ],\n",
        "           [ 1, 0, 0, 0, 0, 0, 0, 0, 0, 1 ]]\n",
        "    maze= Maze(maze_array)\n",
        "    src = Node(0,0)\n",
        "    dest = Node(5,4)\n",
        "    return maze,src,dest\n"
      ],
      "metadata": {
        "id": "OZ5Lchv8XEdE"
      },
      "execution_count": 11,
      "outputs": []
    },
    {
      "cell_type": "code",
      "source": [
        "def dfs_search():\n",
        "    maze,src,dest=setup()\n",
        "    result=maze.dfs(src,dest)\n",
        "    print(result.to_UI())\n",
        "\n",
        "dfs_search()\n",
        "\n"
      ],
      "metadata": {
        "colab": {
          "base_uri": "https://localhost:8080/"
        },
        "id": "NFTlzi_eDh51",
        "outputId": "9cbc16c7-0756-47d5-99da-2607a94eba3b"
      },
      "execution_count": 16,
      "outputs": [
        {
          "output_type": "stream",
          "name": "stdout",
          "text": [
            "Goal Test on Node: Point(0,0)\n",
            "Goal Test on Node: Point(1,0)\n",
            "Goal Test on Node: Point(2,0)\n",
            "Goal Test on Node: Point(2,1)\n",
            "Goal Test on Node: Point(2,2)\n",
            "Goal Test on Node: Point(1,2)\n",
            "Goal Test on Node: Point(0,2)\n",
            "Goal Test on Node: Point(0,3)\n",
            "Goal Test on Node: Point(0,4)\n",
            "Goal Test on Node: Point(1,4)\n",
            "Goal Test on Node: Point(2,4)\n",
            "Goal Test on Node: Point(3,4)\n",
            "Goal Test on Node: Point(4,4)\n",
            "Goal Test on Node: Point(5,4)\n",
            "Point(5,4) , costs=13 , action=Action.BOTTOM , parent=Point(4,4) , costs=12 , action=Action.BOTTOM , parent=Point(3,4) , costs=11 , action=Action.BOTTOM , parent=Point(2,4) , costs=10 , action=Action.BOTTOM , parent=Point(1,4) , costs=9 , action=Action.BOTTOM , parent=Point(0,4) , costs=8 , action=Action.RIGHT , parent=Point(0,3) , costs=7 , action=Action.RIGHT , parent=Point(0,2) , costs=6 , action=Action.TOP , parent=Point(1,2) , costs=5 , action=Action.TOP , parent=Point(2,2) , costs=4 , action=Action.RIGHT , parent=Point(2,1) , costs=3 , action=Action.RIGHT , parent=Point(2,0) , costs=2 , action=Action.BOTTOM , parent=Point(1,0) , costs=1 , action=Action.BOTTOM , parent=Point(0,0) , costs=0 , action=Action.NONE , parent=None\n"
          ]
        }
      ]
    },
    {
      "cell_type": "code",
      "source": [
        "def bfs_search():\n",
        "    maze,src,dest=setup()\n",
        "    result=maze.bfs(src,dest)\n",
        "    print(result.to_UI())\n",
        "\n",
        "bfs_search()\n"
      ],
      "metadata": {
        "colab": {
          "base_uri": "https://localhost:8080/"
        },
        "id": "kVpgERcKXi_Y",
        "outputId": "a551ace6-09e7-41dc-c422-d73e12573b0d"
      },
      "execution_count": 19,
      "outputs": [
        {
          "output_type": "stream",
          "name": "stdout",
          "text": [
            "Goal Test on Node: Point(1,0)\n",
            "Goal Test on Node: Point(2,0)\n",
            "Goal Test on Node: Point(2,1)\n",
            "Goal Test on Node: Point(2,2)\n",
            "Goal Test on Node: Point(1,2)\n",
            "Goal Test on Node: Point(0,2)\n",
            "Goal Test on Node: Point(0,3)\n",
            "Goal Test on Node: Point(0,4)\n",
            "Goal Test on Node: Point(0,5)\n",
            "Goal Test on Node: Point(1,4)\n",
            "Goal Test on Node: Point(1,5)\n",
            "Goal Test on Node: Point(2,4)\n",
            "Goal Test on Node: Point(1,6)\n",
            "Goal Test on Node: Point(2,5)\n",
            "Goal Test on Node: Point(3,4)\n",
            "Goal Test on Node: Point(4,4)\n",
            "Goal Test on Node: Point(4,5)\n",
            "Goal Test on Node: Point(5,4)\n",
            "Point(5,4) , costs=13 , action=Action.BOTTOM , parent=Point(4,4) , costs=12 , action=Action.BOTTOM , parent=Point(3,4) , costs=11 , action=Action.BOTTOM , parent=Point(2,4) , costs=10 , action=Action.BOTTOM , parent=Point(1,4) , costs=9 , action=Action.BOTTOM , parent=Point(0,4) , costs=8 , action=Action.RIGHT , parent=Point(0,3) , costs=7 , action=Action.RIGHT , parent=Point(0,2) , costs=6 , action=Action.TOP , parent=Point(1,2) , costs=5 , action=Action.TOP , parent=Point(2,2) , costs=4 , action=Action.RIGHT , parent=Point(2,1) , costs=3 , action=Action.RIGHT , parent=Point(2,0) , costs=2 , action=Action.BOTTOM , parent=Point(1,0) , costs=1 , action=Action.BOTTOM , parent=Point(0,0) , costs=0 , action=Action.NONE , parent=None\n"
          ]
        }
      ]
    }
  ]
}