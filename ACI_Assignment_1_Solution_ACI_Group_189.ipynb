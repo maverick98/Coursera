{
  "cells": [
    {
      "cell_type": "markdown",
      "metadata": {
        "id": "view-in-github",
        "colab_type": "text"
      },
      "source": [
        "<a href=\"https://colab.research.google.com/github/maverick98/Coursera/blob/master/ACI_Assignment_1_Solution_ACI_Group_189.ipynb\" target=\"_parent\"><img src=\"https://colab.research.google.com/assets/colab-badge.svg\" alt=\"Open In Colab\"/></a>"
      ]
    },
    {
      "cell_type": "markdown",
      "metadata": {
        "id": "MzZ4dJQYF7sH"
      },
      "source": [
        "# Artificial and Computational Intelligence Assignment 1"
      ]
    },
    {
      "cell_type": "markdown",
      "metadata": {
        "id": "Fxb1aE9zF7sK"
      },
      "source": [
        "## Problem solving by Uninformed & Informed Search"
      ]
    },
    {
      "cell_type": "markdown",
      "metadata": {
        "id": "h35jIBbCF7sK"
      },
      "source": [
        "List only the BITS (Name) of active contributors in this assignment:\n",
        "1. SHIVAM SAHIL\n",
        "2. GIRIJA SHANKAR SAHOO\n",
        "3. SOURAJEET SAHOO\n",
        "4. MANO RANJAN SAHU\n",
        "5. S SRIDHAR\n",
        "\n"
      ]
    },
    {
      "cell_type": "markdown",
      "metadata": {
        "id": "pt5ygv_zF7sL"
      },
      "source": [
        "Things to follow\n",
        "1.\tUse appropriate data structures to represent the graph and the path using python libraries\n",
        "2.\tProvide proper documentation\n",
        "3.\tFind the path and print it"
      ]
    },
    {
      "cell_type": "markdown",
      "metadata": {
        "id": "wZfop5ElF7sL"
      },
      "source": [
        "Coding begins here"
      ]
    },
    {
      "cell_type": "markdown",
      "metadata": {
        "id": "IL0QDMy3F7sL"
      },
      "source": [
        "### 1.\tDefine the environment in the following block"
      ]
    },
    {
      "cell_type": "markdown",
      "metadata": {
        "id": "RYwJPNLIF7sM"
      },
      "source": [
        "List the PEAS decription of the problem here in this markdown block"
      ]
    },
    {
      "cell_type": "markdown",
      "source": [
        "    Performance Measure:\n",
        "      \n",
        "        Performance can be measured in terms of:\n",
        "            Time taken to reach Chennai\n",
        "            Cost-effectiveness of the route\n",
        "            Safety of the route and team members\n",
        "            Minimization of resource consumption (fuel, manpower, etc.)\n",
        "            We are considering cost as distance. Smaller the distance , better the performance\n",
        "\n",
        "    Environment:\n",
        "        The environment consists of the conditions in which the team operates. In this case, the environment includes:\n",
        "            Roads, highways, and other transportation routes from New Delhi to Chennai.\n",
        "            Weather conditions (affected by Cyclone Michaung) that may impact travel.\n",
        "            Presence of obstacles such as fallen trees, flooded areas, or damaged infrastructure.\n",
        "            Availability of resources such as fuel, food, and accommodations along the way.\n",
        "\n",
        "    Actuators:\n",
        "        Actuators are the mechanisms through which the agent (National Disaster Management team) can perform actions. In this scenario, actuators might include:\n",
        "            Vehicles for transportation (e.g., trucks, helicopters, boats).\n",
        "            Communication devices (e.g., radios, satellite phones) for coordination and updates.\n",
        "            Navigation systems for route planning and guidance.\n",
        "            Rescue and emergency equipment (e.g., medical kits, life jackets).\n",
        "\n",
        "    Sensors:\n",
        "        Sensors provide information about the environment to the agent. For the National Disaster Management team, sensors might include:\n",
        "            GPS devices for location tracking and navigation.\n",
        "            Weather sensors for monitoring current weather conditions and predicting changes.\n",
        "            Traffic sensors for detecting road conditions and congestion.\n",
        "            Communication devices for receiving updates and instructions from headquarters.\n",
        "            Emergency sensors for detecting hazards such as gas leaks or electrical failures."
      ],
      "metadata": {
        "id": "67ZJTl-U6wX6"
      }
    },
    {
      "cell_type": "markdown",
      "metadata": {
        "id": "XJ3cHp1IF7sM"
      },
      "source": [
        "Design the agent as PSA Agent(Problem Solving Agent)\n",
        "Clear Initial data structures to define the graph and variable declarations is expected\n",
        "IMPORTATANT: Write distinct code block as below"
      ]
    },
    {
      "cell_type": "code",
      "execution_count": 15,
      "metadata": {
        "id": "osp61RsLF7sN"
      },
      "outputs": [],
      "source": [
        "#Code Block : Set Initial State (Must handle dynamic inputs)"
      ]
    },
    {
      "cell_type": "code",
      "execution_count": 16,
      "metadata": {
        "id": "XODwoWZ0F7sO"
      },
      "outputs": [],
      "source": [
        "#Code Block : Set the matrix for transition & cost (as relevant for the given problem)"
      ]
    },
    {
      "cell_type": "code",
      "execution_count": 17,
      "metadata": {
        "id": "ro24Gaj7F7sO"
      },
      "outputs": [],
      "source": [
        "#Code Block : Write function to design the Transition Model/Successor function. Ideally this would be called while search algorithms are implemented"
      ]
    },
    {
      "cell_type": "code",
      "execution_count": 18,
      "metadata": {
        "id": "HIVPhrRWF7sO"
      },
      "outputs": [],
      "source": [
        "#Code block : Write fucntion to handle goal test (Must handle dynamic inputs). Ideally this would be called while search algorithms are implemented"
      ]
    },
    {
      "cell_type": "code",
      "source": [
        "#\n",
        "# This is a node which will be used in the graph data structure\n",
        "#\n",
        "class Node:\n",
        "    def __init__(self,value):\n",
        "        self.value=value\n",
        "    def __str__(self):\n",
        "        return 'Value={}'.format(self.value)\n"
      ],
      "metadata": {
        "id": "B_5lAHA87hJ9"
      },
      "execution_count": 19,
      "outputs": []
    },
    {
      "cell_type": "code",
      "source": [
        "#\n",
        "# This class is used for calculate time and space complexity in both the algorithms\n",
        "#\n",
        "class ComplexityCounter:\n",
        "      def __init__(self,init_value=0):\n",
        "          self.counter=init_value\n",
        "      def incr(self):\n",
        "          self.counter+=1\n",
        "      def decr(self):\n",
        "          self.counter-=1\n",
        "\n",
        "      def set_counter(self,counter):\n",
        "          self.counter=counter\n",
        "      def get_counter(self):\n",
        "          return self.counter"
      ],
      "metadata": {
        "id": "KlxyQSOcPPyw"
      },
      "execution_count": 20,
      "outputs": []
    },
    {
      "cell_type": "code",
      "source": [
        "class Graph:\n",
        "\n",
        "     def build_graph(self):\n",
        "        \"\"\"\n",
        "        Builds the graph structure from the provided graph_str attribute.\n",
        "        It initializes a dictionary all_nodes to keep track of all nodes encountered during graph construction.\n",
        "        Then, it iterates through each key in graph_str, creates node objects if they don't exist,\n",
        "        and adds them to the all_nodes dictionary.\n",
        "        Finally, it populates the graph attribute with the node neighbors and their associated weights.\n",
        "        \"\"\"\n",
        "        all_nodes ={}\n",
        "        self.graph={}\n",
        "        for key_str in self.graph_str:\n",
        "            neighbours=[]\n",
        "            for (m,(time,speed)) in self.graph_str[key_str]:\n",
        "                neighbour=None\n",
        "                if m not in all_nodes.keys():\n",
        "                    neighbour=Node(m)\n",
        "                    all_nodes[m]=neighbour\n",
        "                else:\n",
        "                    neighbour=all_nodes[m]\n",
        "                neighbours.append((neighbour,time*speed))\n",
        "            self.graph[key_str]=neighbours\n",
        "        print(\"Graph initialization completed. Possible states (nodes) to choose from:\")\n",
        "        self.show_nodes()\n",
        "     def show_nodes(self):\n",
        "         for key in self.graph:\n",
        "            print(key)\n",
        "     def get_neighbors(self,v):\n",
        "         \"\"\"\n",
        "            Returns the neighbors of node v.\n",
        "\n",
        "         \"\"\"\n",
        "         if v in self.graph:\n",
        "            return self.graph[v]\n",
        "         else:\n",
        "            return None\n",
        "     def get_random_path(self,start_node,stop_node):\n",
        "        \"\"\"\n",
        "        Returns a random path from start_node to stop_node within the graph.\n",
        "        It iterates by randomly selecting neighbors until it reaches the stop_node.\n",
        "        \"\"\"\n",
        "        random_path=[start_node.value]\n",
        "        while random_path[-1] != stop_node.value:\n",
        "            neighbours=self.get_neighbors(random_path[-1])\n",
        "            next_random_node = random.choice(neighbours)[0]\n",
        "            if next_random_node.value not in random_path:\n",
        "               random_path.append(next_random_node.value)\n",
        "        return random_path\n",
        "     def get_weight(self,first_node_str,second_node_str):\n",
        "         \"\"\"\n",
        "            Returns the weight of the edge between first_node_str and second_node_str.\n",
        "         \"\"\"\n",
        "         edges=self.graph_str[first_node_str]\n",
        "         for edge in edges:\n",
        "            if edge[0] == second_node_str:\n",
        "               return edge[1][0]*edge[1][1]\n",
        "         return float('inf')\n",
        "     def calculate_heuristics(self,stop_node_str):\n",
        "         \"\"\"\n",
        "            Calculates heuristics for all nodes in the graph based on their distances to the stop_node_str.\n",
        "         \"\"\"\n",
        "         heuristic_distance={}\n",
        "         for key_str in self.graph_str:\n",
        "            all_path_weights=self.calculate_all_path_weights(key_str,stop_node_str)\n",
        "            heuristic_distance[key_str]=sum(all_path_weights)/len(all_path_weights)\n",
        "         return heuristic_distance\n",
        "\n",
        "     def calculate_all_path_weights(self,start_node_str,stop_node_str):\n",
        "         \"\"\"\n",
        "            Calculates the weights of all paths from start_node_str to stop_node_str.\n",
        "         \"\"\"\n",
        "         all_path_weights=[]\n",
        "         current_node_str=start_node_str\n",
        "         visited=[current_node_str]\n",
        "         self._calculate_all_path_weights(current_node_str,visited,0,stop_node_str,all_path_weights)\n",
        "         print('path weights for {} are {}'.format(start_node_str,all_path_weights))\n",
        "         return all_path_weights\n",
        "     def _calculate_all_path_weights(self,current_node_str,visited,current_weight,stop_node_str,all_path_weights):\n",
        "         if current_node_str == stop_node_str:\n",
        "            all_path_weights.append(current_weight)\n",
        "            return\n",
        "         neighbours=self.graph_str[current_node_str]\n",
        "         for neighbour in neighbours:\n",
        "             neighbour_str=neighbour[0]\n",
        "             if neighbour_str  not in visited:\n",
        "                visited.append(neighbour_str)\n",
        "                weight=self.get_weight(current_node_str,neighbour_str)\n",
        "                self._calculate_all_path_weights(neighbour_str,visited,current_weight+weight,stop_node_str,all_path_weights)\n",
        "                visited.pop()\n",
        "\n",
        "     def __init__(self):\n",
        "        self.graph_str = {\n",
        "                        'New Delhi': [('A', (5,64)), ('B', (2,60)), ('C', (7,82)),('Chennai', (10,85))],\n",
        "                        'A': [('New Delhi',(5,64)), ('E', (1,110))],\n",
        "                        'B': [('New Delhi',(2,60)), ('Chennai', (3,62))],\n",
        "                        'C': [('New Delhi',(7,82)), ('D', (5,45))],\n",
        "                        'D': [('C', (5,45)),  ('Chennai',(6,32))],\n",
        "                        'E': [('A', (1,110)), ('Chennai',(4,55))],\n",
        "                        'Chennai': [ ('B', (3,62)), ('D', (6,32)),('E', (4,55)),('New Delhi', (10,85))]\n",
        "\n",
        "                        }\n",
        "\n",
        "        self.graph={}\n"
      ],
      "metadata": {
        "id": "NvTjl6wO7jpp"
      },
      "execution_count": 21,
      "outputs": []
    },
    {
      "cell_type": "markdown",
      "metadata": {
        "id": "Z4QwDeX5F7sO"
      },
      "source": [
        "### 2.\tDefinition of Algorithm 1 (IDA*)"
      ]
    },
    {
      "cell_type": "code",
      "execution_count": 22,
      "metadata": {
        "id": "zD_EPCHWF7sO"
      },
      "outputs": [],
      "source": [
        "class IDAStar:\n",
        "    def __init__(self, graph, start_node, stop_node):\n",
        "        self.graph = graph\n",
        "        self.start_node = start_node\n",
        "        self.stop_node = stop_node\n",
        "        self.heuristic_distance=self.graph.calculate_heuristics(stop_node.value)\n",
        "\n",
        "        print(\"heuristic distance function is {}\".format(self.heuristic_distance))\n",
        "    def search(self,start_node,stop_node):\n",
        "         \"\"\"\n",
        "            Initiates the IDA* search from start_node to stop_node.\n",
        "            Initializes counters for time and space complexity.\n",
        "            Iteratively deepens the search until the goal is reached or no path is found within the current threshold.\n",
        "            Returns the path and its cost if a path is found, otherwise returns None and infinity.\n",
        "         \"\"\"\n",
        "         threshold=self.heuristic_distance[start_node.value]\n",
        "         time_complexity_counter=ComplexityCounter(0)\n",
        "         space_complexity_counter=ComplexityCounter(0)\n",
        "         while True:\n",
        "            path=[]\n",
        "            result,threshold,cost=self.find_f_contour(start_node,0,threshold,stop_node.value,path,time_complexity_counter,space_complexity_counter)\n",
        "            if result is True:\n",
        "               return path,cost,time_complexity_counter,space_complexity_counter\n",
        "            if result == float('inf'):\n",
        "               return None,result,time_complexity_counter,space_complexity_counter\n",
        "    def find_f_contour(self,node,cost,threshold,goal,path,time_complexity_counter,space_complexity_counter):\n",
        "         \"\"\"\n",
        "            Recursive function to perform the IDA* search.\n",
        "            Explores nodes within the current threshold, updating the path and calculating costs.\n",
        "            Updates the space complexity counter to track the memory usage.\n",
        "            Updates the time complexity counter to track the number of nodes expanded during the search.\n",
        "            Returns a tuple indicating whether the goal is found, the updated threshold,\n",
        "            and the minimum cost encountered during the search.\n",
        "         \"\"\"\n",
        "         if node.value not in path:\n",
        "            path.append(node.value)\n",
        "            #Counting  for space complexity\n",
        "            space_complexity_counter.incr()\n",
        "            print('{} must be kept in memory between iterations. Thus adding cost of {}'.format(node.value,1))\n",
        "\n",
        "\n",
        "         f=cost+self.heuristic_distance[node.value]\n",
        "         print('f value for node {} is {}'.format(node.value,f))\n",
        "         if f > threshold:\n",
        "            return False,f,float('inf')\n",
        "         if node.value == goal:\n",
        "            return True,threshold,cost\n",
        "         min_cost=float('inf')\n",
        "         neighbours=self.graph.get_neighbors(node.value)\n",
        "         #Counting nodes expansion for time complexity\n",
        "         print('Expanding neighbours of {} . Thus adding to time complexity of value {}'.format(node.value,len(neighbours)))\n",
        "         time_complexity_counter.set_counter(time_complexity_counter.get_counter()+len(neighbours))\n",
        "\n",
        "\n",
        "         for (m,weight) in neighbours:\n",
        "            if m.value not in path:\n",
        "                new_cost=cost+weight\n",
        "                path.append(m.value)\n",
        "                #Counting  for space complexity\n",
        "                space_complexity_counter.incr()\n",
        "                print('{} must be kept in memory between iterations. Thus adding cost of {}'.format(m,1))\n",
        "\n",
        "                result,threshold,new_cost=self.find_f_contour(m,new_cost,threshold,goal,path,time_complexity_counter,space_complexity_counter)\n",
        "                if result == True:\n",
        "                    return True,threshold,new_cost\n",
        "                path.pop()\n",
        "                print('{} is removed from memory .Thus decreasing cost of {}'.format(m,1))\n",
        "                space_complexity_counter.decr()\n",
        "                if threshold < min_cost:\n",
        "                    min_cost = threshold\n",
        "         return False,min_cost,float('inf')\n"
      ]
    },
    {
      "cell_type": "markdown",
      "metadata": {
        "id": "KnbdDl6HF7sO"
      },
      "source": [
        "### 3.\tDefinition of Algorithm 2 (Genetic Algorithm)"
      ]
    },
    {
      "cell_type": "code",
      "execution_count": 29,
      "metadata": {
        "id": "3HYh7-eJF7sP"
      },
      "outputs": [],
      "source": [
        "import random\n",
        "\n",
        "class GeneticAlgorithm:\n",
        "    def __init__(self, graph, start_node, stop_node, population_size=100, mutation_rate=0.01, generations=100):\n",
        "        self.graph = graph\n",
        "        self.start_node = start_node\n",
        "        self.stop_node = stop_node\n",
        "        self.population_size = population_size\n",
        "        self.mutation_rate = mutation_rate\n",
        "        self.generations = generations\n",
        "        self.time_complexity_counter=ComplexityCounter(0)\n",
        "        self.space_complexity_counter=ComplexityCounter(0)\n",
        "\n",
        "    def generate_population(self):\n",
        "        \"\"\"\n",
        "            Generates an initial population of individuals, where each individual represents a random path\n",
        "            from the start node to the stop node.\n",
        "        \"\"\"\n",
        "        population = []\n",
        "        for _ in range(self.population_size):\n",
        "            individual = self.graph.get_random_path(self.start_node,self.stop_node)\n",
        "            population.append(individual)\n",
        "        return population\n",
        "    def calculate_fitness(self,individual):\n",
        "        \"\"\"\n",
        "        Calculates the fitness of an individual.\n",
        "        Cost is calculated and then inverse of it is taken as fitness of an individual\n",
        "        A lower cost results in higher fitness.\n",
        "        \"\"\"\n",
        "        cost=0\n",
        "        for i in range(len(individual) - 1):\n",
        "            cost+=self.graph.get_weight(individual[i],individual[i+1])\n",
        "        if cost !=0:\n",
        "            return 1/cost\n",
        "        return float('inf')\n",
        "\n",
        "\n",
        "    def select_parents(self,population, fitness_scores):\n",
        "        \"\"\"\n",
        "        Using roulette wheel selection method,\n",
        "        Selects two parents from the population for mating using fitness-proportionate selection.\n",
        "        \"\"\"\n",
        "        total_fitness = sum(fitness_scores)\n",
        "        if total_fitness > 0:\n",
        "            probabilities = [fitness / total_fitness for fitness in fitness_scores]\n",
        "            return random.choices(population, weights=probabilities, k=2)\n",
        "        return random.choices(population, k=2)\n",
        "    def crossover(self,parent1, parent2):\n",
        "        \"\"\"\n",
        "         Performs crossover between two parents to produce offspring.\n",
        "         This function selects a random crossover point and\n",
        "         combines the genetic material of the parents to create two children.\n",
        "        \"\"\"\n",
        "        crossover_point = random.randint(1, min(len(parent1), len(parent2)) - 1)\n",
        "        child1 = parent1[:crossover_point] + parent2[crossover_point:]\n",
        "        child2 = parent2[:crossover_point] + parent1[crossover_point:]\n",
        "        return child1, child2\n",
        "    def mutate(self,individual):\n",
        "        \"\"\"\n",
        "            Applies mutation to an individual with a certain probability.\n",
        "            Mutation introduces small random changes in the genetic material of an individual.\n",
        "            In this case, it mutates a single gene in the path by replacing it with a random neighboring node.\n",
        "            To avoid duplicacy, it checks that it is not present in the individual to mutate.\n",
        "\n",
        "        \"\"\"\n",
        "        if random.random() < self.mutation_rate:\n",
        "            mutation_point = random.randint(0, len(individual) - 2)\n",
        "            neighbours = self.graph.get_neighbors(individual[mutation_point])\n",
        "            if neighbours:\n",
        "                my_next_random_neighbour = random.choice(neighbours)[0]\n",
        "                if my_next_random_neighbour.value not in individual:\n",
        "                    individual[mutation_point + 1] = my_next_random_neighbour.value\n",
        "        return individual\n",
        "    def execute(self):\n",
        "        \"\"\"\n",
        "        Executes the genetic algorithm by iteratively selecting parents,\n",
        "        performing crossover and mutation,\n",
        "        and updating the population for a certain number of generations.\n",
        "        Finally, it displays the best individual found along with its fitness.\n",
        "        \"\"\"\n",
        "        population = self.generate_population()\n",
        "        self.space_complexity_counter.set_counter(self.space_complexity_counter.get_counter()+sum([len(individual) for individual in population]))\n",
        "        for generation in range(self.generations):\n",
        "            fitness_scores = [self.calculate_fitness(individual) for individual in population]\n",
        "            self.time_complexity_counter.set_counter(self.time_complexity_counter.get_counter()+sum([len(individual) for individual in population]))\n",
        "            new_population = []\n",
        "\n",
        "            for _ in range(len(population) // 2):\n",
        "                parent1, parent2 = self.select_parents(population, fitness_scores)\n",
        "                child1, child2 = self.crossover(parent1, parent2)\n",
        "                new_population.extend([self.mutate(child1), self.mutate(child2)])\n",
        "\n",
        "            population = new_population\n",
        "\n",
        "        # Display the best individual found\n",
        "        best_individual = max(population, key=self.calculate_fitness)\n",
        "        print(\"Best individual:\", best_individual, \"Fitness:\", self.calculate_fitness(best_individual))\n"
      ]
    },
    {
      "cell_type": "markdown",
      "metadata": {
        "id": "LEV2XHccF7sP"
      },
      "source": [
        "### DYNAMIC INPUT"
      ]
    },
    {
      "cell_type": "markdown",
      "metadata": {
        "id": "CylYRo_DF7sP"
      },
      "source": [
        "IMPORTANT : Dynamic Input must be got in this section. Display the possible states to choose from:\n",
        "This is applicable for all the relevent problems as mentioned in the question."
      ]
    },
    {
      "cell_type": "code",
      "execution_count": 30,
      "metadata": {
        "id": "Q5t1Lc-wF7sP",
        "colab": {
          "base_uri": "https://localhost:8080/"
        },
        "outputId": "4df07199-fe31-45f3-9197-8e5c3506ef70"
      },
      "outputs": [
        {
          "output_type": "stream",
          "name": "stdout",
          "text": [
            "Graph initialization completed. Possible states (nodes) to choose from:\n",
            "New Delhi\n",
            "A\n",
            "B\n",
            "C\n",
            "D\n",
            "E\n",
            "Chennai\n"
          ]
        }
      ],
      "source": [
        "#Code Block : Function & call to get inputs (start/end state)\n",
        "graph=Graph()\n",
        "graph.build_graph()\n",
        "start_node=Node('New Delhi')\n",
        "stop_node=Node('Chennai')\n",
        "\n"
      ]
    },
    {
      "cell_type": "markdown",
      "metadata": {
        "id": "xsfOP81lF7sP"
      },
      "source": [
        "### 4.\tCalling the search algorithms\n",
        "(For bidirectional search in below sections first part can be used as per Hint provided. Under second section other combinations as per Hint or your choice of 2 algorithms can be called .As an analyst suggest suitable approximation in the comparitive analysis section)"
      ]
    },
    {
      "cell_type": "code",
      "execution_count": 31,
      "metadata": {
        "id": "Og5zI9thF7sP",
        "colab": {
          "base_uri": "https://localhost:8080/"
        },
        "outputId": "70636bf7-9026-43f1-b88b-a6abf31f5584"
      },
      "outputs": [
        {
          "output_type": "stream",
          "name": "stdout",
          "text": [
            "path weights for New Delhi are [650, 306, 991, 850]\n",
            "path weights for A are [626, 1311, 1170, 330]\n",
            "path weights for B are [770, 1111, 970, 186]\n",
            "path weights for C are [1224, 880, 1424, 417]\n",
            "path weights for D are [1449, 1105, 1649, 192]\n",
            "path weights for E are [736, 1421, 1280, 220]\n",
            "path weights for Chennai are [0]\n",
            "heuristic distance function is {'New Delhi': 699.25, 'A': 859.25, 'B': 759.25, 'C': 986.25, 'D': 1098.75, 'E': 914.25, 'Chennai': 0.0}\n",
            "New Delhi must be kept in memory between iterations. Thus adding cost of 1\n",
            "f value for node New Delhi is 699.25\n",
            "Expanding neighbours of New Delhi . Thus adding to time complexity of value 4\n",
            "Value=A must be kept in memory between iterations. Thus adding cost of 1\n",
            "f value for node A is 1179.25\n",
            "Value=A is removed from memory .Thus decreasing cost of 1\n",
            "Value=B must be kept in memory between iterations. Thus adding cost of 1\n",
            "f value for node B is 879.25\n",
            "Expanding neighbours of B . Thus adding to time complexity of value 2\n",
            "Value=Chennai must be kept in memory between iterations. Thus adding cost of 1\n",
            "f value for node Chennai is 306.0\n",
            "path is ['New Delhi', 'B', 'Chennai'],cost is 306\n"
          ]
        }
      ],
      "source": [
        "#Invoke algorithm 1 (Should Print the solution, path, cost etc., (As mentioned in the problem))\n",
        "ida_star=IDAStar(graph,start_node,stop_node)\n",
        "path,cost,time_complexity_counter_ida_star,space_complexity_counter_ida_star=ida_star.search(start_node,stop_node)\n",
        "print('path is {},cost is {}'.format(path,cost))\n",
        "\n",
        "\n"
      ]
    },
    {
      "cell_type": "code",
      "execution_count": 32,
      "metadata": {
        "id": "u3MJeA6eF7sP",
        "colab": {
          "base_uri": "https://localhost:8080/"
        },
        "outputId": "68a635e5-2a3b-463e-a825-1e32a56fe68e"
      },
      "outputs": [
        {
          "output_type": "stream",
          "name": "stdout",
          "text": [
            "Best individual: ['New Delhi', 'B', 'Chennai'] Fitness: 0.0032679738562091504\n"
          ]
        }
      ],
      "source": [
        "#Invoke algorithm 2 (Should Print the solution, path, cost etc., (As mentioned in the problem))\n",
        "ga=GeneticAlgorithm(graph,start_node,stop_node)\n",
        "ga.execute()"
      ]
    },
    {
      "cell_type": "markdown",
      "metadata": {
        "id": "TOU3Rem6F7sQ"
      },
      "source": [
        "### 5.\tComparitive Analysis"
      ]
    },
    {
      "cell_type": "code",
      "execution_count": 33,
      "metadata": {
        "id": "HG6fWwiIF7sQ",
        "colab": {
          "base_uri": "https://localhost:8080/"
        },
        "outputId": "82bedfd8-d59e-47a8-d17f-5f229960d777"
      },
      "outputs": [
        {
          "output_type": "stream",
          "name": "stdout",
          "text": [
            "time_complexity_counter for ida* is 6\n",
            "space_complexity_counter for ida* is 3\n"
          ]
        }
      ],
      "source": [
        "#Code Block : Print the Time & Space complexity of algorithm 1\n",
        "print('time_complexity_counter for ida* is {}'.format(time_complexity_counter_ida_star.get_counter()))\n",
        "print('space_complexity_counter for ida* is {}'.format(space_complexity_counter_ida_star.get_counter()))\n"
      ]
    },
    {
      "cell_type": "code",
      "execution_count": 34,
      "metadata": {
        "id": "xMButLKCF7sQ",
        "colab": {
          "base_uri": "https://localhost:8080/"
        },
        "outputId": "0ab05692-48fc-4216-de71-2c68d6304072"
      },
      "outputs": [
        {
          "output_type": "stream",
          "name": "stdout",
          "text": [
            "time_complexity_counter for genetic algorithm is 30033\n",
            "space_complexity_counter for genetic algorithm is 331\n"
          ]
        }
      ],
      "source": [
        "#Code Block : Print the Time & Space complexity of algorithm 2\n",
        "print('time_complexity_counter for genetic algorithm is {}'.format(ga.time_complexity_counter.get_counter()))\n",
        "print('space_complexity_counter for genetic algorithm is {}'.format(ga.space_complexity_counter.get_counter()))\n"
      ]
    },
    {
      "cell_type": "markdown",
      "metadata": {
        "id": "y2nXwAlsF7sQ"
      },
      "source": [
        "### 6.\tProvide your comparitive analysis or findings in no more than 3 lines in below section"
      ]
    },
    {
      "cell_type": "markdown",
      "metadata": {
        "id": "si483-zoF7sQ"
      },
      "source": [
        "Comparison : The Time and Space complexity of IDA* performs better in this problem. IDA* being a depth limited search strategy is not systematic but consumes lesser memory compared with Genetic algorithm."
      ]
    }
  ],
  "metadata": {
    "kernelspec": {
      "display_name": "Python 3",
      "language": "python",
      "name": "python3"
    },
    "language_info": {
      "codemirror_mode": {
        "name": "ipython",
        "version": 3
      },
      "file_extension": ".py",
      "mimetype": "text/x-python",
      "name": "python",
      "nbconvert_exporter": "python",
      "pygments_lexer": "ipython3",
      "version": "3.7.6"
    },
    "colab": {
      "provenance": [],
      "include_colab_link": true
    }
  },
  "nbformat": 4,
  "nbformat_minor": 0
}