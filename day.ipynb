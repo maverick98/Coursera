{
  "nbformat": 4,
  "nbformat_minor": 0,
  "metadata": {
    "colab": {
      "provenance": [],
      "authorship_tag": "ABX9TyM/6LrSCv8C9Xwh7JiGOIBN",
      "include_colab_link": true
    },
    "kernelspec": {
      "name": "python3",
      "display_name": "Python 3"
    },
    "language_info": {
      "name": "python"
    }
  },
  "cells": [
    {
      "cell_type": "markdown",
      "metadata": {
        "id": "view-in-github",
        "colab_type": "text"
      },
      "source": [
        "<a href=\"https://colab.research.google.com/github/maverick98/Coursera/blob/master/day.ipynb\" target=\"_parent\"><img src=\"https://colab.research.google.com/assets/colab-badge.svg\" alt=\"Open In Colab\"/></a>"
      ]
    },
    {
      "cell_type": "code",
      "source": [
        "from math import floor"
      ],
      "metadata": {
        "id": "V-EasnOat_MI"
      },
      "execution_count": 69,
      "outputs": []
    },
    {
      "cell_type": "code",
      "execution_count": 70,
      "metadata": {
        "id": "DJVoHdvcsUX4"
      },
      "outputs": [],
      "source": [
        "#D=input('Enter Date')\n",
        "#M=input('Enter Month')\n",
        "#Y=input('Enter Year')\n"
      ]
    },
    {
      "cell_type": "code",
      "source": [
        "class DayOfDate:\n",
        "     def __init__(self,Date,Month,Year):\n",
        "        self.Date = Date\n",
        "        self.Month = Month\n",
        "        self.Year=Year\n",
        "        self.days=['Sunday','Monday','Tuesday','Wednesday','Thursday','Friday','Saturday']\n",
        "        self.initialize()\n",
        "     def initialize(self):\n",
        "        self.D=self.Date\n",
        "        self.M = self.Month+10 if self.Month < 3 else self.Month-2\n",
        "        self.C = int(self.Year/100)\n",
        "        self.Y=  self.Year%100\n",
        "        self.L = 1 if self.Year%400 == 0 or (self.Year%4 == 0 and self.Year%100 !=0) else 0\n",
        "\n",
        "\n",
        "     def compute_day(self):\n",
        "        d=self.D + self.Y - 2*self.C + floor(self.C/4) + floor(self.Y/4) + floor(2.6*self.M -0.2) -(1+self.L)*floor(self.M/11)\n",
        "        d=d%7\n",
        "        return int(d)\n",
        "     def compute(self):\n",
        "        d=self.compute_day()\n",
        "        return self.days[d]\n",
        "\n",
        "\n"
      ],
      "metadata": {
        "id": "xWCPRHSMss38"
      },
      "execution_count": 71,
      "outputs": []
    },
    {
      "cell_type": "code",
      "source": [
        "dod=DayOfDate(3,4,2024)\n",
        "print(dod.compute())"
      ],
      "metadata": {
        "colab": {
          "base_uri": "https://localhost:8080/"
        },
        "id": "BI3L1tdsx6CD",
        "outputId": "cf0aa318-9886-43a0-f912-d5838c0c2127"
      },
      "execution_count": 72,
      "outputs": [
        {
          "output_type": "stream",
          "name": "stdout",
          "text": [
            "Wednesday\n"
          ]
        }
      ]
    },
    {
      "cell_type": "code",
      "source": [
        "dod=DayOfDate(1,1,2024)\n",
        "print(dod.compute())"
      ],
      "metadata": {
        "colab": {
          "base_uri": "https://localhost:8080/"
        },
        "id": "9fg_Ls5S1ArG",
        "outputId": "4047b50a-2aba-455c-b456-7968690f5c20"
      },
      "execution_count": 73,
      "outputs": [
        {
          "output_type": "stream",
          "name": "stdout",
          "text": [
            "Monday\n"
          ]
        }
      ]
    },
    {
      "cell_type": "code",
      "source": [
        "dod=DayOfDate(15,8,1947)\n",
        "print(dod.compute())"
      ],
      "metadata": {
        "colab": {
          "base_uri": "https://localhost:8080/"
        },
        "id": "PwNgynd41fq0",
        "outputId": "2d0f00c6-21c7-43e2-8d83-3a31019b7c41"
      },
      "execution_count": 74,
      "outputs": [
        {
          "output_type": "stream",
          "name": "stdout",
          "text": [
            "Friday\n"
          ]
        }
      ]
    },
    {
      "cell_type": "code",
      "source": [
        "#India got its freedom on Friday"
      ],
      "metadata": {
        "id": "Ckkqsvf0110U"
      },
      "execution_count": 75,
      "outputs": []
    }
  ]
}