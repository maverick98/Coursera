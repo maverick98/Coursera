{
  "nbformat": 4,
  "nbformat_minor": 0,
  "metadata": {
    "colab": {
      "provenance": [],
      "authorship_tag": "ABX9TyMf14miVD0zRkQ2Acwb40v5",
      "include_colab_link": true
    },
    "kernelspec": {
      "name": "python3",
      "display_name": "Python 3"
    },
    "language_info": {
      "name": "python"
    }
  },
  "cells": [
    {
      "cell_type": "markdown",
      "metadata": {
        "id": "view-in-github",
        "colab_type": "text"
      },
      "source": [
        "<a href=\"https://colab.research.google.com/github/maverick98/Coursera/blob/master/minPriorityQueue.ipynb\" target=\"_parent\"><img src=\"https://colab.research.google.com/assets/colab-badge.svg\" alt=\"Open In Colab\"/></a>"
      ]
    },
    {
      "cell_type": "code",
      "execution_count": 65,
      "metadata": {
        "id": "Z1huqNvyglpt"
      },
      "outputs": [],
      "source": [
        "class Element:\n",
        "    def __init__(self,key,value):\n",
        "        self.key=key\n",
        "        self.value=value\n",
        "    def priority(self):\n",
        "        return self.key\n",
        "    def __str__(self):\n",
        "        return 'Key={}, Value={}'.format(self.key,self.value)\n",
        "class PriorityQueue:\n",
        "    def __init__(self):\n",
        "        self.queue=[None]\n",
        "        self.size=0\n",
        "    def parent(self,i):\n",
        "        return int(i/2)\n",
        "    def left_child(self,i):\n",
        "        return 2*i\n",
        "    def right_child(self,i):\n",
        "        return 2*i+1\n",
        "    def exchange(self,i,j):\n",
        "        self.queue[i],self.queue[j]=self.queue[j],self.queue[i]\n",
        "    def less(self,i,j):\n",
        "        return self.queue[i].priority() < self.queue[j].priority()\n",
        "    def more(self,i,j):\n",
        "        return self.queue[i].priority() > self.queue[j].priority()\n",
        "    def swim(self,k):\n",
        "        if self.size ==1:\n",
        "           return\n",
        "        while(k > 1 and self.more(self.parent(k),k)):\n",
        "             self.exchange(k,self.parent(k))\n",
        "             k=self.parent(k)\n",
        "    def sink(self,k):\n",
        "        while self.left_child(k) <= self.size:\n",
        "              left_child_idx= self.left_child(k)\n",
        "              idx=left_child_idx\n",
        "              right_child_idx= self.right_child(k)\n",
        "\n",
        "              if right_child_idx <= self.size and self.more(left_child_idx,right_child_idx):\n",
        "                 idx=right_child_idx\n",
        "              if self.more(k,idx):\n",
        "                 self.exchange(k,idx)\n",
        "              k=idx\n",
        "\n",
        "    def is_empty(self):\n",
        "        return self.size==0\n",
        "    def resize(self,new_size):\n",
        "        if new_size >self.size:\n",
        "           queue_resized=[None]*(new_size)\n",
        "           for  i in range(self.size+1):\n",
        "                queue_resized[i]=self.queue[i]\n",
        "           self.queue=queue_resized\n",
        "\n",
        "    def min(self):\n",
        "        if self.is_empty() == False:\n",
        "            return self.queue[1]\n",
        "        return None\n",
        "    def show(self):\n",
        "         print('Priority Queue size is {}'.format(self.size))\n",
        "         for i in range(self.size+1):\n",
        "            if i >0:\n",
        "                print(self.queue[i])\n",
        "\n",
        "    def insert(self,element):\n",
        "        if self.size == (len(self.queue)-1):\n",
        "            self.resize(2*len(self.queue))\n",
        "\n",
        "        self.size=self.size+1\n",
        "        print('Inserting element {} '.format(element))\n",
        "        self.queue[self.size]=element\n",
        "\n",
        "\n",
        "        self.swim(self.size)\n",
        "\n",
        "    def extract_min(self):\n",
        "        if self.is_empty() == False:\n",
        "            min=self.min()\n",
        "            self.exchange(1,self.size)\n",
        "            self.size=self.size-1\n",
        "            self.sink(1)\n",
        "            if self.is_empty() == True:\n",
        "               self.queue=[None]\n",
        "\n",
        "            return min\n",
        "\n",
        "        return None\n",
        "\n"
      ]
    },
    {
      "cell_type": "code",
      "source": [
        "element1= Element(8,8)\n",
        "element2= Element(12,12)\n",
        "element3= Element(87,87)\n",
        "min_priority_queue=PriorityQueue()\n",
        "min_priority_queue.insert(element1)\n",
        "min_priority_queue.insert(element2)\n",
        "min_priority_queue.insert(element3)\n",
        "print('min is {}',min_priority_queue.min())\n",
        "print('Extracting min {} '.format(min_priority_queue.extract_min()))\n",
        "print('min is {}',min_priority_queue.min())\n",
        "print('Extracting min {} '.format(min_priority_queue.extract_min()))\n",
        "print('min is {}',min_priority_queue.min())\n",
        "print('Extracting min {} '.format(min_priority_queue.extract_min()))\n",
        "print('min is {}',min_priority_queue.min())\n",
        "print('Extracting min {} '.format(min_priority_queue.extract_min()))\n",
        "print('min is {}',min_priority_queue.min())\n",
        "print('Extracting min {} '.format(min_priority_queue.extract_min()))\n",
        "print('min is {}',min_priority_queue.min())\n",
        "min_priority_queue.insert(element3)\n",
        "print('min is {}',min_priority_queue.min())\n",
        "print('Extracting min {} '.format(min_priority_queue.extract_min()))\n",
        "print('min is {}',min_priority_queue.min())"
      ],
      "metadata": {
        "colab": {
          "base_uri": "https://localhost:8080/"
        },
        "id": "aK-gJr3XEZho",
        "outputId": "0edbcff8-138d-49b8-a3b1-ad41355375eb"
      },
      "execution_count": 66,
      "outputs": [
        {
          "output_type": "stream",
          "name": "stdout",
          "text": [
            "Inserting element Key=8, Value=8 \n",
            "Inserting element Key=12, Value=12 \n",
            "Inserting element Key=87, Value=87 \n",
            "min is {} Key=8, Value=8\n",
            "Extracting min Key=8, Value=8 \n",
            "min is {} Key=12, Value=12\n",
            "Extracting min Key=12, Value=12 \n",
            "min is {} Key=87, Value=87\n",
            "Extracting min Key=87, Value=87 \n",
            "min is {} None\n",
            "Extracting min None \n",
            "min is {} None\n",
            "Extracting min None \n",
            "min is {} None\n",
            "Inserting element Key=87, Value=87 \n",
            "min is {} Key=87, Value=87\n",
            "Extracting min Key=87, Value=87 \n",
            "min is {} None\n"
          ]
        }
      ]
    },
    {
      "cell_type": "code",
      "source": [
        "\n",
        "\n"
      ],
      "metadata": {
        "id": "1vffnDVA5NYv"
      },
      "execution_count": 2,
      "outputs": []
    }
  ]
}