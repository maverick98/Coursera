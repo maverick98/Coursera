{
  "nbformat": 4,
  "nbformat_minor": 0,
  "metadata": {
    "colab": {
      "provenance": [],
      "authorship_tag": "ABX9TyMiHlduzXdhFCtwgystISbl",
      "include_colab_link": true
    },
    "kernelspec": {
      "name": "python3",
      "display_name": "Python 3"
    },
    "language_info": {
      "name": "python"
    }
  },
  "cells": [
    {
      "cell_type": "markdown",
      "metadata": {
        "id": "view-in-github",
        "colab_type": "text"
      },
      "source": [
        "<a href=\"https://colab.research.google.com/github/maverick98/Coursera/blob/master/mfml1.ipynb\" target=\"_parent\"><img src=\"https://colab.research.google.com/assets/colab-badge.svg\" alt=\"Open In Colab\"/></a>"
      ]
    },
    {
      "cell_type": "code",
      "source": [
        "import numpy as np"
      ],
      "metadata": {
        "id": "g9eeOve-FL6H"
      },
      "execution_count": null,
      "outputs": []
    },
    {
      "cell_type": "code",
      "source": [
        "#Create matrix\n",
        "def create_random_matrix(m,n,generate_float=False):\n",
        "    if generate_float == True:\n",
        "        A = np.random.ranf(size=(m, n))\n",
        "    else:\n",
        "        A = np.random.randint(low=0,high=100,size=(m, n))\n",
        "        A=A.astype(float)\n",
        "    return A\n",
        "\n",
        "def augment_matrix(A,b):\n",
        "    b=b.reshape(b.shape[0],1)\n",
        "    return np.append(A,b,axis=1)\n",
        ""
      ],
      "metadata": {
        "id": "_b4egOpVE74W"
      },
      "execution_count": 190,
      "outputs": []
    },
    {
      "cell_type": "code",
      "source": [
        "#Elementary row operations\n",
        "def const_multiple(A,i,c):\n",
        "    A[i]*=c\n",
        "def exchange_rows(A,i,j):\n",
        "    A[[i,j]] = A[[j,i]]\n",
        "def add_const_row_multiple(A,i,j,c):\n",
        "    A[i]+=A[j]*c\n"
      ],
      "metadata": {
        "id": "XXPnYLukLVXv"
      },
      "execution_count": 35,
      "outputs": []
    },
    {
      "cell_type": "code",
      "source": [
        "def find_pivot_row(A, curr_pivot_row, col):\n",
        "    rows = A.shape[0]\n",
        "    for row in range(curr_pivot_row, rows):\n",
        "        if A[row, col] != 0.0:\n",
        "            return row\n",
        "    return None\n",
        "\n",
        "def convert_pivot_value_to_one(A,pivot_row,col):\n",
        "    pivot_row_value=A[pivot_row,col]\n",
        "    A[pivot_row] /=pivot_row_value\n",
        "\n",
        "\n",
        "def convert_pivot_row_column_values_to_zero_above(A,pivot_row,col):\n",
        "    rows = A.shape[0]\n",
        "    for row in range(0,pivot_row):\n",
        "        const_multiplier=A[row][col]/A[pivot_row][col]\n",
        "        #print('subtracting {}*A[{}] from A[{}]'.format(const_multiplier, pivot_row,row))\n",
        "        A[row] -=const_multiplier*A[pivot_row]\n",
        "\n",
        "def convert_pivot_row_column_values_to_zero_below(A,pivot_row,col):\n",
        "    rows = A.shape[0]\n",
        "    for row in range(pivot_row+1, rows):\n",
        "        const_multiplier=A[row][col]/A[pivot_row][col]\n",
        "\n",
        "        #print('subtracting {}*A[{}] from A[{}]'.format(const_multiplier, pivot_row,row))\n",
        "        A[row] -=const_multiplier*A[pivot_row]\n",
        "\n",
        "def calculate_row_echelon_form(A,rref=False):\n",
        "\n",
        "\n",
        "    pivot_row_cols=[]\n",
        "    pivot_cols=[]\n",
        "    non_pivot_cols=[]\n",
        "    rows=A.shape[0]\n",
        "    cols=A.shape[1]\n",
        "\n",
        "    def calculate_pivot_and_non_pivot_cols():\n",
        "        all_cols=np.array(range(cols))\n",
        "        pivot_cols_list=[]\n",
        "        for pivot_row_col in pivot_row_cols:\n",
        "            pivot_cols_list.append(pivot_row_col[1])\n",
        "        pivot_cols=np.array(pivot_cols_list)\n",
        "        non_pivot_cols=np.setdiff1d(all_cols,pivot_cols)\n",
        "        return pivot_cols,non_pivot_cols\n",
        "\n",
        "\n",
        "    curr_pivot_row=0\n",
        "    for col in range(cols):\n",
        "        nonzero_row = find_pivot_row(A, curr_pivot_row, col)\n",
        "        if nonzero_row is not None:\n",
        "            exchange_rows(A,curr_pivot_row,nonzero_row)\n",
        "            #print('pivot row={} column={} '.format(curr_pivot_row,col))\n",
        "            pivot_row_cols.append((curr_pivot_row,col))\n",
        "            if rref == True:\n",
        "                convert_pivot_value_to_one(A,curr_pivot_row,col)\n",
        "            convert_pivot_row_column_values_to_zero_below(A,curr_pivot_row,col)\n",
        "            if rref == True:\n",
        "                convert_pivot_row_column_values_to_zero_above(A,curr_pivot_row,col)\n",
        "            curr_pivot_row+=1\n",
        "    pivot_cols,non_pivot_cols=calculate_pivot_and_non_pivot_cols()\n",
        "    return pivot_row_cols,pivot_cols,non_pivot_cols\n",
        "\n",
        "def calculate_generic_solution(A,b):\n",
        "    if A.shape[0] != b.shape[0]:\n",
        "        print(\"Illegal values for A and b\")\n",
        "        return\n",
        "    A_aug=augment_matrix(A,b)\n",
        "    pivot_row_cols,pivot_cols , non_pivot_cols = calculate_row_echelon_form(A,rref=True)\n",
        "    x_particular=np.zeros(A.shape[1],dtype=float)\n",
        "    x_nullspace_solutions=[]\n",
        "    last_col=A_aug.shape[1]-1\n",
        "    for pivot_row_col in pivot_row_cols:\n",
        "        x_particular[pivot_row_col[1]]=A_aug[ pivot_row_col[0],last_col]\n",
        "\n",
        "    const_multiplier_prefix='c'\n",
        "    const_multiplier_idx=1\n",
        "    x_nullspace_solutions_list=[]\n",
        "    for non_pivot_col in non_pivot_cols:\n",
        "        x_nullspace_solution=np.zeros(A.shape[1],dtype=float)\n",
        "        x_nullspace_solution[non_pivot_col]=-1\n",
        "        idx=0\n",
        "        for pivot_col in pivot_cols:\n",
        "            if pivot_col < non_pivot_col:\n",
        "               x_nullspace_solution[pivot_col]=A[idx,non_pivot_col]\n",
        "               idx+=1\n",
        "        x_nullspace_solution_str=' + {}*{}'.format(const_multiplier_prefix+str(const_multiplier_idx),x_nullspace_solution)\n",
        "        const_multiplier_idx+=1\n",
        "        x_nullspace_solutions.append(x_nullspace_solution)\n",
        "        x_nullspace_solutions_list.append(x_nullspace_solution_str)\n",
        "    x_nullspace_solutions_str=' '.join(x_nullspace_solutions_list)\n",
        "    x_generic_solution_str='Generic solution would be {} {}'.format(x_particular,x_nullspace_solutions_str)\n",
        "\n",
        "    return  x_particular,x_nullspace_solutions,x_generic_solution_str\n",
        "\n",
        ""
      ],
      "metadata": {
        "id": "cD43Qtq7cVVc"
      },
      "execution_count": 254,
      "outputs": []
    },
    {
      "cell_type": "code",
      "source": [
        "def create_matrix():\n",
        "    A = np.array([[ 1, 0, 8 ,-4 ], [0 ,1, 2, 12]])\n",
        "    A=A.astype(float)\n",
        "    return A"
      ],
      "metadata": {
        "id": "NYuecZvJI4yQ"
      },
      "execution_count": 240,
      "outputs": []
    },
    {
      "cell_type": "code",
      "source": [
        "A=create_matrix()\n",
        "#print(A)\n",
        "b=np.array([42,8])\n",
        "b=b.astype(float)\n",
        "x_particular,x_nullspace_solutions,x_generic_solution_str=calculate_generic_solution(A,b)\n",
        "print('Particular solution is {}'.format(x_particular))\n",
        "print('NullSpace solution(s) are {}'.format(x_nullspace_solutions))\n",
        "print(x_generic_solution_str)\n",
        "\n"
      ],
      "metadata": {
        "colab": {
          "base_uri": "https://localhost:8080/"
        },
        "id": "vaytFNpAoWB7",
        "outputId": "6a916086-ea67-4613-b330-acbdb09275c7"
      },
      "execution_count": 259,
      "outputs": [
        {
          "output_type": "stream",
          "name": "stdout",
          "text": [
            "Particular solution is [42.  8.  0.  0.]\n",
            "NullSpace solution(s) are [array([ 8.,  2., -1.,  0.]), array([-4., 12.,  0., -1.])]\n",
            "Generic solution would be [42.  8.  0.  0.]  + c1*[ 8.  2. -1.  0.]  + c2*[-4. 12.  0. -1.]\n"
          ]
        }
      ]
    }
  ]
}