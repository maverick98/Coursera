{
  "nbformat": 4,
  "nbformat_minor": 0,
  "metadata": {
    "colab": {
      "provenance": [],
      "authorship_tag": "ABX9TyNMtv5hEhu+MzAijI7bvrvy",
      "include_colab_link": true
    },
    "kernelspec": {
      "name": "python3",
      "display_name": "Python 3"
    },
    "language_info": {
      "name": "python"
    }
  },
  "cells": [
    {
      "cell_type": "markdown",
      "metadata": {
        "id": "view-in-github",
        "colab_type": "text"
      },
      "source": [
        "<a href=\"https://colab.research.google.com/github/maverick98/Coursera/blob/master/mfml1.ipynb\" target=\"_parent\"><img src=\"https://colab.research.google.com/assets/colab-badge.svg\" alt=\"Open In Colab\"/></a>"
      ]
    },
    {
      "cell_type": "code",
      "source": [
        "import numpy as np"
      ],
      "metadata": {
        "id": "g9eeOve-FL6H"
      },
      "execution_count": 1,
      "outputs": []
    },
    {
      "cell_type": "code",
      "source": [
        "#Create matrix\n",
        "def create_random_matrix(m,n,generate_float=False):\n",
        "    if generate_float == True:\n",
        "        A = np.random.ranf(size=(m, n))\n",
        "    else:\n",
        "        A = np.random.randint(low=0,high=100,size=(m, n))\n",
        "        A=A.astype(float)\n",
        "    return A\n",
        "\n",
        "def augment_matrix(A,b):\n",
        "    b=b.reshape(b.shape[0],1)\n",
        "    return np.append(A,b,axis=1)\n"
      ],
      "metadata": {
        "id": "_b4egOpVE74W"
      },
      "execution_count": 3,
      "outputs": []
    },
    {
      "cell_type": "code",
      "source": [
        "#Elementary row operations\n",
        "def const_multiple(A,i,c):\n",
        "    A[i]*=c\n",
        "def exchange_rows(A,i,j):\n",
        "    A[[i,j]] = A[[j,i]]\n",
        "def add_const_row_multiple(A,i,j,c):\n",
        "    A[i]+=A[j]*c\n"
      ],
      "metadata": {
        "id": "XXPnYLukLVXv"
      },
      "execution_count": 4,
      "outputs": []
    },
    {
      "cell_type": "code",
      "source": [
        "def find_pivot_row(A, curr_pivot_row, col):\n",
        "    rows = A.shape[0]\n",
        "    for row in range(curr_pivot_row, rows):\n",
        "        if A[row, col] != 0.0:\n",
        "            return row\n",
        "    return None\n",
        "\n",
        "def convert_pivot_value_to_one(A,pivot_row,col):\n",
        "    pivot_row_value=A[pivot_row,col]\n",
        "    A[pivot_row] /=pivot_row_value\n",
        "\n",
        "\n",
        "def convert_pivot_row_column_values_to_zero_above(A,pivot_row,col):\n",
        "    rows = A.shape[0]\n",
        "    for row in range(0,pivot_row):\n",
        "        const_multiplier=A[row][col]/A[pivot_row][col]\n",
        "        #print('subtracting {}*A[{}] from A[{}]'.format(const_multiplier, pivot_row,row))\n",
        "        A[row] -=const_multiplier*A[pivot_row]\n",
        "\n",
        "def convert_pivot_row_column_values_to_zero_below(A,pivot_row,col):\n",
        "    rows = A.shape[0]\n",
        "    for row in range(pivot_row+1, rows):\n",
        "        const_multiplier=A[row][col]/A[pivot_row][col]\n",
        "\n",
        "        #print('subtracting {}*A[{}] from A[{}]'.format(const_multiplier, pivot_row,row))\n",
        "        A[row] -=const_multiplier*A[pivot_row]\n",
        "\n",
        "def calculate_row_echelon_form(A,rref=False):\n",
        "\n",
        "\n",
        "    pivot_row_cols=[]\n",
        "    pivot_cols=[]\n",
        "    non_pivot_cols=[]\n",
        "    rows=A.shape[0]\n",
        "    cols=A.shape[1]\n",
        "\n",
        "    def calculate_pivot_and_non_pivot_cols():\n",
        "        all_cols=np.array(range(cols-1))\n",
        "        pivot_cols_list=[]\n",
        "        for pivot_row_col in pivot_row_cols:\n",
        "            pivot_cols_list.append(pivot_row_col[1])\n",
        "        pivot_cols=np.array(pivot_cols_list)\n",
        "        non_pivot_cols=np.setdiff1d(all_cols,pivot_cols)\n",
        "        return pivot_cols,non_pivot_cols\n",
        "\n",
        "\n",
        "    curr_pivot_row=0\n",
        "    for col in range(cols):\n",
        "        nonzero_row = find_pivot_row(A, curr_pivot_row, col)\n",
        "        if nonzero_row is not None:\n",
        "            exchange_rows(A,curr_pivot_row,nonzero_row)\n",
        "            #print('pivot row={} column={} '.format(curr_pivot_row,col))\n",
        "            pivot_row_cols.append((curr_pivot_row,col))\n",
        "            if rref == True:\n",
        "                convert_pivot_value_to_one(A,curr_pivot_row,col)\n",
        "            convert_pivot_row_column_values_to_zero_below(A,curr_pivot_row,col)\n",
        "            if rref == True:\n",
        "                convert_pivot_row_column_values_to_zero_above(A,curr_pivot_row,col)\n",
        "            curr_pivot_row+=1\n",
        "    pivot_cols,non_pivot_cols=calculate_pivot_and_non_pivot_cols()\n",
        "    return pivot_row_cols,pivot_cols,non_pivot_cols\n",
        "\n",
        "def calculate_generic_solution(A,b):\n",
        "    if A.shape[0] != b.shape[0]:\n",
        "        print(\"Illegal values for A and b\")\n",
        "        return\n",
        "    print('Matrix is')\n",
        "    print(A)\n",
        "    print('b is')\n",
        "    print(b)\n",
        "\n",
        "    A_aug=augment_matrix(A,b)\n",
        "    print('Augmented matrix is')\n",
        "    print(A_aug)\n",
        "    #print('REF matrix is '.format(A_aug))\n",
        "    pivot_row_cols,pivot_cols , non_pivot_cols = calculate_row_echelon_form(A_aug,rref=True)\n",
        "    print('RREF matrix is')\n",
        "    print(A_aug)\n",
        "    #print('pivot_row_cols is {}'.format(pivot_row_cols))\n",
        "    print('pivot_cols is {}'.format(pivot_cols))\n",
        "    print('non_pivot_cols is {}'.format(non_pivot_cols))\n",
        "    x_particular=np.zeros(A.shape[1],dtype=float)\n",
        "    x_nullspace_solutions=[]\n",
        "    last_col=A_aug.shape[1]-1\n",
        "    for pivot_row_col in pivot_row_cols:\n",
        "        x_particular[pivot_row_col[1]]=A_aug[ pivot_row_col[0],last_col]\n",
        "\n",
        "    const_multiplier_prefix='c'\n",
        "    const_multiplier_idx=1\n",
        "    x_nullspace_solutions_list=[]\n",
        "    for non_pivot_col in non_pivot_cols:\n",
        "        x_nullspace_solution=np.zeros(A.shape[1],dtype=float)\n",
        "        x_nullspace_solution[non_pivot_col]=-1\n",
        "        idx=0\n",
        "        for pivot_col in pivot_cols:\n",
        "            if pivot_col < non_pivot_col:\n",
        "               x_nullspace_solution[pivot_col]=A_aug[idx,non_pivot_col]\n",
        "               idx+=1\n",
        "        x_nullspace_solution_str=' + {}*{}'.format(const_multiplier_prefix+str(const_multiplier_idx),x_nullspace_solution)\n",
        "        const_multiplier_idx+=1\n",
        "        x_nullspace_solutions.append(x_nullspace_solution)\n",
        "        x_nullspace_solutions_list.append(x_nullspace_solution_str)\n",
        "    x_nullspace_solutions_str=' '.join(x_nullspace_solutions_list)\n",
        "    x_generic_solution_str='Generic solution would be {} {}'.format(x_particular,x_nullspace_solutions_str)\n",
        "\n",
        "    return  x_particular,x_nullspace_solutions,x_generic_solution_str\n",
        "\n"
      ],
      "metadata": {
        "id": "cD43Qtq7cVVc"
      },
      "execution_count": 25,
      "outputs": []
    },
    {
      "cell_type": "code",
      "source": [
        "def create_matrix():\n",
        "    A = np.array([[ 1, 0, 8 ,-4 ], [0 ,1, 2, 12]])\n",
        "    A=A.astype(float)\n",
        "    return A"
      ],
      "metadata": {
        "id": "NYuecZvJI4yQ"
      },
      "execution_count": 6,
      "outputs": []
    },
    {
      "cell_type": "code",
      "source": [],
      "metadata": {
        "id": "3El8pCfdge6n"
      },
      "execution_count": null,
      "outputs": []
    },
    {
      "cell_type": "code",
      "source": [
        "def answer(A,b):\n",
        "    #print(A)\n",
        "    x_particular,x_nullspace_solutions,x_generic_solution_str=calculate_generic_solution(A,b)\n",
        "    print('Particular solution is {}'.format(x_particular))\n",
        "    print('NullSpace solution(s) are {}'.format(x_nullspace_solutions))\n",
        "    print(x_generic_solution_str)\n",
        "\n"
      ],
      "metadata": {
        "id": "vaytFNpAoWB7"
      },
      "execution_count": 13,
      "outputs": []
    },
    {
      "cell_type": "code",
      "source": [
        "A=create_matrix()\n",
        "b=np.array([42,8]).astype(float)\n",
        "answer(A,b)\n"
      ],
      "metadata": {
        "colab": {
          "base_uri": "https://localhost:8080/"
        },
        "id": "foKvJOfsmT3e",
        "outputId": "c37ca86d-4727-4687-8e9d-90505f513236"
      },
      "execution_count": 26,
      "outputs": [
        {
          "output_type": "stream",
          "name": "stdout",
          "text": [
            "Matrix is\n",
            "[[ 1.  0.  8. -4.]\n",
            " [ 0.  1.  2. 12.]]\n",
            "b is\n",
            "[42.  8.]\n",
            "Augmented matrix is\n",
            "[[ 1.  0.  8. -4. 42.]\n",
            " [ 0.  1.  2. 12.  8.]]\n",
            "RREF matrix is\n",
            "[[ 1.  0.  8. -4. 42.]\n",
            " [ 0.  1.  2. 12.  8.]]\n",
            "pivot_cols is [0 1]\n",
            "non_pivot_cols is [2 3]\n",
            "Particular solution is [42.  8.  0.  0.]\n",
            "NullSpace solution(s) are [array([ 8.,  2., -1.,  0.]), array([-4., 12.,  0., -1.])]\n",
            "Generic solution would be [42.  8.  0.  0.]  + c1*[ 8.  2. -1.  0.]  + c2*[-4. 12.  0. -1.]\n"
          ]
        }
      ]
    },
    {
      "cell_type": "code",
      "source": [
        "A = np.array([[ 2, 3 ], [1 , -1]])\n",
        "A=A.astype(float)\n",
        "b=np.array([22,1]).astype(float)\n",
        "answer(A,b)"
      ],
      "metadata": {
        "colab": {
          "base_uri": "https://localhost:8080/"
        },
        "id": "Sue3QuVQg165",
        "outputId": "3de2dd02-a915-43ea-f9e4-b8c6bd0b7550"
      },
      "execution_count": 29,
      "outputs": [
        {
          "output_type": "stream",
          "name": "stdout",
          "text": [
            "Matrix is\n",
            "[[ 2.  3.]\n",
            " [ 1. -1.]]\n",
            "b is\n",
            "[22.  1.]\n",
            "Augmented matrix is\n",
            "[[ 2.  3. 22.]\n",
            " [ 1. -1.  1.]]\n",
            "RREF matrix is\n",
            "[[ 1.  0.  5.]\n",
            " [-0.  1.  4.]]\n",
            "pivot_cols is [0 1]\n",
            "non_pivot_cols is []\n",
            "Particular solution is [5. 4.]\n",
            "NullSpace solution(s) are []\n",
            "Generic solution would be [5. 4.] \n"
          ]
        }
      ]
    },
    {
      "cell_type": "code",
      "source": [
        "A = np.array([[ 2, 3 ], [4 , 6]])\n",
        "A=A.astype(float)\n",
        "b=np.array([22,44]).astype(float)\n",
        "answer(A,b)"
      ],
      "metadata": {
        "colab": {
          "base_uri": "https://localhost:8080/"
        },
        "id": "6P_rBCBWg_h4",
        "outputId": "76b53a8c-cae0-4b3a-b4b5-bb94415a75f1"
      },
      "execution_count": 30,
      "outputs": [
        {
          "output_type": "stream",
          "name": "stdout",
          "text": [
            "Matrix is\n",
            "[[2. 3.]\n",
            " [4. 6.]]\n",
            "b is\n",
            "[22. 44.]\n",
            "Augmented matrix is\n",
            "[[ 2.  3. 22.]\n",
            " [ 4.  6. 44.]]\n",
            "RREF matrix is\n",
            "[[ 1.   1.5 11. ]\n",
            " [ 0.   0.   0. ]]\n",
            "pivot_cols is [0]\n",
            "non_pivot_cols is [1]\n",
            "Particular solution is [11.  0.]\n",
            "NullSpace solution(s) are [array([ 1.5, -1. ])]\n",
            "Generic solution would be [11.  0.]  + c1*[ 1.5 -1. ]\n"
          ]
        }
      ]
    },
    {
      "cell_type": "code",
      "source": [
        "A=create_random_matrix(5,7)\n",
        "b=np.array([112,13,131,78,89]).astype(float)\n",
        "answer(A,b)"
      ],
      "metadata": {
        "colab": {
          "base_uri": "https://localhost:8080/"
        },
        "id": "RJDxXn8rmf6D",
        "outputId": "e9eab3a8-7018-44d9-e221-95253c839bfd"
      },
      "execution_count": 27,
      "outputs": [
        {
          "output_type": "stream",
          "name": "stdout",
          "text": [
            "Matrix is\n",
            "[[28. 16. 31. 39. 41. 45.  3.]\n",
            " [23. 97. 83. 91. 86. 69. 68.]\n",
            " [86. 24.  8. 58. 39.  3. 36.]\n",
            " [ 8. 85. 67. 68. 76. 50. 69.]\n",
            " [96. 14. 10. 17.  0. 92. 49.]]\n",
            "b is\n",
            "[112.  13. 131.  78.  89.]\n",
            "Augmented matrix is\n",
            "[[ 28.  16.  31.  39.  41.  45.   3. 112.]\n",
            " [ 23.  97.  83.  91.  86.  69.  68.  13.]\n",
            " [ 86.  24.   8.  58.  39.   3.  36. 131.]\n",
            " [  8.  85.  67.  68.  76.  50.  69.  78.]\n",
            " [ 96.  14.  10.  17.   0.  92.  49.  89.]]\n",
            "RREF matrix is\n",
            "[[ 1.          0.          0.          0.          0.          0.99632775\n",
            "   0.52423828  2.41618058]\n",
            " [ 0.          1.          0.          0.          0.         -0.43537284\n",
            "   1.56490733 -0.70443366]\n",
            " [ 0.          0.          1.          0.          0.          2.90496855\n",
            "  -0.49886293 -1.50527148]\n",
            " [-0.         -0.         -0.          1.          0.         -1.56481941\n",
            "  -1.07334988 -6.9434441 ]\n",
            " [-0.         -0.         -0.         -0.          1.         -0.12090926\n",
            "   0.5026392   9.09940532]]\n",
            "pivot_cols is [0 1 2 3 4]\n",
            "non_pivot_cols is [5 6]\n",
            "Particular solution is [ 2.41618058 -0.70443366 -1.50527148 -6.9434441   9.09940532  0.\n",
            "  0.        ]\n",
            "NullSpace solution(s) are [array([ 0.99632775, -0.43537284,  2.90496855, -1.56481941, -0.12090926,\n",
            "       -1.        ,  0.        ]), array([ 0.52423828,  1.56490733, -0.49886293, -1.07334988,  0.5026392 ,\n",
            "        0.        , -1.        ])]\n",
            "Generic solution would be [ 2.41618058 -0.70443366 -1.50527148 -6.9434441   9.09940532  0.\n",
            "  0.        ]  + c1*[ 0.99632775 -0.43537284  2.90496855 -1.56481941 -0.12090926 -1.\n",
            "  0.        ]  + c2*[ 0.52423828  1.56490733 -0.49886293 -1.07334988  0.5026392   0.\n",
            " -1.        ]\n"
          ]
        }
      ]
    }
  ]
}