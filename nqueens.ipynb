{
  "nbformat": 4,
  "nbformat_minor": 0,
  "metadata": {
    "colab": {
      "provenance": [],
      "authorship_tag": "ABX9TyOOaKV/vVpz2YSGO7wNNq7c",
      "include_colab_link": true
    },
    "kernelspec": {
      "name": "python3",
      "display_name": "Python 3"
    },
    "language_info": {
      "name": "python"
    }
  },
  "cells": [
    {
      "cell_type": "markdown",
      "metadata": {
        "id": "view-in-github",
        "colab_type": "text"
      },
      "source": [
        "<a href=\"https://colab.research.google.com/github/maverick98/Coursera/blob/master/nqueens.ipynb\" target=\"_parent\"><img src=\"https://colab.research.google.com/assets/colab-badge.svg\" alt=\"Open In Colab\"/></a>"
      ]
    },
    {
      "cell_type": "code",
      "execution_count": 15,
      "metadata": {
        "id": "lH9NWdNFsf9v"
      },
      "outputs": [],
      "source": [
        "class NQueens:\n",
        "    def __init__(self,N):\n",
        "        self.N=N\n",
        "        self.queen_rows=[-1]*self.N\n",
        "\n",
        "    def is_valid_placement(self,row,col):\n",
        "        for q_col in range(col):\n",
        "            q_row=self.queen_rows[q_col]\n",
        "            if ( (q_row == row) or (q_row+q_col == row+col)  or (q_row-q_col == row-col) ):\n",
        "                return False\n",
        "        return True\n",
        "    def get_formatted_placements(self):\n",
        "        placements= [ (['- ']*self.N) for row in range(self.N)]\n",
        "        for col in range(self.N):\n",
        "            row=self.queen_rows[col]\n",
        "            placements[row][col]='Q '\n",
        "        return \"\\n\".join([\"\".join(row) for row in placements])\n",
        "\n",
        "    def place(self,col):\n",
        "        if col == self.N:\n",
        "            return self.get_formatted_placements()\n",
        "\n",
        "        for row in range(self.N):\n",
        "            self.queen_rows[col]=row\n",
        "            if self.is_valid_placement(row,col):\n",
        "                placement=self.place(col+1)\n",
        "                if placement is not None:\n",
        "                   return placement\n",
        "                self.queen_rows[col]=None\n",
        "        return None\n",
        "\n",
        "\n"
      ]
    },
    {
      "cell_type": "code",
      "source": [
        "n_queen=NQueens(5)\n",
        "print(n_queen.place(0))"
      ],
      "metadata": {
        "colab": {
          "base_uri": "https://localhost:8080/"
        },
        "id": "Y9NmMcOjwZLr",
        "outputId": "c24ce27d-09fa-462f-bc27-25ff67c3401d"
      },
      "execution_count": 17,
      "outputs": [
        {
          "output_type": "stream",
          "name": "stdout",
          "text": [
            "Q - - - - \n",
            "- - - Q - \n",
            "- Q - - - \n",
            "- - - - Q \n",
            "- - Q - - \n"
          ]
        }
      ]
    }
  ]
}