{
  "nbformat": 4,
  "nbformat_minor": 0,
  "metadata": {
    "colab": {
      "provenance": [],
      "include_colab_link": true
    },
    "kernelspec": {
      "name": "python3",
      "display_name": "Python 3"
    },
    "language_info": {
      "name": "python"
    }
  },
  "cells": [
    {
      "cell_type": "markdown",
      "metadata": {
        "id": "view-in-github",
        "colab_type": "text"
      },
      "source": [
        "<a href=\"https://colab.research.google.com/github/maverick98/Coursera/blob/master/A__algorithm(1).ipynb\" target=\"_parent\"><img src=\"https://colab.research.google.com/assets/colab-badge.svg\" alt=\"Open In Colab\"/></a>"
      ]
    },
    {
      "cell_type": "code",
      "execution_count": 1,
      "metadata": {
        "id": "L6LmHxSuWunr",
        "colab": {
          "base_uri": "https://localhost:8080/"
        },
        "outputId": "cb2a75c7-4322-4e47-9cda-96b5a3c63884"
      },
      "outputs": [
        {
          "output_type": "stream",
          "name": "stdout",
          "text": [
            "Path found: ['A', 'F', 'G', 'I', 'J']\n"
          ]
        },
        {
          "output_type": "execute_result",
          "data": {
            "text/plain": [
              "['A', 'F', 'G', 'I', 'J']"
            ]
          },
          "metadata": {},
          "execution_count": 1
        }
      ],
      "source": [
        "def aStarAlgo(start_node, stop_node):\n",
        "    open_set = set(start_node)\n",
        "    closed_set = set()\n",
        "    g = {}               #store distance from starting node\n",
        "    parents = {}         # parents contains an adjacency map of all nodes\n",
        "    #distance of starting node from itself is zero\n",
        "    g[start_node] = 0\n",
        "    #start_node is root node i.e it has no parent nodes\n",
        "    #so start_node is set to its own parent node\n",
        "    parents[start_node] = start_node\n",
        "    while len(open_set) > 0:\n",
        "        n = None\n",
        "        #node with lowest f() is found\n",
        "        for v in open_set:\n",
        "            if n == None or g[v] + heuristic(v) < g[n] + heuristic(n):\n",
        "                n = v\n",
        "        if n == stop_node or Graph_nodes[n] == None:\n",
        "            pass\n",
        "        else:\n",
        "            for (m, weight) in get_neighbors(n):\n",
        "                #nodes 'm' not in first and last set are added to first\n",
        "                #n is set its parent\n",
        "                if m not in open_set and m not in closed_set:\n",
        "                    open_set.add(m)\n",
        "                    parents[m] = n\n",
        "                    g[m] = g[n] + weight\n",
        "                #for each node m,compare its distance from start i.e g(m) to the\n",
        "                #from start through n node\n",
        "                else:\n",
        "                    if g[m] > g[n] + weight:\n",
        "                        #update g(m)\n",
        "                        g[m] = g[n] + weight\n",
        "                        #change parent of m to n\n",
        "                        parents[m] = n\n",
        "                        #if m in closed set,remove and add to open\n",
        "                        if m in closed_set:\n",
        "                            closed_set.remove(m)\n",
        "                            open_set.add(m)\n",
        "        if n == None:\n",
        "            print('Path does not exist!')\n",
        "            return None\n",
        "\n",
        "        # if the current node is the stop_node\n",
        "        # then we begin reconstructin the path from it to the start_node\n",
        "        if n == stop_node:\n",
        "            path = []\n",
        "            while parents[n] != n:\n",
        "                path.append(n)\n",
        "                n = parents[n]\n",
        "            path.append(start_node)\n",
        "            path.reverse()\n",
        "            print('Path found: {}'.format(path))\n",
        "            return path\n",
        "        # remove n from the open_list, and add it to closed_list\n",
        "        # because all of his neighbors were inspected\n",
        "        open_set.remove(n)\n",
        "        closed_set.add(n)\n",
        "    print('Path does not exist!')\n",
        "    return None\n",
        "\n",
        "#define fuction to return neighbor and its distance\n",
        "#from the passed node\n",
        "def get_neighbors(v):\n",
        "    if v in Graph_nodes:\n",
        "        return Graph_nodes[v]\n",
        "    else:\n",
        "        return None\n",
        "\n",
        "def heuristic(n):\n",
        "    H_dist = {\n",
        "        'A': 11,\n",
        "        'B': 6,\n",
        "        'C': 5,\n",
        "        'D': 7,\n",
        "        'E': 3,\n",
        "        'F': 6,\n",
        "        'G': 5,\n",
        "        'H': 3,\n",
        "        'I': 1,\n",
        "        'J': 0\n",
        "    }\n",
        "    return H_dist[n]\n",
        "\n",
        "#Describe your graph here\n",
        "Graph_nodes = {\n",
        "    'A': [('B', 6), ('F', 3)],\n",
        "    'B': [('A', 6), ('C', 3), ('D', 2)],\n",
        "    'C': [('B', 3), ('D', 1), ('E', 5)],\n",
        "    'D': [('B', 2), ('C', 1), ('E', 8)],\n",
        "    'E': [('C', 5), ('D', 8), ('I', 5), ('J', 5)],\n",
        "    'F': [('A', 3), ('G', 1), ('H', 7)],\n",
        "    'G': [('F', 1), ('I', 3)],\n",
        "    'H': [('F', 7), ('I', 2)],\n",
        "    'I': [('E', 5), ('G', 3), ('H', 2), ('J', 3)],\n",
        "}\n",
        "\n",
        "aStarAlgo('A', 'J')"
      ]
    }
  ]
}