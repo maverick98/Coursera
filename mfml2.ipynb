{
  "nbformat": 4,
  "nbformat_minor": 0,
  "metadata": {
    "colab": {
      "provenance": [],
      "authorship_tag": "ABX9TyMz35zNPFNWNhLiBiZ6J5IS",
      "include_colab_link": true
    },
    "kernelspec": {
      "name": "python3",
      "display_name": "Python 3"
    },
    "language_info": {
      "name": "python"
    }
  },
  "cells": [
    {
      "cell_type": "markdown",
      "metadata": {
        "id": "view-in-github",
        "colab_type": "text"
      },
      "source": [
        "<a href=\"https://colab.research.google.com/github/maverick98/Coursera/blob/master/mfml2.ipynb\" target=\"_parent\"><img src=\"https://colab.research.google.com/assets/colab-badge.svg\" alt=\"Open In Colab\"/></a>"
      ]
    },
    {
      "cell_type": "code",
      "source": [
        "import numpy as np\n",
        "from functools import reduce"
      ],
      "metadata": {
        "id": "g9eeOve-FL6H"
      },
      "execution_count": null,
      "outputs": []
    },
    {
      "cell_type": "code",
      "source": [
        "def create_random_invertible_matrix(n=5):\n",
        "    A = np.random.randint(low=0,high=10,size=(n, n))\n",
        "    mx = np.sum(np.abs(A), axis=1)\n",
        "    np.fill_diagonal(A, mx)\n",
        "    A=A.astype(float)\n",
        "    return A\n",
        "def transpose(A):\n",
        "    m=A.shape[0]\n",
        "    n=A.shape[1]\n",
        "    A_T=np.zeros((n,m))\n",
        "    for i in range(n):\n",
        "        A_T[i]=A[:,i]\n",
        "    return A_T\n",
        "def multiply(A,B):\n",
        "    if A.shape[1] != B.shape[0]:\n",
        "       print(\"Illegal multiplication\")\n",
        "       return\n",
        "    m=A.shape[0]\n",
        "    n=A.shape[1]\n",
        "    p=B.shape[1]\n",
        "    C=np.zeros((m,p))\n",
        "    for i in range(m):\n",
        "        for k in range(p):\n",
        "            for j in range(n):\n",
        "                C[i][k]+=A[i][j]*B[j][k]\n",
        "\n",
        "    return C\n",
        "\n",
        "def create_random_symmetric_positive_definite_matrix(n):\n",
        "    A=create_random_invertible_matrix(n)\n",
        "    A_T=transpose(A)\n",
        "    return multiply(A,A_T)\n",
        "\n",
        "def create_identity_matrix(n):\n",
        "     I=np.zeros((n,n))\n",
        "     for i in range(n):\n",
        "         I[i][i]=1\n",
        "     return I\n",
        "\n",
        "\n",
        "\n",
        "#Elementary row operations\n",
        "def const_multiple(A,i,c):\n",
        "    A[i]*=c\n",
        "def exchange_rows(A,i,j):\n",
        "    A[[i,j]] = A[[j,i]]\n",
        "def add_const_row_multiple(A,i,j,c):\n",
        "    A[i]+=A[j]*c\n",
        "\n",
        "def find_pivot_row(A, curr_pivot_row, col):\n",
        "    rows = A.shape[0]\n",
        "    for row in range(curr_pivot_row, rows):\n",
        "        if A[row, col] != 0.0:\n",
        "            return row\n",
        "    return None\n",
        "\n",
        "\n",
        "\n",
        "\n",
        "def convert_pivot_row_column_values_to_zero_below(A,pivot_row,col,elementary_matrices):\n",
        "    n=A.shape[0]\n",
        "    rows = A.shape[0]\n",
        "\n",
        "    for row in range(pivot_row+1, rows):\n",
        "        const_multiplier=A[row][col]/A[pivot_row][col]\n",
        "        elementary_matrix=create_identity_matrix(n)\n",
        "        elementary_matrix[row][col]=const_multiplier\n",
        "        elementary_matrices.append(elementary_matrix)\n",
        "        #print('subtracting {}*A[{}] from A[{}]'.format(const_multiplier, pivot_row,row))\n",
        "        A[row] -=const_multiplier*A[pivot_row]\n",
        "    return elementary_matrices\n",
        "\n",
        "def calculate_row_echelon_form(A):\n",
        "    n=A.shape[0]\n",
        "\n",
        "    pivot_row_cols=[]\n",
        "    pivot_cols=[]\n",
        "    non_pivot_cols=[]\n",
        "    rows=A.shape[0]\n",
        "    cols=A.shape[1]\n",
        "    elementary_matrices=[]\n",
        "    permutation_matrices=[]\n",
        "\n",
        "\n",
        "    curr_pivot_row=0\n",
        "    for col in range(cols):\n",
        "        nonzero_row = find_pivot_row(A, curr_pivot_row, col)\n",
        "        if nonzero_row is not None:\n",
        "            if curr_pivot_row != nonzero_row:\n",
        "                exchange_rows(A,curr_pivot_row,nonzero_row)\n",
        "                perm_matrix=create_identity_matrix(n)\n",
        "                exchange_rows(perm_matrix,curr_pivot_row,nonzero_row)\n",
        "                permutation_matrices.append(perm_matrix)\n",
        "                perm_matrix_inverse=transpose(perm_matrix)\n",
        "                elementary_matrices.append(perm_matrix_inverse)\n",
        "            pivot_row_cols.append((curr_pivot_row,col))\n",
        "            convert_pivot_row_column_values_to_zero_below(A,curr_pivot_row,col,elementary_matrices)\n",
        "            curr_pivot_row+=1\n",
        "        else:\n",
        "            print('Stopping...')\n",
        "            if len(elementary_matrices) == 0:\n",
        "               elementary_matrices.append(create_identity_matrix(n))\n",
        "            return elementary_matrices,permutation_matrices\n",
        "\n",
        "\n",
        "    return elementary_matrices,permutation_matrices\n",
        "\n",
        "def multiply_all_matrices(matrices):\n",
        "    n=matrices[0].shape[0]\n",
        "    I=create_identity_matrix(n)\n",
        "    #product = reduce(lambda x, y: multiply(x,y), matrices,I)\n",
        "    product=I\n",
        "    for matrix in matrices:\n",
        "        product=multiply(product,matrix)\n",
        "    return product"
      ],
      "metadata": {
        "id": "YAlpCoUKkEfC"
      },
      "execution_count": null,
      "outputs": []
    },
    {
      "cell_type": "code",
      "source": [
        "\n",
        "import copy\n",
        "def calculate_LU_Decomposition(A_original):\n",
        "    print('Input matrix is ')\n",
        "    print(A_original)\n",
        "    print('---------')\n",
        "    A=copy.deepcopy(A_original)\n",
        "    elementary_matrices,permutation_matrices=calculate_row_echelon_form(A)\n",
        "    print('U is')\n",
        "    print(A)\n",
        "    print('-----')\n",
        "    L=multiply_all_matrices(elementary_matrices)\n",
        "    L_modified=L\n",
        "    print('------')\n",
        "    if len(permutation_matrices) >0:\n",
        "\n",
        "       for permutation_matrix in permutation_matrices:\n",
        "           L_modified=multiply(permutation_matrix,L_modified)\n",
        "\n",
        "    L=L_modified\n",
        "    print(\"L is\")\n",
        "    print(L)\n",
        "    print('------')\n",
        "\n",
        "    if len(permutation_matrices) >0:\n",
        "        print('perm matrices are {}'.format(len(permutation_matrices)))\n",
        "        P=multiply_all_matrices(permutation_matrices)\n",
        "        print(P)\n",
        "        print('**********')\n",
        "\n",
        "    A_check=multiply(L,A)\n",
        "    print('printing L*U')\n",
        "    print(A_check)\n",
        "\n",
        "\n"
      ],
      "metadata": {
        "id": "htyby7QMx421"
      },
      "execution_count": null,
      "outputs": []
    },
    {
      "cell_type": "code",
      "source": [
        "A=create_random_symmetric_positive_definite_matrix(n=3)\n",
        "A=A.astype(float)\n",
        "calculate_LU_Decomposition(A)"
      ],
      "metadata": {
        "id": "i5Xhs1uvCeAe",
        "colab": {
          "base_uri": "https://localhost:8080/"
        },
        "outputId": "f67a47d0-aeb5-486f-8042-da5e9643dce9"
      },
      "execution_count": null,
      "outputs": [
        {
          "output_type": "stream",
          "name": "stdout",
          "text": [
            "Input matrix is \n",
            "[[526. 169. 161.]\n",
            " [169. 209. 116.]\n",
            " [161. 116. 209.]]\n",
            "---------\n",
            "U is\n",
            "[[526.         169.         161.        ]\n",
            " [  0.         154.70152091  64.27186312]\n",
            " [  0.           0.         133.01832303]]\n",
            "-----\n",
            "------\n",
            "L is\n",
            "[[1.         0.         0.        ]\n",
            " [0.32129278 1.         0.        ]\n",
            " [0.30608365 0.41545722 1.        ]]\n",
            "------\n",
            "3\n",
            "3\n",
            "3\n",
            "3\n",
            "printing L*U\n",
            "[[526. 169. 161.]\n",
            " [169. 209. 116.]\n",
            " [161. 116. 209.]]\n"
          ]
        }
      ]
    },
    {
      "cell_type": "code",
      "source": [
        "A = np.array([[ 1 ,1,1 ], [1,1,3], [2,5,8]])\n",
        "A=A.astype(float)\n",
        "calculate_LU_Decomposition(A)\n"
      ],
      "metadata": {
        "id": "vU3ZMMbhq3kj",
        "colab": {
          "base_uri": "https://localhost:8080/"
        },
        "outputId": "ae2730f6-e99e-474f-efa4-de6e86f32a72"
      },
      "execution_count": null,
      "outputs": [
        {
          "output_type": "stream",
          "name": "stdout",
          "text": [
            "Input matrix is \n",
            "[[1. 1. 1.]\n",
            " [1. 1. 3.]\n",
            " [2. 5. 8.]]\n",
            "---------\n",
            "U is\n",
            "[[1. 1. 1.]\n",
            " [0. 3. 6.]\n",
            " [0. 0. 2.]]\n",
            "-----\n",
            "------\n",
            "L is\n",
            "[[1. 0. 0.]\n",
            " [2. 1. 0.]\n",
            " [1. 0. 1.]]\n",
            "------\n",
            "perm matrices are 1\n",
            "[[1. 0. 0.]\n",
            " [0. 0. 1.]\n",
            " [0. 1. 0.]]\n",
            "**********\n"
          ]
        }
      ]
    },
    {
      "cell_type": "code",
      "source": [
        "A = np.array([[ 10 ,45,0 ], [10,34,0], [10,118,0]])\n",
        "A=A.astype(float)\n",
        "calculate_LU_Decomposition(A)\n"
      ],
      "metadata": {
        "id": "CaLeAejFG3eF",
        "colab": {
          "base_uri": "https://localhost:8080/"
        },
        "outputId": "e0ce3ca7-c6de-4458-c352-634f50ab169b"
      },
      "execution_count": null,
      "outputs": [
        {
          "output_type": "stream",
          "name": "stdout",
          "text": [
            "Input matrix is \n",
            "[[ 10.  45.   0.]\n",
            " [ 10.  34.   0.]\n",
            " [ 10. 118.   0.]]\n",
            "---------\n",
            "Stopping...\n",
            "U is\n",
            "[[ 10.  45.   0.]\n",
            " [  0. -11.   0.]\n",
            " [  0.   0.   0.]]\n",
            "-----\n",
            "------\n",
            "L is\n",
            "[[ 1.          0.          0.        ]\n",
            " [ 1.          1.          0.        ]\n",
            " [ 1.         -6.63636364  1.        ]]\n",
            "------\n"
          ]
        }
      ]
    },
    {
      "cell_type": "code",
      "source": [
        "A = np.array([[ 10 ,0,45 ], [10,0,34], [10,0,118]])\n",
        "A=A.astype(float)\n",
        "calculate_LU_Decomposition(A)\n"
      ],
      "metadata": {
        "id": "FB0iiNwNIGAV",
        "colab": {
          "base_uri": "https://localhost:8080/"
        },
        "outputId": "570eb6fc-bbd1-4802-82e1-6dfaf63176d7"
      },
      "execution_count": null,
      "outputs": [
        {
          "output_type": "stream",
          "name": "stdout",
          "text": [
            "Input matrix is \n",
            "[[ 10.   0.  45.]\n",
            " [ 10.   0.  34.]\n",
            " [ 10.   0. 118.]]\n",
            "---------\n",
            "Stopping...\n",
            "U is\n",
            "[[ 10.   0.  45.]\n",
            " [  0.   0. -11.]\n",
            " [  0.   0.  73.]]\n",
            "-----\n",
            "------\n",
            "L is\n",
            "[[1. 0. 0.]\n",
            " [1. 1. 0.]\n",
            " [1. 0. 1.]]\n",
            "------\n"
          ]
        }
      ]
    },
    {
      "cell_type": "code",
      "source": [
        "A = np.array([[ 0,10,45 ], [0,10,34], [0,10,118]])\n",
        "A=A.astype(float)\n",
        "calculate_LU_Decomposition(A)"
      ],
      "metadata": {
        "id": "J1nZ6wnltX98",
        "colab": {
          "base_uri": "https://localhost:8080/"
        },
        "outputId": "cfaf1037-d933-4cc2-859d-0ffd90bf8a76"
      },
      "execution_count": null,
      "outputs": [
        {
          "output_type": "stream",
          "name": "stdout",
          "text": [
            "Input matrix is \n",
            "[[  0.  10.  45.]\n",
            " [  0.  10.  34.]\n",
            " [  0.  10. 118.]]\n",
            "---------\n",
            "Stopping...\n",
            "U is\n",
            "[[  0.  10.  45.]\n",
            " [  0.  10.  34.]\n",
            " [  0.  10. 118.]]\n",
            "-----\n",
            "------\n",
            "L is\n",
            "[[1. 0. 0.]\n",
            " [0. 1. 0.]\n",
            " [0. 0. 1.]]\n",
            "------\n"
          ]
        }
      ]
    },
    {
      "cell_type": "markdown",
      "source": [],
      "metadata": {
        "id": "OkrfVMa6q3Xl"
      }
    },
    {
      "cell_type": "code",
      "source": [
        "A=create_random_symmetric_positive_definite_matrix(n=3)\n",
        "A"
      ],
      "metadata": {
        "colab": {
          "base_uri": "https://localhost:8080/"
        },
        "id": "PxlzITikkLJk",
        "outputId": "7ad83fc6-a568-448d-eb78-cb99faf53fa0"
      },
      "execution_count": null,
      "outputs": [
        {
          "output_type": "execute_result",
          "data": {
            "text/plain": [
              "array([[194., 211., 217.],\n",
              "       [211., 277., 193.],\n",
              "       [217., 193., 469.]])"
            ]
          },
          "metadata": {},
          "execution_count": 9
        }
      ]
    },
    {
      "cell_type": "code",
      "source": [
        "calculate_LU_Decomposition(A)"
      ],
      "metadata": {
        "colab": {
          "base_uri": "https://localhost:8080/"
        },
        "id": "BHdpzR1111d8",
        "outputId": "39de2193-8c07-48ca-96d1-ac22dbb8f616"
      },
      "execution_count": null,
      "outputs": [
        {
          "output_type": "stream",
          "name": "stdout",
          "text": [
            "Input matrix is \n",
            "[[194. 211. 217.]\n",
            " [211. 277. 193.]\n",
            " [217. 193. 469.]]\n",
            "---------\n",
            "U is\n",
            "[[ 1.94000000e+02  2.11000000e+02  2.17000000e+02]\n",
            " [ 2.84217094e-14  4.75103093e+01 -4.30154639e+01]\n",
            " [ 2.57327943e-14  0.00000000e+00  1.87327330e+02]]\n",
            "-----\n",
            "------\n",
            "L is\n",
            "[[ 1.          0.          0.        ]\n",
            " [ 1.08762887  1.          0.        ]\n",
            " [ 1.1185567  -0.90539221  1.        ]]\n",
            "------\n"
          ]
        }
      ]
    },
    {
      "cell_type": "code",
      "source": [],
      "metadata": {
        "id": "W8-fr-qH53UR"
      },
      "execution_count": null,
      "outputs": []
    },
    {
      "cell_type": "code",
      "source": [
        "def cholesky_decomposition(A):\n",
        "    n=A.shape[0]\n",
        "    L=np.zeros((n,n)).astype(float)\n",
        "    for i in range(n):\n",
        "        for j in range(i+1):\n",
        "            if i==j:\n",
        "               l_sum=0\n",
        "               for k in range(j):\n",
        "                    l_sum+=L[j][k]*L[j][k]\n",
        "               L[i][j]=np.sqrt(A[i][j]-l_sum)\n",
        "            else:\n",
        "                l_sum=0\n",
        "                for k in range(j):\n",
        "                    l_sum+=L[i][k]*L[j][k]\n",
        "                L[i][j]= (A[i][j]-l_sum)/L[j][j]\n",
        "    return L,transpose(L)\n"
      ],
      "metadata": {
        "id": "0391sHqx4dAk"
      },
      "execution_count": null,
      "outputs": []
    },
    {
      "cell_type": "code",
      "source": [
        "A=create_random_symmetric_positive_definite_matrix(n=3)\n",
        "A=A.astype(float)\n",
        "print('Input matrix is ')\n",
        "print(A)\n",
        "#calculate_LU_Decomposition(A)\n",
        "L,L_T=cholesky_decomposition(A)\n",
        "L,L_T"
      ],
      "metadata": {
        "colab": {
          "base_uri": "https://localhost:8080/"
        },
        "id": "kdlySOP8Cj8u",
        "outputId": "20fb2a7d-c501-4935-8a8f-599584e76fce"
      },
      "execution_count": null,
      "outputs": [
        {
          "output_type": "stream",
          "name": "stdout",
          "text": [
            "Input matrix is \n",
            "[[396. 312. 336.]\n",
            " [312. 528. 416.]\n",
            " [336. 416. 704.]]\n"
          ]
        },
        {
          "output_type": "execute_result",
          "data": {
            "text/plain": [
              "(array([[19.89974874,  0.        ,  0.        ],\n",
              "        [15.67858992, 16.79826831,  0.        ],\n",
              "        [16.8846353 ,  9.00525724, 18.37972886]]),\n",
              " array([[19.89974874, 15.67858992, 16.8846353 ],\n",
              "        [ 0.        , 16.79826831,  9.00525724],\n",
              "        [ 0.        ,  0.        , 18.37972886]]))"
            ]
          },
          "metadata": {},
          "execution_count": 29
        }
      ]
    },
    {
      "cell_type": "code",
      "source": [
        "product=multiply_all_matrices([L,L_T])\n",
        "print('L*L_T is')\n",
        "print(product)\n",
        "print('Original matrix was ')\n",
        "print(A)"
      ],
      "metadata": {
        "colab": {
          "base_uri": "https://localhost:8080/"
        },
        "id": "20vnbRTZOFDR",
        "outputId": "171f3342-bbf0-41a4-cd2d-614b3ba2be83"
      },
      "execution_count": null,
      "outputs": [
        {
          "output_type": "stream",
          "name": "stdout",
          "text": [
            "L*L_T is\n",
            "[[396. 312. 336.]\n",
            " [312. 528. 416.]\n",
            " [336. 416. 704.]]\n",
            "Original matrix was \n",
            "[[396. 312. 336.]\n",
            " [312. 528. 416.]\n",
            " [336. 416. 704.]]\n"
          ]
        }
      ]
    },
    {
      "cell_type": "code",
      "source": [
        "class Vector:\n",
        "    def __init__(self,values):\n",
        "        self.values=values\n",
        "        self.dim=len(self.values)\n",
        "\n",
        "    def norm(self):\n",
        "        return np.sqrt(np.sum(self.values**2))\n",
        "\n",
        "    def dot_product(self,that_vector):\n",
        "        return np.sum(self.values*that_vector.values)\n",
        "\n",
        "    def angle(self,that_vector):\n",
        "        cos_theta=self.dot_product(that_vector)/(that_vector.norm()*self.norm())\n",
        "        return 180*np.arccos(cos_theta)/np.pi\n",
        "\n",
        "    def const_multiplier(self,c):\n",
        "\n",
        "        copy_values=self.values*c\n",
        "        my_copy=Vector(copy_values)\n",
        "        return my_copy\n",
        "\n",
        "    def project_to(self,that_vector):\n",
        "        multiplier=self.dot_product(that_vector)/(that_vector.norm()**2)\n",
        "        return that_vector.const_multiplier(multiplier)\n",
        "\n",
        "    def subtract(self,that_vector):\n",
        "        return Vector(np.subtract(self.values,that_vector.values))\n",
        "\n",
        "    def get_unit_vector(self):\n",
        "        return self.const_multiplier(1.0/self.norm())\n",
        "    def __str__(self):\n",
        "        print(','.join(str(self.values)))\n",
        "\n",
        "a=Vector(np.array([3,4]))\n",
        "b=Vector(np.array([-4,3]))\n",
        "print(a.angle(b))\n",
        "c=a.subtract(b)\n",
        "#a.values,b.values,c.values\n",
        "e=a.get_unit_vector()\n",
        "e.values\n"
      ],
      "metadata": {
        "colab": {
          "base_uri": "https://localhost:8080/"
        },
        "id": "9c4YsRalTWGa",
        "outputId": "55670937-ed58-467d-e62c-750652f71472"
      },
      "execution_count": null,
      "outputs": [
        {
          "output_type": "stream",
          "name": "stdout",
          "text": [
            "90.0\n"
          ]
        },
        {
          "output_type": "execute_result",
          "data": {
            "text/plain": [
              "array([0.6, 0.8])"
            ]
          },
          "metadata": {},
          "execution_count": 14
        }
      ]
    },
    {
      "cell_type": "code",
      "source": [],
      "metadata": {
        "id": "59VxL7Okg2MF"
      },
      "execution_count": null,
      "outputs": []
    },
    {
      "cell_type": "code",
      "source": [
        "def calculate_QR_decomposition(A):\n",
        "    m=A.shape[0]\n",
        "    n=A.shape[1]\n",
        "    Q=np.zeros((m,n))\n",
        "    orthonormal_vectors=[]\n",
        "    def take_out(q_v):\n",
        "        if len(orthonormal_vectors) ==0:\n",
        "            orthonormal_vectors.append(q_v.get_unit_vector())\n",
        "            return\n",
        "\n",
        "        for i in range(len(orthonormal_vectors)):\n",
        "            that_vector=orthonormal_vectors[i]\n",
        "            q_v=q_v.subtract(q_v.project_to(that_vector))\n",
        "        orthonormal_vectors.append(q_v.get_unit_vector())\n",
        "\n",
        "\n",
        "    for i in range(n):\n",
        "        q=A[:,i]\n",
        "        q_v=Vector(q)\n",
        "        take_out(q_v)\n",
        "        #print(orthonormal_vectors[i].values)\n",
        "        Q[:,i]=orthonormal_vectors[i].values\n",
        "    Q_T=transpose(Q)\n",
        "\n",
        "    R=multiply(transpose(Q),A)\n",
        "    return Q,R\n",
        "A = np.array([[ 1 ,-6 ], [4,-9],[7,6]])\n",
        "print(A)\n",
        "calculate_QR_decomposition(A)\n",
        "\n"
      ],
      "metadata": {
        "colab": {
          "base_uri": "https://localhost:8080/"
        },
        "id": "C175u-SSfGlW",
        "outputId": "5b34068a-caff-499a-a7ae-e070d1c40a31"
      },
      "execution_count": null,
      "outputs": [
        {
          "output_type": "stream",
          "name": "stdout",
          "text": [
            "[[ 1 -6]\n",
            " [ 4 -9]\n",
            " [ 7  6]]\n"
          ]
        },
        {
          "output_type": "execute_result",
          "data": {
            "text/plain": [
              "(array([[ 0.12309149, -0.48507125],\n",
              "        [ 0.49236596, -0.72760688],\n",
              "        [ 0.86164044,  0.48507125]]),\n",
              " array([[ 8.12403840e+00, -8.88178420e-16],\n",
              "        [ 8.88178420e-16,  1.23693169e+01]]))"
            ]
          },
          "metadata": {},
          "execution_count": 15
        }
      ]
    },
    {
      "cell_type": "code",
      "source": [
        "A=create_random_symmetric_positive_definite_matrix(n=3)\n"
      ],
      "metadata": {
        "id": "SabYjLrshDeq"
      },
      "execution_count": null,
      "outputs": []
    },
    {
      "cell_type": "code",
      "source": [
        "print(A)"
      ],
      "metadata": {
        "colab": {
          "base_uri": "https://localhost:8080/"
        },
        "id": "El3_Ntg9hHqz",
        "outputId": "eae581f8-305c-4a00-e30c-232a0d9ddc00"
      },
      "execution_count": null,
      "outputs": [
        {
          "output_type": "stream",
          "name": "stdout",
          "text": [
            "[[ 54.  43.  74.]\n",
            " [ 43. 262.  75.]\n",
            " [ 74.  75. 202.]]\n"
          ]
        }
      ]
    },
    {
      "cell_type": "code",
      "source": [
        "calculate_QR_decomposition(A)"
      ],
      "metadata": {
        "colab": {
          "base_uri": "https://localhost:8080/"
        },
        "id": "fmpgZ-_2hI2r",
        "outputId": "8120f511-3c53-419f-f31d-36f37aee818f"
      },
      "execution_count": null,
      "outputs": [
        {
          "output_type": "execute_result",
          "data": {
            "text/plain": [
              "(array([[ 0.5336083 , -0.28829444, -0.79507767],\n",
              "        [ 0.42491031,  0.90422791, -0.04269798],\n",
              "        [ 0.731241  , -0.31505271,  0.6050028 ]]),\n",
              " array([[ 1.01197826e+02,  1.89114734e+02,  2.19065971e+02],\n",
              "        [ 7.10542736e-15,  2.00882098e+02, -1.71573421e+01],\n",
              "        [-2.84217094e-14, -3.55271368e-14,  6.01724695e+01]]))"
            ]
          },
          "metadata": {},
          "execution_count": 18
        }
      ]
    },
    {
      "cell_type": "code",
      "source": [
        "B=create_random_symmetric_positive_definite_matrix(n=5)\n",
        "print(B)\n",
        "U,_,_=np.linalg.svd(B)\n",
        "a=Vector(U[:,0])\n",
        "b=Vector(U[:,4])\n",
        "C=U[:,[0,1,2,3]]\n",
        "print(\"random 5 x 4 matrix having all its columns as linearly independent is as follows\")\n",
        "print(C)\n",
        "print(C.shape)\n",
        "Q,R=calculate_QR_decomposition(C)\n",
        "print(\"Q is\")\n",
        "print(Q)\n",
        "print(\"R is\")\n",
        "print(R)\n",
        "print(\"Q*R gives back original matrix C\")\n",
        "print(multiply(Q,R))\n",
        "_,Sigma,_=np.linalg.svd(C)\n",
        "print(\"Sigma of U is \")\n",
        "print(Sigma)\n"
      ],
      "metadata": {
        "colab": {
          "base_uri": "https://localhost:8080/"
        },
        "id": "-sGZVU72PlJd",
        "outputId": "766491f7-a35e-40a4-85b6-52b1a71c47d0"
      },
      "execution_count": null,
      "outputs": [
        {
          "output_type": "stream",
          "name": "stdout",
          "text": [
            "[[ 768.  402.  286.  402.  102.]\n",
            " [ 402. 1091.  345.  576.  218.]\n",
            " [ 286.  345.  514.  191.  152.]\n",
            " [ 402.  576.  191.  847.  262.]\n",
            " [ 102.  218.  152.  262.  232.]]\n",
            "random 5 x 4 matrix having all its columns as linearly independent is as follows\n",
            "[[-0.4365991   0.77907288  0.17541481 -0.36651601]\n",
            " [-0.63316556 -0.46909644 -0.4432114  -0.42299627]\n",
            " [-0.30260792  0.3287435  -0.55388417  0.62179756]\n",
            " [-0.52686445 -0.22743924  0.67904573  0.27704879]\n",
            " [-0.19830504 -0.11486111  0.07001802  0.47260123]]\n",
            "(5, 4)\n",
            "Q is\n",
            "[[-0.4365991   0.77907288  0.17541481 -0.36651601]\n",
            " [-0.63316556 -0.46909644 -0.4432114  -0.42299627]\n",
            " [-0.30260792  0.3287435  -0.55388417  0.62179756]\n",
            " [-0.52686445 -0.22743924  0.67904573  0.27704879]\n",
            " [-0.19830504 -0.11486111  0.07001802  0.47260123]]\n",
            "R is\n",
            "[[ 1.00000000e+00 -2.35922393e-16 -9.02056208e-17  2.77555756e-17]\n",
            " [ 1.04083409e-17  1.00000000e+00 -1.02348685e-16  0.00000000e+00]\n",
            " [-1.49186219e-16 -1.21430643e-17  1.00000000e+00  1.59594560e-16]\n",
            " [ 9.71445147e-17 -2.08166817e-17 -2.77555756e-17  1.00000000e+00]]\n",
            "Q*R gives back original matrix C\n",
            "[[-0.4365991   0.77907288  0.17541481 -0.36651601]\n",
            " [-0.63316556 -0.46909644 -0.4432114  -0.42299627]\n",
            " [-0.30260792  0.3287435  -0.55388417  0.62179756]\n",
            " [-0.52686445 -0.22743924  0.67904573  0.27704879]\n",
            " [-0.19830504 -0.11486111  0.07001802  0.47260123]]\n",
            "Sigma of U is \n",
            "[1. 1. 1. 1.]\n"
          ]
        }
      ]
    },
    {
      "cell_type": "code",
      "source": [],
      "metadata": {
        "id": "HhjoiFlhPxIQ"
      },
      "execution_count": null,
      "outputs": []
    }
  ]
}