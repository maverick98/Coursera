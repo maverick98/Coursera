{
  "nbformat": 4,
  "nbformat_minor": 0,
  "metadata": {
    "colab": {
      "provenance": [],
      "authorship_tag": "ABX9TyPXZn/kCVqn6N4ygTt4yNKS",
      "include_colab_link": true
    },
    "kernelspec": {
      "name": "python3",
      "display_name": "Python 3"
    },
    "language_info": {
      "name": "python"
    }
  },
  "cells": [
    {
      "cell_type": "markdown",
      "metadata": {
        "id": "view-in-github",
        "colab_type": "text"
      },
      "source": [
        "<a href=\"https://colab.research.google.com/github/maverick98/Coursera/blob/master/mfml2.ipynb\" target=\"_parent\"><img src=\"https://colab.research.google.com/assets/colab-badge.svg\" alt=\"Open In Colab\"/></a>"
      ]
    },
    {
      "cell_type": "code",
      "source": [
        "import numpy as np\n",
        "from functools import reduce"
      ],
      "metadata": {
        "id": "g9eeOve-FL6H"
      },
      "execution_count": 1,
      "outputs": []
    },
    {
      "cell_type": "code",
      "source": [
        "def create_random_invertible_matrix(n=5):\n",
        "    A = np.random.randint(low=0,high=10,size=(n, n))\n",
        "    mx = np.sum(np.abs(A), axis=1)\n",
        "    np.fill_diagonal(A, mx)\n",
        "    A=A.astype(float)\n",
        "    return A\n",
        "def transpose(A):\n",
        "    m=A.shape[0]\n",
        "    n=A.shape[1]\n",
        "    A_T=np.zeros((n,m))\n",
        "    for i in range(n):\n",
        "        A_T[i]=A[:,i]\n",
        "    return A_T\n",
        "def multiply(A,B):\n",
        "    if A.shape[1] != B.shape[0]:\n",
        "       print(\"Illegal multiplication\")\n",
        "       return\n",
        "    m=A.shape[0]\n",
        "    n=A.shape[1]\n",
        "    p=B.shape[1]\n",
        "    C=np.zeros((m,p))\n",
        "    for i in range(m):\n",
        "        for k in range(p):\n",
        "            for j in range(n):\n",
        "                C[i][k]+=A[i][j]*B[j][k]\n",
        "\n",
        "    return C\n",
        "\n",
        "def create_random_symmetric_positive_definite_matrix(n):\n",
        "    A=create_random_invertible_matrix(n)\n",
        "    A_T=transpose(A)\n",
        "    return multiply(A,A_T)\n",
        "\n",
        "def create_identity_matrix(n):\n",
        "     I=np.zeros((n,n))\n",
        "     for i in range(n):\n",
        "         I[i][i]=1\n",
        "     return I\n",
        "\n",
        "\n",
        "\n",
        "#Elementary row operations\n",
        "def const_multiple(A,i,c):\n",
        "    A[i]*=c\n",
        "def exchange_rows(A,i,j):\n",
        "    A[[i,j]] = A[[j,i]]\n",
        "def add_const_row_multiple(A,i,j,c):\n",
        "    A[i]+=A[j]*c\n",
        "\n",
        "def find_pivot_row(A, curr_pivot_row, col):\n",
        "    rows = A.shape[0]\n",
        "    for row in range(curr_pivot_row, rows):\n",
        "        if A[row, col] != 0.0:\n",
        "            return row\n",
        "    return None\n",
        "\n",
        "\n",
        "\n",
        "\n",
        "def convert_pivot_row_column_values_to_zero_below(A,pivot_row,col,elementary_matrices):\n",
        "    n=A.shape[0]\n",
        "    rows = A.shape[0]\n",
        "\n",
        "    for row in range(pivot_row+1, rows):\n",
        "        const_multiplier=A[row][col]/A[pivot_row][col]\n",
        "        elementary_matrix=create_identity_matrix(n)\n",
        "        elementary_matrix[row][col]=const_multiplier\n",
        "        elementary_matrices.append(elementary_matrix)\n",
        "        #print('subtracting {}*A[{}] from A[{}]'.format(const_multiplier, pivot_row,row))\n",
        "        A[row] -=const_multiplier*A[pivot_row]\n",
        "    return elementary_matrices\n",
        "\n",
        "def calculate_row_echelon_form(A):\n",
        "    n=A.shape[0]\n",
        "\n",
        "    pivot_row_cols=[]\n",
        "    pivot_cols=[]\n",
        "    non_pivot_cols=[]\n",
        "    rows=A.shape[0]\n",
        "    cols=A.shape[1]\n",
        "    elementary_matrices=[]\n",
        "    permutation_matrices=[]\n",
        "\n",
        "\n",
        "    curr_pivot_row=0\n",
        "    for col in range(cols):\n",
        "        nonzero_row = find_pivot_row(A, curr_pivot_row, col)\n",
        "        if nonzero_row is not None:\n",
        "            if curr_pivot_row != nonzero_row:\n",
        "                exchange_rows(A,curr_pivot_row,nonzero_row)\n",
        "                perm_matrix=create_identity_matrix(n)\n",
        "                exchange_rows(perm_matrix,curr_pivot_row,nonzero_row)\n",
        "                permutation_matrices.append(perm_matrix)\n",
        "                perm_matrix_inverse=transpose(perm_matrix)\n",
        "                elementary_matrices.append(perm_matrix_inverse)\n",
        "            pivot_row_cols.append((curr_pivot_row,col))\n",
        "            convert_pivot_row_column_values_to_zero_below(A,curr_pivot_row,col,elementary_matrices)\n",
        "            curr_pivot_row+=1\n",
        "        else:\n",
        "            print('Stopping...')\n",
        "            if len(elementary_matrices) == 0:\n",
        "               elementary_matrices.append(create_identity_matrix(n))\n",
        "            return elementary_matrices,permutation_matrices\n",
        "\n",
        "\n",
        "    return elementary_matrices,permutation_matrices\n",
        "\n",
        "def multiply_all_matrices(matrices):\n",
        "    n=matrices[0].shape[0]\n",
        "    I=create_identity_matrix(n)\n",
        "    #product = reduce(lambda x, y: multiply(x,y), matrices,I)\n",
        "    product=I\n",
        "    for matrix in matrices:\n",
        "        product=multiply(product,matrix)\n",
        "    return product"
      ],
      "metadata": {
        "id": "YAlpCoUKkEfC"
      },
      "execution_count": 2,
      "outputs": []
    },
    {
      "cell_type": "code",
      "source": [
        "\n",
        "import copy\n",
        "def calculate_LU_Decomposition(A_original):\n",
        "    print('Input matrix is ')\n",
        "    print(A_original)\n",
        "    print('---------')\n",
        "    A=copy.deepcopy(A_original)\n",
        "    elementary_matrices,permutation_matrices=calculate_row_echelon_form(A)\n",
        "    print('U is')\n",
        "    print(A)\n",
        "    print('-----')\n",
        "    L=multiply_all_matrices(elementary_matrices)\n",
        "    L_modified=L\n",
        "    print('------')\n",
        "    if len(permutation_matrices) >0:\n",
        "\n",
        "       for permutation_matrix in permutation_matrices:\n",
        "           L_modified=multiply(permutation_matrix,L_modified)\n",
        "\n",
        "    L=L_modified\n",
        "    print(\"L is\")\n",
        "    print(L)\n",
        "    print('------')\n",
        "\n",
        "    if len(permutation_matrices) >0:\n",
        "        print('perm matrices are {}'.format(len(permutation_matrices)))\n",
        "        P=multiply_all_matrices(permutation_matrices)\n",
        "        print(P)\n",
        "        print('**********')\n",
        "\n",
        "\n"
      ],
      "metadata": {
        "id": "htyby7QMx421"
      },
      "execution_count": 29,
      "outputs": []
    },
    {
      "cell_type": "code",
      "source": [],
      "metadata": {
        "id": "i5Xhs1uvCeAe"
      },
      "execution_count": 3,
      "outputs": []
    },
    {
      "cell_type": "code",
      "source": [
        "A = np.array([[ 1 ,1,1 ], [1,1,3], [2,5,8]])\n",
        "A=A.astype(float)\n",
        "calculate_LU_Decomposition(A)\n"
      ],
      "metadata": {
        "id": "vU3ZMMbhq3kj"
      },
      "execution_count": null,
      "outputs": []
    },
    {
      "cell_type": "code",
      "source": [
        "A = np.array([[ 10 ,45,0 ], [10,34,0], [10,118,0]])\n",
        "A=A.astype(float)\n",
        "calculate_LU_Decomposition(A)\n"
      ],
      "metadata": {
        "id": "CaLeAejFG3eF"
      },
      "execution_count": null,
      "outputs": []
    },
    {
      "cell_type": "code",
      "source": [
        "A = np.array([[ 10 ,0,45 ], [10,0,34], [10,0,118]])\n",
        "A=A.astype(float)\n",
        "calculate_LU_Decomposition(A)\n"
      ],
      "metadata": {
        "id": "FB0iiNwNIGAV"
      },
      "execution_count": null,
      "outputs": []
    },
    {
      "cell_type": "code",
      "source": [
        "A = np.array([[ 0,10,45 ], [0,10,34], [0,10,118]])\n",
        "A=A.astype(float)\n",
        "calculate_LU_Decomposition(A)"
      ],
      "metadata": {
        "id": "J1nZ6wnltX98"
      },
      "execution_count": null,
      "outputs": []
    },
    {
      "cell_type": "markdown",
      "source": [],
      "metadata": {
        "id": "OkrfVMa6q3Xl"
      }
    },
    {
      "cell_type": "code",
      "source": [
        "A=create_random_symmetric_positive_definite_matrix(n=3)\n",
        "A"
      ],
      "metadata": {
        "colab": {
          "base_uri": "https://localhost:8080/"
        },
        "id": "PxlzITikkLJk",
        "outputId": "362994d7-280c-4e73-ee0a-448ef5bb0ecd"
      },
      "execution_count": 30,
      "outputs": [
        {
          "output_type": "execute_result",
          "data": {
            "text/plain": [
              "array([[185., 166.,  67.],\n",
              "       [166., 377., 191.],\n",
              "       [ 67., 191., 131.]])"
            ]
          },
          "metadata": {},
          "execution_count": 30
        }
      ]
    },
    {
      "cell_type": "code",
      "source": [
        "calculate_LU_Decomposition(A)"
      ],
      "metadata": {
        "colab": {
          "base_uri": "https://localhost:8080/"
        },
        "id": "BHdpzR1111d8",
        "outputId": "9fb2cdf8-ab06-4ffe-9fac-f1642ed3aadd"
      },
      "execution_count": 31,
      "outputs": [
        {
          "output_type": "stream",
          "name": "stdout",
          "text": [
            "Input matrix is \n",
            "[[185. 166.  67.]\n",
            " [166. 377. 191.]\n",
            " [ 67. 191. 131.]]\n",
            "---------\n",
            "U is\n",
            "[[185.         166.          67.        ]\n",
            " [  0.         228.04864865 130.88108108]\n",
            " [  0.           0.          31.62020906]]\n",
            "-----\n",
            "------\n",
            "L is\n",
            "[[1.         0.         0.        ]\n",
            " [0.8972973  1.         0.        ]\n",
            " [0.36216216 0.57391737 1.        ]]\n",
            "------\n"
          ]
        }
      ]
    },
    {
      "cell_type": "code",
      "source": [],
      "metadata": {
        "id": "W8-fr-qH53UR"
      },
      "execution_count": 9,
      "outputs": []
    },
    {
      "cell_type": "code",
      "source": [
        "def cholesky_decomposition(A):\n",
        "    n=A.shape[0]\n",
        "    L=np.zeros((n,n)).astype(float)\n",
        "    for i in range(n):\n",
        "        for j in range(i+1):\n",
        "            if i==j:\n",
        "               l_sum=0\n",
        "               for k in range(j):\n",
        "                    l_sum+=L[j][k]*L[j][k]\n",
        "               L[i][j]=np.sqrt(A[i][j]-l_sum)\n",
        "            else:\n",
        "                l_sum=0\n",
        "                for k in range(j):\n",
        "                    l_sum+=L[i][k]*L[j][k]\n",
        "                L[i][j]= (A[i][j]-l_sum)/L[j][j]\n",
        "    return L,transpose(L)\n"
      ],
      "metadata": {
        "id": "0391sHqx4dAk"
      },
      "execution_count": 32,
      "outputs": []
    },
    {
      "cell_type": "code",
      "source": [
        "#A = np.array([[ 4,12,-16 ], [12,37,-43], [-16,-43,98]])\n",
        "#A=A.astype(float)\n",
        "calculate_LU_Decomposition(A)\n",
        "L,L_T=cholesky_decomposition(A)\n",
        "L,L_T"
      ],
      "metadata": {
        "colab": {
          "base_uri": "https://localhost:8080/"
        },
        "id": "kdlySOP8Cj8u",
        "outputId": "631bb522-55a5-4cb3-e4d3-797fa8d311a3"
      },
      "execution_count": 33,
      "outputs": [
        {
          "output_type": "stream",
          "name": "stdout",
          "text": [
            "Input matrix is \n",
            "[[185. 166.  67.]\n",
            " [166. 377. 191.]\n",
            " [ 67. 191. 131.]]\n",
            "---------\n",
            "U is\n",
            "[[185.         166.          67.        ]\n",
            " [  0.         228.04864865 130.88108108]\n",
            " [  0.           0.          31.62020906]]\n",
            "-----\n",
            "------\n",
            "L is\n",
            "[[1.         0.         0.        ]\n",
            " [0.8972973  1.         0.        ]\n",
            " [0.36216216 0.57391737 1.        ]]\n",
            "------\n"
          ]
        },
        {
          "output_type": "execute_result",
          "data": {
            "text/plain": [
              "(array([[13.60147051,  0.        ,  0.        ],\n",
              "        [12.20456273, 15.1012797 ,  0.        ],\n",
              "        [ 4.92593797,  8.66688676,  5.62318496]]),\n",
              " array([[13.60147051, 12.20456273,  4.92593797],\n",
              "        [ 0.        , 15.1012797 ,  8.66688676],\n",
              "        [ 0.        ,  0.        ,  5.62318496]]))"
            ]
          },
          "metadata": {},
          "execution_count": 33
        }
      ]
    },
    {
      "cell_type": "code",
      "source": [
        "product=multiply_all_matrices([L,L_T])\n",
        "print('L*L_T is')\n",
        "print(product)\n",
        "print('Original matrix was ')\n",
        "print(A)"
      ],
      "metadata": {
        "colab": {
          "base_uri": "https://localhost:8080/"
        },
        "id": "20vnbRTZOFDR",
        "outputId": "556130a8-9ed5-432a-de18-a00300dca3fa"
      },
      "execution_count": 36,
      "outputs": [
        {
          "output_type": "stream",
          "name": "stdout",
          "text": [
            "L*L_T is\n",
            "[[185. 166.  67.]\n",
            " [166. 377. 191.]\n",
            " [ 67. 191. 131.]]\n",
            "Original matrix was \n",
            "[[185. 166.  67.]\n",
            " [166. 377. 191.]\n",
            " [ 67. 191. 131.]]\n"
          ]
        }
      ]
    },
    {
      "cell_type": "code",
      "source": [
        "class Vector:\n",
        "    def __init__(self,values):\n",
        "        self.values=values\n",
        "        self.dim=len(self.values)\n",
        "\n",
        "    def norm(self):\n",
        "        return np.sqrt(np.sum(self.values**2))\n",
        "\n",
        "    def dot_product(self,that_vector):\n",
        "        return np.sum(self.values*that_vector.values)\n",
        "\n",
        "    def angle(self,that_vector):\n",
        "        cos_theta=self.dot_product(that_vector)/(that_vector.norm()*self.norm())\n",
        "        return 180*np.arccos(cos_theta)/np.pi\n",
        "\n",
        "    def const_multiplier(self,c):\n",
        "\n",
        "        copy_values=self.values*c\n",
        "        my_copy=Vector(copy_values)\n",
        "        return my_copy\n",
        "\n",
        "    def project_to(self,that_vector):\n",
        "        multiplier=self.dot_product(that_vector)/(that_vector.norm()**2)\n",
        "        return that_vector.const_multiplier(multiplier)\n",
        "\n",
        "    def subtract(self,that_vector):\n",
        "        return Vector(np.subtract(self.values,that_vector.values))\n",
        "\n",
        "    def get_unit_vector(self):\n",
        "        return self.const_multiplier(1.0/self.norm())\n",
        "    def __str__(self):\n",
        "        print(','.join(str(self.values)))\n",
        "\n",
        "a=Vector(np.array([3,4]))\n",
        "b=Vector(np.array([-4,3]))\n",
        "print(a.angle(b))\n",
        "c=a.subtract(b)\n",
        "#a.values,b.values,c.values\n",
        "e=a.get_unit_vector()\n",
        "e.values\n"
      ],
      "metadata": {
        "colab": {
          "base_uri": "https://localhost:8080/"
        },
        "id": "9c4YsRalTWGa",
        "outputId": "1a2e4bb1-1bb1-47b4-ba53-cb21ba06bf9e"
      },
      "execution_count": 12,
      "outputs": [
        {
          "output_type": "stream",
          "name": "stdout",
          "text": [
            "90.0\n"
          ]
        },
        {
          "output_type": "execute_result",
          "data": {
            "text/plain": [
              "array([0.6, 0.8])"
            ]
          },
          "metadata": {},
          "execution_count": 12
        }
      ]
    },
    {
      "cell_type": "code",
      "source": [],
      "metadata": {
        "id": "59VxL7Okg2MF"
      },
      "execution_count": 12,
      "outputs": []
    },
    {
      "cell_type": "code",
      "source": [
        "def calculate_QR_decomposition(A):\n",
        "    m=A.shape[0]\n",
        "    n=A.shape[1]\n",
        "    Q=np.zeros((m,n))\n",
        "    orthonormal_vectors=[]\n",
        "    def take_out(q_v):\n",
        "        if len(orthonormal_vectors) ==0:\n",
        "            orthonormal_vectors.append(q_v.get_unit_vector())\n",
        "            return\n",
        "\n",
        "        for i in range(len(orthonormal_vectors)):\n",
        "            that_vector=orthonormal_vectors[i]\n",
        "            q_v=q_v.subtract(q_v.project_to(that_vector))\n",
        "        orthonormal_vectors.append(q_v.get_unit_vector())\n",
        "\n",
        "\n",
        "    for i in range(n):\n",
        "        q=A[:,i]\n",
        "        q_v=Vector(q)\n",
        "        take_out(q_v)\n",
        "        #print(orthonormal_vectors[i].values)\n",
        "        Q[:,i]=orthonormal_vectors[i].values\n",
        "    Q_T=transpose(Q)\n",
        "\n",
        "    R=multiply(transpose(Q),A)\n",
        "    return Q,R\n",
        "A = np.array([[ 1 ,-6 ], [4,-9],[7,6]])\n",
        "print(A)\n",
        "calculate_QR_decomposition(A)\n",
        "\n"
      ],
      "metadata": {
        "colab": {
          "base_uri": "https://localhost:8080/"
        },
        "id": "C175u-SSfGlW",
        "outputId": "9211a6b7-6252-4c1d-f736-7d184f2905e8"
      },
      "execution_count": 61,
      "outputs": [
        {
          "output_type": "stream",
          "name": "stdout",
          "text": [
            "[[ 1 -6]\n",
            " [ 4 -9]\n",
            " [ 7  6]]\n"
          ]
        },
        {
          "output_type": "execute_result",
          "data": {
            "text/plain": [
              "(array([[ 0.12309149, -0.48507125],\n",
              "        [ 0.49236596, -0.72760688],\n",
              "        [ 0.86164044,  0.48507125]]),\n",
              " array([[ 8.12403840e+00, -8.88178420e-16],\n",
              "        [ 8.88178420e-16,  1.23693169e+01]]))"
            ]
          },
          "metadata": {},
          "execution_count": 61
        }
      ]
    },
    {
      "cell_type": "code",
      "source": [
        "A=create_random_symmetric_positive_definite_matrix(n=3)\n"
      ],
      "metadata": {
        "id": "SabYjLrshDeq"
      },
      "execution_count": 14,
      "outputs": []
    },
    {
      "cell_type": "code",
      "source": [
        "print(A)"
      ],
      "metadata": {
        "colab": {
          "base_uri": "https://localhost:8080/"
        },
        "id": "El3_Ntg9hHqz",
        "outputId": "d2ebf4a5-0c76-40ee-ad4e-e9a79b710b3e"
      },
      "execution_count": 15,
      "outputs": [
        {
          "output_type": "stream",
          "name": "stdout",
          "text": [
            "[[ 96. 108. 132.]\n",
            " [108. 210. 180.]\n",
            " [132. 180. 330.]]\n"
          ]
        }
      ]
    },
    {
      "cell_type": "code",
      "source": [
        "calculate_QR_decomposition(A)"
      ],
      "metadata": {
        "colab": {
          "base_uri": "https://localhost:8080/"
        },
        "id": "fmpgZ-_2hI2r",
        "outputId": "5712ffb2-291c-4a3d-d2ce-ec2fad351fc7"
      },
      "execution_count": 16,
      "outputs": [
        {
          "output_type": "execute_result",
          "data": {
            "text/plain": [
              "(array([[ 0.49051147, -0.5495378 , -0.67631849],\n",
              "        [ 0.55182541,  0.79654134, -0.24700328],\n",
              "        [ 0.67445327, -0.25205179,  0.69396158]]),\n",
              " array([[ 1.95714077e+02,  2.90260163e+02,  3.86645667e+02],\n",
              "        [ 8.52651283e-14,  6.25542772e+01, -1.23386381e+01],\n",
              "        [-4.26325641e-14, -7.10542736e-14,  9.52726919e+01]]))"
            ]
          },
          "metadata": {},
          "execution_count": 16
        }
      ]
    },
    {
      "cell_type": "code",
      "source": [
        "B=create_random_symmetric_positive_definite_matrix(n=5)\n",
        "print(B)\n",
        "U,_,_=np.linalg.svd(B)\n",
        "a=Vector(U[:,0])\n",
        "b=Vector(U[:,4])\n",
        "C=U[:,[0,1,2,3]]\n",
        "print(\"random 5 x 4 matrix having all its columns as linearly independent is as follows\")\n",
        "print(C)\n",
        "print(C.shape)\n",
        "Q,R=calculate_QR_decomposition(C)\n",
        "print(\"Q is\")\n",
        "print(Q)\n",
        "print(\"R is\")\n",
        "print(R)\n",
        "print(\"Q*R gives back original matrix C\")\n",
        "print(multiply(Q,R))\n",
        "_,Sigma,_=np.linalg.svd(U)\n",
        "print(\"Sigma of U is \")\n",
        "print(Sigma)\n"
      ],
      "metadata": {
        "colab": {
          "base_uri": "https://localhost:8080/"
        },
        "id": "-sGZVU72PlJd",
        "outputId": "37271dd7-c152-4c98-ed3e-12d042b97a13"
      },
      "execution_count": 69,
      "outputs": [
        {
          "output_type": "stream",
          "name": "stdout",
          "text": [
            "[[ 638.  268.  289.  320.  256.]\n",
            " [ 268.  607.  229.  151.  292.]\n",
            " [ 289.  229.  459.  170.  402.]\n",
            " [ 320.  151.  170.  512.  328.]\n",
            " [ 256.  292.  402.  328. 1204.]]\n",
            "random 5 x 4 matrix having all its columns as linearly independent is as follows\n",
            "[[-0.39147803  0.60401471 -0.25609444  0.2904493 ]\n",
            " [-0.34771551  0.33392172  0.7764261  -0.4041642 ]\n",
            " [-0.37124671  0.0887041   0.11173508  0.66585565]\n",
            " [-0.34121773  0.2356198  -0.56422846 -0.55393318]\n",
            " [-0.68672063 -0.67843747 -0.02719677 -0.04565941]]\n",
            "(5, 4)\n",
            "Q is\n",
            "[[-0.39147803  0.60401471 -0.25609444  0.2904493 ]\n",
            " [-0.34771551  0.33392172  0.7764261  -0.4041642 ]\n",
            " [-0.37124671  0.0887041   0.11173508  0.66585565]\n",
            " [-0.34121773  0.2356198  -0.56422846 -0.55393318]\n",
            " [-0.68672063 -0.67843747 -0.02719677 -0.04565941]]\n",
            "R is\n",
            "[[ 1.00000000e+00  1.66533454e-16  2.77555756e-17  1.38777878e-17]\n",
            " [-5.55111512e-17  1.00000000e+00  9.71445147e-17 -1.42247325e-16]\n",
            " [-2.08166817e-17  6.93889390e-18  1.00000000e+00  5.59448321e-17]\n",
            " [ 1.38777878e-17  3.12250226e-17 -4.96564595e-17  1.00000000e+00]]\n",
            "Q*R gives back original matrix C\n",
            "[[-0.39147803  0.60401471 -0.25609444  0.2904493 ]\n",
            " [-0.34771551  0.33392172  0.7764261  -0.4041642 ]\n",
            " [-0.37124671  0.0887041   0.11173508  0.66585565]\n",
            " [-0.34121773  0.2356198  -0.56422846 -0.55393318]\n",
            " [-0.68672063 -0.67843747 -0.02719677 -0.04565941]]\n",
            "Sigma of U is \n",
            "[1. 1. 1. 1. 1.]\n"
          ]
        }
      ]
    },
    {
      "cell_type": "code",
      "source": [],
      "metadata": {
        "colab": {
          "base_uri": "https://localhost:8080/"
        },
        "id": "HhjoiFlhPxIQ",
        "outputId": "561e3935-ff5b-46a4-953c-c4f86b70bd06"
      },
      "execution_count": 48,
      "outputs": [
        {
          "output_type": "execute_result",
          "data": {
            "text/plain": [
              "90.0"
            ]
          },
          "metadata": {},
          "execution_count": 48
        }
      ]
    }
  ]
}