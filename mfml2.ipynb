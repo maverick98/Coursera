{
  "nbformat": 4,
  "nbformat_minor": 0,
  "metadata": {
    "colab": {
      "provenance": [],
      "authorship_tag": "ABX9TyNo8irFv6eAMQoEESwlzExq",
      "include_colab_link": true
    },
    "kernelspec": {
      "name": "python3",
      "display_name": "Python 3"
    },
    "language_info": {
      "name": "python"
    }
  },
  "cells": [
    {
      "cell_type": "markdown",
      "metadata": {
        "id": "view-in-github",
        "colab_type": "text"
      },
      "source": [
        "<a href=\"https://colab.research.google.com/github/maverick98/Coursera/blob/master/mfml2.ipynb\" target=\"_parent\"><img src=\"https://colab.research.google.com/assets/colab-badge.svg\" alt=\"Open In Colab\"/></a>"
      ]
    },
    {
      "cell_type": "code",
      "source": [
        "import numpy as np\n",
        "from functools import reduce"
      ],
      "metadata": {
        "id": "g9eeOve-FL6H"
      },
      "execution_count": null,
      "outputs": []
    },
    {
      "cell_type": "code",
      "source": [
        "def create_random_invertible_matrix(n=5):\n",
        "    A = np.random.randint(low=0,high=10,size=(n, n))\n",
        "    mx = np.sum(np.abs(A), axis=1)\n",
        "    np.fill_diagonal(A, mx)\n",
        "    A=A.astype(float)\n",
        "    return A\n",
        "def transpose(A):\n",
        "    n=A.shape[0]\n",
        "    A_T=np.zeros((n,n))\n",
        "    for i in range(n):\n",
        "        A_T[i]=A[:,i]\n",
        "    return A_T\n",
        "def multiply(A,B):\n",
        "    if A.shape[1] != B.shape[0]:\n",
        "       print(\"Illegal multiplication\")\n",
        "       return\n",
        "    m=A.shape[0]\n",
        "    n=A.shape[1]\n",
        "    p=B.shape[1]\n",
        "    C=np.zeros((m,p))\n",
        "    for i in range(m):\n",
        "        for k in range(p):\n",
        "            for j in range(n):\n",
        "                C[i][k]+=A[i][j]*B[j][k]\n",
        "\n",
        "    return C\n",
        "\n",
        "def create_random_symmetric_positive_definite_matrix(n):\n",
        "    A=create_random_invertible_matrix(n)\n",
        "    A_T=transpose(A)\n",
        "    return multiply(A,A_T)\n",
        "\n",
        "def create_identity_matrix(n):\n",
        "     I=np.zeros((n,n))\n",
        "     for i in range(n):\n",
        "         I[i][i]=1\n",
        "     return I\n",
        "\n",
        "\n",
        "\n",
        "#Elementary row operations\n",
        "def const_multiple(A,i,c):\n",
        "    A[i]*=c\n",
        "def exchange_rows(A,i,j):\n",
        "    A[[i,j]] = A[[j,i]]\n",
        "def add_const_row_multiple(A,i,j,c):\n",
        "    A[i]+=A[j]*c\n",
        "\n",
        "def find_pivot_row(A, curr_pivot_row, col):\n",
        "    rows = A.shape[0]\n",
        "    for row in range(curr_pivot_row, rows):\n",
        "        if A[row, col] != 0.0:\n",
        "            return row\n",
        "    return None\n",
        "\n",
        "\n",
        "\n",
        "\n",
        "def convert_pivot_row_column_values_to_zero_below(A,pivot_row,col,elementary_matrices):\n",
        "    n=A.shape[0]\n",
        "    rows = A.shape[0]\n",
        "\n",
        "    for row in range(pivot_row+1, rows):\n",
        "        const_multiplier=A[row][col]/A[pivot_row][col]\n",
        "        elementary_matrix=create_identity_matrix(n)\n",
        "        elementary_matrix[row][col]=const_multiplier\n",
        "        elementary_matrices.append(elementary_matrix)\n",
        "        #print('subtracting {}*A[{}] from A[{}]'.format(const_multiplier, pivot_row,row))\n",
        "        A[row] -=const_multiplier*A[pivot_row]\n",
        "    return elementary_matrices\n",
        "\n",
        "def calculate_row_echelon_form(A):\n",
        "    n=A.shape[0]\n",
        "\n",
        "    pivot_row_cols=[]\n",
        "    pivot_cols=[]\n",
        "    non_pivot_cols=[]\n",
        "    rows=A.shape[0]\n",
        "    cols=A.shape[1]\n",
        "    elementary_matrices=[]\n",
        "    permutation_matrices=[]\n",
        "\n",
        "\n",
        "    curr_pivot_row=0\n",
        "    for col in range(cols):\n",
        "        nonzero_row = find_pivot_row(A, curr_pivot_row, col)\n",
        "        if nonzero_row is not None:\n",
        "            if curr_pivot_row != nonzero_row:\n",
        "                exchange_rows(A,curr_pivot_row,nonzero_row)\n",
        "                perm_matrix=create_identity_matrix(n)\n",
        "                exchange_rows(perm_matrix,curr_pivot_row,nonzero_row)\n",
        "                permutation_matrices.append(perm_matrix)\n",
        "                perm_matrix_inverse=transpose(perm_matrix)\n",
        "                elementary_matrices.append(perm_matrix_inverse)\n",
        "            pivot_row_cols.append((curr_pivot_row,col))\n",
        "            convert_pivot_row_column_values_to_zero_below(A,curr_pivot_row,col,elementary_matrices)\n",
        "            curr_pivot_row+=1\n",
        "        else:\n",
        "            print('Stopping...')\n",
        "            if len(elementary_matrices) == 0:\n",
        "               elementary_matrices.append(create_identity_matrix(n))\n",
        "            return elementary_matrices,permutation_matrices\n",
        "\n",
        "\n",
        "    return elementary_matrices,permutation_matrices\n",
        "\n",
        "def multiply_all_matrices(matrices):\n",
        "    n=matrices[0].shape[0]\n",
        "    I=create_identity_matrix(n)\n",
        "    #product = reduce(lambda x, y: multiply(x,y), matrices,I)\n",
        "    product=I\n",
        "    for matrix in matrices:\n",
        "        product=multiply(product,matrix)\n",
        "    return product"
      ],
      "metadata": {
        "id": "YAlpCoUKkEfC"
      },
      "execution_count": 12,
      "outputs": []
    },
    {
      "cell_type": "code",
      "source": [
        "def calculate_LU_Decomposition(A):\n",
        "    print('Input matrix is ')\n",
        "    print(A)\n",
        "    print('---------')\n",
        "    elementary_matrices,permutation_matrices=calculate_row_echelon_form(A)\n",
        "    print('U is')\n",
        "    print(A)\n",
        "    print('-----')\n",
        "    L=multiply_all_matrices(elementary_matrices)\n",
        "    L_modified=L\n",
        "    print('------')\n",
        "    if len(permutation_matrices) >0:\n",
        "\n",
        "       for permutation_matrix in permutation_matrices:\n",
        "           L_modified=multiply(permutation_matrix,L_modified)\n",
        "\n",
        "    L=L_modified\n",
        "    print(\"L is\")\n",
        "    print(L)\n",
        "    print('------')\n",
        "\n",
        "    if len(permutation_matrices) >0:\n",
        "        print('perm matrices are {}'.format(len(permutation_matrices)))\n",
        "        P=multiply_all_matrices(permutation_matrices)\n",
        "        print(P)\n",
        "        print('**********')\n",
        "\n",
        "\n",
        "    #print('Elementary matrices are')\n",
        "    #for elementary_matrix in elementary_matrices:\n",
        "    #    print(elementary_matrix)\n",
        "    #    print('***')"
      ],
      "metadata": {
        "id": "htyby7QMx421"
      },
      "execution_count": 13,
      "outputs": []
    },
    {
      "cell_type": "code",
      "source": [],
      "metadata": {
        "colab": {
          "base_uri": "https://localhost:8080/"
        },
        "id": "i5Xhs1uvCeAe",
        "outputId": "97c3e598-e3d8-4bbe-f379-ca27fa919098"
      },
      "execution_count": null,
      "outputs": [
        {
          "output_type": "execute_result",
          "data": {
            "text/plain": [
              "1"
            ]
          },
          "metadata": {},
          "execution_count": 66
        }
      ]
    },
    {
      "cell_type": "code",
      "source": [
        "A = np.array([[ 1 ,1,1 ], [1,1,3], [2,5,8]])\n",
        "A=A.astype(float)\n",
        "calculate_LU_Decomposition(A)\n"
      ],
      "metadata": {
        "colab": {
          "base_uri": "https://localhost:8080/"
        },
        "id": "vU3ZMMbhq3kj",
        "outputId": "bf4e3d51-8461-46d3-f99c-305fd4d816d0"
      },
      "execution_count": 14,
      "outputs": [
        {
          "output_type": "stream",
          "name": "stdout",
          "text": [
            "Input matrix is \n",
            "[[1. 1. 1.]\n",
            " [1. 1. 3.]\n",
            " [2. 5. 8.]]\n",
            "---------\n",
            "U is\n",
            "[[1. 1. 1.]\n",
            " [0. 3. 6.]\n",
            " [0. 0. 2.]]\n",
            "-----\n",
            "------\n",
            "L is\n",
            "[[1. 0. 0.]\n",
            " [2. 1. 0.]\n",
            " [1. 0. 1.]]\n",
            "------\n",
            "perm matrices are 1\n",
            "[[1. 0. 0.]\n",
            " [0. 0. 1.]\n",
            " [0. 1. 0.]]\n",
            "**********\n"
          ]
        }
      ]
    },
    {
      "cell_type": "code",
      "source": [
        "A = np.array([[ 10 ,45,0 ], [10,34,0], [10,118,0]])\n",
        "A=A.astype(float)\n",
        "calculate_LU_Decomposition(A)\n"
      ],
      "metadata": {
        "colab": {
          "base_uri": "https://localhost:8080/"
        },
        "id": "CaLeAejFG3eF",
        "outputId": "627b06a6-a919-4087-ac50-6218185b31a6"
      },
      "execution_count": 15,
      "outputs": [
        {
          "output_type": "stream",
          "name": "stdout",
          "text": [
            "Input matrix is \n",
            "[[ 10.  45.   0.]\n",
            " [ 10.  34.   0.]\n",
            " [ 10. 118.   0.]]\n",
            "---------\n",
            "Stopping...\n",
            "U is\n",
            "[[ 10.  45.   0.]\n",
            " [  0. -11.   0.]\n",
            " [  0.   0.   0.]]\n",
            "-----\n",
            "------\n",
            "L is\n",
            "[[ 1.          0.          0.        ]\n",
            " [ 1.          1.          0.        ]\n",
            " [ 1.         -6.63636364  1.        ]]\n",
            "------\n"
          ]
        }
      ]
    },
    {
      "cell_type": "code",
      "source": [
        "A = np.array([[ 10 ,0,45 ], [10,0,34], [10,0,118]])\n",
        "A=A.astype(float)\n",
        "calculate_LU_Decomposition(A)\n"
      ],
      "metadata": {
        "colab": {
          "base_uri": "https://localhost:8080/"
        },
        "id": "FB0iiNwNIGAV",
        "outputId": "f8a2ccfd-0328-4729-f095-8d6963de73d1"
      },
      "execution_count": 16,
      "outputs": [
        {
          "output_type": "stream",
          "name": "stdout",
          "text": [
            "Input matrix is \n",
            "[[ 10.   0.  45.]\n",
            " [ 10.   0.  34.]\n",
            " [ 10.   0. 118.]]\n",
            "---------\n",
            "Stopping...\n",
            "U is\n",
            "[[ 10.   0.  45.]\n",
            " [  0.   0. -11.]\n",
            " [  0.   0.  73.]]\n",
            "-----\n",
            "------\n",
            "L is\n",
            "[[1. 0. 0.]\n",
            " [1. 1. 0.]\n",
            " [1. 0. 1.]]\n",
            "------\n"
          ]
        }
      ]
    },
    {
      "cell_type": "code",
      "source": [
        "A = np.array([[ 0,10,45 ], [0,10,34], [0,10,118]])\n",
        "A=A.astype(float)\n",
        "calculate_LU_Decomposition(A)"
      ],
      "metadata": {
        "colab": {
          "base_uri": "https://localhost:8080/"
        },
        "id": "J1nZ6wnltX98",
        "outputId": "9946b4ac-2226-40c3-d825-875580f6a12e"
      },
      "execution_count": 17,
      "outputs": [
        {
          "output_type": "stream",
          "name": "stdout",
          "text": [
            "Input matrix is \n",
            "[[  0.  10.  45.]\n",
            " [  0.  10.  34.]\n",
            " [  0.  10. 118.]]\n",
            "---------\n",
            "Stopping...\n",
            "U is\n",
            "[[  0.  10.  45.]\n",
            " [  0.  10.  34.]\n",
            " [  0.  10. 118.]]\n",
            "-----\n",
            "------\n",
            "L is\n",
            "[[1. 0. 0.]\n",
            " [0. 1. 0.]\n",
            " [0. 0. 1.]]\n",
            "------\n"
          ]
        }
      ]
    },
    {
      "cell_type": "markdown",
      "source": [],
      "metadata": {
        "id": "OkrfVMa6q3Xl"
      }
    },
    {
      "cell_type": "code",
      "source": [
        "A=create_random_symmetric_positive_definite_matrix(n=3)\n",
        "A"
      ],
      "metadata": {
        "colab": {
          "base_uri": "https://localhost:8080/"
        },
        "id": "PxlzITikkLJk",
        "outputId": "7a5215de-6b84-46da-c482-3307a1da1595"
      },
      "execution_count": 18,
      "outputs": [
        {
          "output_type": "execute_result",
          "data": {
            "text/plain": [
              "array([[285., 163., 129.],\n",
              "       [163., 467., 207.],\n",
              "       [129., 207., 243.]])"
            ]
          },
          "metadata": {},
          "execution_count": 18
        }
      ]
    },
    {
      "cell_type": "code",
      "source": [
        "calculate_LU_Decomposition(A)"
      ],
      "metadata": {
        "colab": {
          "base_uri": "https://localhost:8080/"
        },
        "id": "BHdpzR1111d8",
        "outputId": "25abfc40-a25e-4548-d610-ad83d487bae7"
      },
      "execution_count": 24,
      "outputs": [
        {
          "output_type": "stream",
          "name": "stdout",
          "text": [
            "Input matrix is \n",
            "[[285.         163.         129.        ]\n",
            " [  0.         373.7754386  133.22105263]\n",
            " [  0.           0.         137.12787489]]\n",
            "---------\n",
            "U is\n",
            "[[285.         163.         129.        ]\n",
            " [  0.         373.7754386  133.22105263]\n",
            " [  0.           0.         137.12787489]]\n",
            "-----\n",
            "------\n",
            "L is\n",
            "[[1. 0. 0.]\n",
            " [0. 1. 0.]\n",
            " [0. 0. 1.]]\n",
            "------\n"
          ]
        }
      ]
    },
    {
      "cell_type": "code",
      "source": [
        "k=1\n",
        "for i in range(k):\n",
        "    print(i)"
      ],
      "metadata": {
        "colab": {
          "base_uri": "https://localhost:8080/"
        },
        "id": "W8-fr-qH53UR",
        "outputId": "ad57fb94-ce5b-4a85-b77f-bce3ce153ae9"
      },
      "execution_count": 84,
      "outputs": [
        {
          "output_type": "stream",
          "name": "stdout",
          "text": [
            "0\n"
          ]
        }
      ]
    },
    {
      "cell_type": "code",
      "source": [
        "def cholesky_decomposition(A):\n",
        "    n=A.shape[0]\n",
        "    L=np.zeros((n,n)).astype(float)\n",
        "    for i in range(n):\n",
        "        for j in range(i+1):\n",
        "            if i==j:\n",
        "               l_sum=0\n",
        "               for k in range(j):\n",
        "                    l_sum+=L[j][k]*L[j][k]\n",
        "               L[i][j]=np.sqrt(A[i][j]-l_sum)\n",
        "            else:\n",
        "                l_sum=0\n",
        "                for k in range(j):\n",
        "                    l_sum+=L[i][k]*L[j][k]\n",
        "                L[i][j]= (A[i][j]-l_sum)/L[j][j]\n",
        "    return L,transpose(L)\n"
      ],
      "metadata": {
        "id": "0391sHqx4dAk"
      },
      "execution_count": 134,
      "outputs": []
    },
    {
      "cell_type": "code",
      "source": [
        "A = np.array([[ 4,12,-16 ], [12,37,-43], [-16,-43,98]])\n",
        "A=A.astype(float)\n",
        "#calculate_LU_Decomposition(A)\n",
        "L,L_T=cholesky_decomposition(A)\n",
        "L,L_T"
      ],
      "metadata": {
        "colab": {
          "base_uri": "https://localhost:8080/"
        },
        "id": "kdlySOP8Cj8u",
        "outputId": "3a7d069e-13d2-4126-a014-7dc8962c5589"
      },
      "execution_count": 140,
      "outputs": [
        {
          "output_type": "execute_result",
          "data": {
            "text/plain": [
              "(array([[ 2.,  0.,  0.],\n",
              "        [ 6.,  1.,  0.],\n",
              "        [-8.,  5.,  3.]]),\n",
              " array([[ 2.,  6., -8.],\n",
              "        [ 0.,  1.,  5.],\n",
              "        [ 0.,  0.,  3.]]))"
            ]
          },
          "metadata": {},
          "execution_count": 140
        }
      ]
    }
  ]
}